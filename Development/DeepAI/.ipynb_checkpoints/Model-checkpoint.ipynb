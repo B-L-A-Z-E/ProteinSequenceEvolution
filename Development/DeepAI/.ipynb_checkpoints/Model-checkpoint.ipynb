{
 "cells": [
  {
   "cell_type": "markdown",
   "metadata": {
    "ExecuteTime": {
     "end_time": "2019-02-09T09:28:16.945588Z",
     "start_time": "2019-02-09T09:28:16.942768Z"
    },
    "heading_collapsed": true
   },
   "source": [
    "## Length Analysis"
   ]
  },
  {
   "cell_type": "code",
   "execution_count": 1,
   "metadata": {
    "ExecuteTime": {
     "end_time": "2019-02-09T09:23:18.344498Z",
     "start_time": "2019-02-09T09:23:18.004457Z"
    },
    "hidden": true
   },
   "outputs": [],
   "source": [
    "%matplotlib inline"
   ]
  },
  {
   "cell_type": "code",
   "execution_count": 7,
   "metadata": {
    "ExecuteTime": {
     "end_time": "2019-02-09T09:23:43.459339Z",
     "start_time": "2019-02-09T09:23:43.456148Z"
    },
    "hidden": true
   },
   "outputs": [],
   "source": [
    "# Import library and dataset\n",
    "import pandas as pd\n",
    "import seaborn as sns\n",
    "import matplotlib.pyplot as plt"
   ]
  },
  {
   "cell_type": "code",
   "execution_count": 8,
   "metadata": {
    "ExecuteTime": {
     "end_time": "2019-02-09T09:23:43.941870Z",
     "start_time": "2019-02-09T09:23:43.816150Z"
    },
    "hidden": true
   },
   "outputs": [
    {
     "name": "stdout",
     "output_type": "stream",
     "text": [
      "\u001b[34mCATH\u001b[m\u001b[m           \u001b[30m\u001b[43mFamilyProfiles\u001b[m\u001b[m \u001b[30m\u001b[43mProfiles\u001b[m\u001b[m       \u001b[30m\u001b[43mTMalign\u001b[m\u001b[m        dataset.csv\r\n",
      "\u001b[30m\u001b[43mConfig\u001b[m\u001b[m         \u001b[31mMakefile\u001b[m\u001b[m       \u001b[31mREADME.md\u001b[m\u001b[m      \u001b[30m\u001b[43m_History\u001b[m\u001b[m       \u001b[30m\u001b[43msrc\u001b[m\u001b[m\r\n",
      "\u001b[30m\u001b[43mDevelopment\u001b[m\u001b[m    \u001b[31mNewProtEvol\u001b[m\u001b[m    \u001b[30m\u001b[43mSTRIDE\u001b[m\u001b[m         \u001b[30m\u001b[43m_Tests\u001b[m\u001b[m\r\n"
     ]
    }
   ],
   "source": [
    "!ls ../../"
   ]
  },
  {
   "cell_type": "code",
   "execution_count": 9,
   "metadata": {
    "ExecuteTime": {
     "end_time": "2019-02-09T09:23:44.366102Z",
     "start_time": "2019-02-09T09:23:44.363094Z"
    },
    "hidden": true
   },
   "outputs": [],
   "source": [
    "PATH = '../../'\n",
    "DIR = 'FamilyProfiles/'"
   ]
  },
  {
   "cell_type": "code",
   "execution_count": 10,
   "metadata": {
    "ExecuteTime": {
     "end_time": "2019-02-09T09:23:49.263997Z",
     "start_time": "2019-02-09T09:23:44.946219Z"
    },
    "hidden": true
   },
   "outputs": [],
   "source": [
    "import os\n",
    "\n",
    "Lengths, TemplateCounts = [], []\n",
    "for file in os.listdir(PATH + DIR):\n",
    "    if not file.startswith(\"Family\"): continue\n",
    "    with open(PATH + DIR + file) as fFamily:\n",
    "        tokens = fFamily.read().split()\n",
    "        Lengths.append(int(tokens[5]))\n",
    "        TemplateCounts.append(int(tokens[7]))"
   ]
  },
  {
   "cell_type": "code",
   "execution_count": 11,
   "metadata": {
    "ExecuteTime": {
     "end_time": "2019-02-09T09:23:50.000919Z",
     "start_time": "2019-02-09T09:23:49.274247Z"
    },
    "hidden": true
   },
   "outputs": [
    {
     "data": {
      "text/plain": [
       "[Text(0.5,0,'')]"
      ]
     },
     "execution_count": 11,
     "metadata": {},
     "output_type": "execute_result"
    },
    {
     "data": {
      "image/png": "[encoded data removed]",
      "text/plain": [
       "<matplotlib.figure.Figure at 0x113ff5400>"
      ]
     },
     "metadata": {},
     "output_type": "display_data"
    }
   ],
   "source": [
    "# Cut the window in 2 parts\n",
    "f, (ax_box, ax_hist) = plt.subplots(2, sharex=True, gridspec_kw={\"height_ratios\": (.2, .8)}, figsize=[12, 10])\n",
    " \n",
    "# Add a graph in each part\n",
    "sns.boxplot(Lengths, ax=ax_box)\n",
    "sns.distplot(Lengths, ax=ax_hist)\n",
    " \n",
    "# Remove x axis name for the boxplot\n",
    "ax_box.set(xlabel='')"
   ]
  },
  {
   "cell_type": "code",
   "execution_count": 12,
   "metadata": {
    "ExecuteTime": {
     "end_time": "2019-02-09T09:23:52.318404Z",
     "start_time": "2019-02-09T09:23:52.314139Z"
    },
    "hidden": true,
    "scrolled": true
   },
   "outputs": [
    {
     "data": {
      "text/plain": [
       "1858524"
      ]
     },
     "execution_count": 12,
     "metadata": {},
     "output_type": "execute_result"
    }
   ],
   "source": [
    "sum(TemplateCounts)"
   ]
  },
  {
   "cell_type": "markdown",
   "metadata": {},
   "source": [
    "## Regression Model"
   ]
  },
  {
   "cell_type": "markdown",
   "metadata": {
    "ExecuteTime": {
     "end_time": "2019-02-09T17:02:58.737703Z",
     "start_time": "2019-02-09T17:02:58.734917Z"
    }
   },
   "source": [
    "### Load data"
   ]
  },
  {
   "cell_type": "code",
   "execution_count": 1,
   "metadata": {
    "ExecuteTime": {
     "end_time": "2019-02-09T17:16:35.209650Z",
     "start_time": "2019-02-09T17:16:34.644968Z"
    }
   },
   "outputs": [
    {
     "data": {
      "text/html": [
       "<style>.container { width:80% !important; }</style>"
      ],
      "text/plain": [
       "<IPython.core.display.HTML object>"
      ]
     },
     "metadata": {},
     "output_type": "display_data"
    }
   ],
   "source": [
    "from IPython.core.display import display, HTML\n",
    "display(HTML(\"<style>.container { width:80% !important; }</style>\"))\n",
    "%matplotlib inline"
   ]
  },
  {
   "cell_type": "code",
   "execution_count": 29,
   "metadata": {
    "ExecuteTime": {
     "end_time": "2019-02-09T19:31:02.594062Z",
     "start_time": "2019-02-09T19:31:02.590976Z"
    }
   },
   "outputs": [],
   "source": [
    "import os\n",
    "os.environ['KMP_DUPLICATE_LIB_OK']='True'"
   ]
  },
  {
   "cell_type": "code",
   "execution_count": 30,
   "metadata": {
    "ExecuteTime": {
     "end_time": "2019-02-09T19:31:03.367915Z",
     "start_time": "2019-02-09T19:31:03.364591Z"
    }
   },
   "outputs": [],
   "source": [
    "import plaidml.keras\n",
    "plaidml.keras.install_backend()"
   ]
  },
  {
   "cell_type": "code",
   "execution_count": 31,
   "metadata": {
    "ExecuteTime": {
     "end_time": "2019-02-09T19:31:04.321431Z",
     "start_time": "2019-02-09T19:31:04.318029Z"
    }
   },
   "outputs": [],
   "source": [
    "import pandas as pd\n",
    "import matplotlib.pyplot as plt\n",
    "import seaborn as sns\n",
    "import numpy as np"
   ]
  },
  {
   "cell_type": "code",
   "execution_count": 4,
   "metadata": {
    "ExecuteTime": {
     "end_time": "2019-02-09T17:16:39.204171Z",
     "start_time": "2019-02-09T17:16:39.201061Z"
    }
   },
   "outputs": [],
   "source": [
    "DPATH = 'dataset.csv'"
   ]
  },
  {
   "cell_type": "code",
   "execution_count": 5,
   "metadata": {
    "ExecuteTime": {
     "end_time": "2019-02-09T17:16:39.872036Z",
     "start_time": "2019-02-09T17:16:39.867252Z"
    }
   },
   "outputs": [],
   "source": [
    "AAlist = [\n",
    "    'A', 'R', 'N', 'D', 'C', 'Q', 'E', 'G', 'H', 'I', 'L', 'K', 'M', 'F', 'P',\n",
    "    'S', 'T', 'W', 'Y', 'V'\n",
    "]\n",
    "pdHeader = ['ID', 'Solvent', 'SecondaryS', 'Alignment', 'DFIRE2'\n",
    "            ] + ['Pot_' + AA\n",
    "                 for AA in AAlist] + ['Freq_' + AA\n",
    "                                      for AA in AAlist] + ['Fitness']"
   ]
  },
  {
   "cell_type": "code",
   "execution_count": 6,
   "metadata": {
    "ExecuteTime": {
     "end_time": "2019-02-09T17:16:41.626433Z",
     "start_time": "2019-02-09T17:16:40.587901Z"
    }
   },
   "outputs": [
    {
     "data": {
      "text/html": [
       "<div>\n",
       "<style scoped>\n",
       "    .dataframe tbody tr th:only-of-type {\n",
       "        vertical-align: middle;\n",
       "    }\n",
       "\n",
       "    .dataframe tbody tr th {\n",
       "        vertical-align: top;\n",
       "    }\n",
       "\n",
       "    .dataframe thead th {\n",
       "        text-align: right;\n",
       "    }\n",
       "</style>\n",
       "<table border=\"1\" class=\"dataframe\">\n",
       "  <thead>\n",
       "    <tr style=\"text-align: right;\">\n",
       "      <th></th>\n",
       "      <th>ID</th>\n",
       "      <th>Solvent</th>\n",
       "      <th>SecondaryS</th>\n",
       "      <th>Alignment</th>\n",
       "      <th>DFIRE2</th>\n",
       "      <th>Pot_A</th>\n",
       "      <th>Pot_R</th>\n",
       "      <th>Pot_N</th>\n",
       "      <th>Pot_D</th>\n",
       "      <th>Pot_C</th>\n",
       "      <th>...</th>\n",
       "      <th>Freq_K</th>\n",
       "      <th>Freq_M</th>\n",
       "      <th>Freq_F</th>\n",
       "      <th>Freq_P</th>\n",
       "      <th>Freq_S</th>\n",
       "      <th>Freq_T</th>\n",
       "      <th>Freq_W</th>\n",
       "      <th>Freq_Y</th>\n",
       "      <th>Freq_V</th>\n",
       "      <th>Fitness</th>\n",
       "    </tr>\n",
       "  </thead>\n",
       "  <tbody>\n",
       "    <tr>\n",
       "      <th>0</th>\n",
       "      <td>3ce9A01-1iqcA02-154</td>\n",
       "      <td>1.10332</td>\n",
       "      <td>1.11589</td>\n",
       "      <td>0.210212</td>\n",
       "      <td>-3.34437</td>\n",
       "      <td>1.867020</td>\n",
       "      <td>-0.329162</td>\n",
       "      <td>4.604260</td>\n",
       "      <td>1.256290</td>\n",
       "      <td>1.16004</td>\n",
       "      <td>...</td>\n",
       "      <td>0.709290</td>\n",
       "      <td>1.600730</td>\n",
       "      <td>0.969261</td>\n",
       "      <td>0.647722</td>\n",
       "      <td>1.540010</td>\n",
       "      <td>0.869046</td>\n",
       "      <td>1.735630</td>\n",
       "      <td>0.955530</td>\n",
       "      <td>1.730530</td>\n",
       "      <td>0.28139</td>\n",
       "    </tr>\n",
       "    <tr>\n",
       "      <th>1</th>\n",
       "      <td>3ce9A01-1eavA00-154</td>\n",
       "      <td>1.14688</td>\n",
       "      <td>1.18029</td>\n",
       "      <td>0.230569</td>\n",
       "      <td>-3.80797</td>\n",
       "      <td>2.420280</td>\n",
       "      <td>-0.271734</td>\n",
       "      <td>0.315953</td>\n",
       "      <td>3.354960</td>\n",
       "      <td>0.00000</td>\n",
       "      <td>...</td>\n",
       "      <td>0.244186</td>\n",
       "      <td>0.864045</td>\n",
       "      <td>0.888700</td>\n",
       "      <td>1.801730</td>\n",
       "      <td>1.221180</td>\n",
       "      <td>1.248070</td>\n",
       "      <td>0.613874</td>\n",
       "      <td>1.731540</td>\n",
       "      <td>0.816842</td>\n",
       "      <td>0.43198</td>\n",
       "    </tr>\n",
       "    <tr>\n",
       "      <th>2</th>\n",
       "      <td>3ce9A01-2l6hA00-154</td>\n",
       "      <td>1.13107</td>\n",
       "      <td>1.09655</td>\n",
       "      <td>0.246301</td>\n",
       "      <td>-4.08383</td>\n",
       "      <td>0.385006</td>\n",
       "      <td>-0.188539</td>\n",
       "      <td>-0.458263</td>\n",
       "      <td>1.023380</td>\n",
       "      <td>0.00000</td>\n",
       "      <td>...</td>\n",
       "      <td>0.476738</td>\n",
       "      <td>2.833120</td>\n",
       "      <td>2.003480</td>\n",
       "      <td>0.263055</td>\n",
       "      <td>1.221180</td>\n",
       "      <td>0.268033</td>\n",
       "      <td>0.613874</td>\n",
       "      <td>0.179524</td>\n",
       "      <td>0.202107</td>\n",
       "      <td>0.24474</td>\n",
       "    </tr>\n",
       "    <tr>\n",
       "      <th>3</th>\n",
       "      <td>3ce9A01-1nvmB02-154</td>\n",
       "      <td>1.12012</td>\n",
       "      <td>1.14180</td>\n",
       "      <td>0.263712</td>\n",
       "      <td>-3.68849</td>\n",
       "      <td>0.321031</td>\n",
       "      <td>-0.341497</td>\n",
       "      <td>-0.457396</td>\n",
       "      <td>0.030274</td>\n",
       "      <td>0.00000</td>\n",
       "      <td>...</td>\n",
       "      <td>0.453469</td>\n",
       "      <td>0.779141</td>\n",
       "      <td>0.517108</td>\n",
       "      <td>1.417060</td>\n",
       "      <td>0.902358</td>\n",
       "      <td>0.268033</td>\n",
       "      <td>0.613874</td>\n",
       "      <td>0.208480</td>\n",
       "      <td>1.071580</td>\n",
       "      <td>0.30722</td>\n",
       "    </tr>\n",
       "    <tr>\n",
       "      <th>4</th>\n",
       "      <td>3ce9A01-4gl8A01-154</td>\n",
       "      <td>1.11168</td>\n",
       "      <td>1.11525</td>\n",
       "      <td>0.209374</td>\n",
       "      <td>-3.41074</td>\n",
       "      <td>0.270029</td>\n",
       "      <td>-0.343361</td>\n",
       "      <td>0.338566</td>\n",
       "      <td>0.321517</td>\n",
       "      <td>0.00000</td>\n",
       "      <td>...</td>\n",
       "      <td>0.941841</td>\n",
       "      <td>0.779141</td>\n",
       "      <td>0.597669</td>\n",
       "      <td>0.263055</td>\n",
       "      <td>1.858830</td>\n",
       "      <td>0.647059</td>\n",
       "      <td>1.735630</td>\n",
       "      <td>0.984486</td>\n",
       "      <td>0.202107</td>\n",
       "      <td>0.34840</td>\n",
       "    </tr>\n",
       "  </tbody>\n",
       "</table>\n",
       "<p>5 rows × 46 columns</p>\n",
       "</div>"
      ],
      "text/plain": [
       "                    ID  Solvent  SecondaryS  Alignment   DFIRE2     Pot_A  \\\n",
       "0  3ce9A01-1iqcA02-154  1.10332     1.11589   0.210212 -3.34437  1.867020   \n",
       "1  3ce9A01-1eavA00-154  1.14688     1.18029   0.230569 -3.80797  2.420280   \n",
       "2  3ce9A01-2l6hA00-154  1.13107     1.09655   0.246301 -4.08383  0.385006   \n",
       "3  3ce9A01-1nvmB02-154  1.12012     1.14180   0.263712 -3.68849  0.321031   \n",
       "4  3ce9A01-4gl8A01-154  1.11168     1.11525   0.209374 -3.41074  0.270029   \n",
       "\n",
       "      Pot_R     Pot_N     Pot_D    Pot_C  ...    Freq_K    Freq_M    Freq_F  \\\n",
       "0 -0.329162  4.604260  1.256290  1.16004  ...  0.709290  1.600730  0.969261   \n",
       "1 -0.271734  0.315953  3.354960  0.00000  ...  0.244186  0.864045  0.888700   \n",
       "2 -0.188539 -0.458263  1.023380  0.00000  ...  0.476738  2.833120  2.003480   \n",
       "3 -0.341497 -0.457396  0.030274  0.00000  ...  0.453469  0.779141  0.517108   \n",
       "4 -0.343361  0.338566  0.321517  0.00000  ...  0.941841  0.779141  0.597669   \n",
       "\n",
       "     Freq_P    Freq_S    Freq_T    Freq_W    Freq_Y    Freq_V  Fitness  \n",
       "0  0.647722  1.540010  0.869046  1.735630  0.955530  1.730530  0.28139  \n",
       "1  1.801730  1.221180  1.248070  0.613874  1.731540  0.816842  0.43198  \n",
       "2  0.263055  1.221180  0.268033  0.613874  0.179524  0.202107  0.24474  \n",
       "3  1.417060  0.902358  0.268033  0.613874  0.208480  1.071580  0.30722  \n",
       "4  0.263055  1.858830  0.647059  1.735630  0.984486  0.202107  0.34840  \n",
       "\n",
       "[5 rows x 46 columns]"
      ]
     },
     "execution_count": 6,
     "metadata": {},
     "output_type": "execute_result"
    }
   ],
   "source": [
    "df = pd.read_csv(DPATH, names=pdHeader)\n",
    "df.head()"
   ]
  },
  {
   "cell_type": "code",
   "execution_count": 7,
   "metadata": {
    "ExecuteTime": {
     "end_time": "2019-02-09T17:16:48.118831Z",
     "start_time": "2019-02-09T17:16:47.571594Z"
    },
    "scrolled": true
   },
   "outputs": [
    {
     "data": {
      "text/plain": [
       "[Text(0.5, 0, '')]"
      ]
     },
     "execution_count": 7,
     "metadata": {},
     "output_type": "execute_result"
    },
    {
     "data": {
      "image/png": "[encoded data removed]",
      "text/plain": [
       "<Figure size 864x720 with 2 Axes>"
      ]
     },
     "metadata": {
      "needs_background": "light"
     },
     "output_type": "display_data"
    }
   ],
   "source": [
    "# Cut the window in 2 parts\n",
    "f, (ax_box, ax_hist) = plt.subplots(2, sharex=True, gridspec_kw={\"height_ratios\": (.2, .8)}, figsize=[12, 10])\n",
    " \n",
    "# Add a graph in each part\n",
    "sns.boxplot(df['Fitness'], ax=ax_box)\n",
    "sns.distplot(df['Fitness'], ax=ax_hist)\n",
    " \n",
    "# Remove x axis name for the boxplot\n",
    "ax_box.set(xlabel='')"
   ]
  },
  {
   "cell_type": "code",
   "execution_count": 19,
   "metadata": {
    "ExecuteTime": {
     "end_time": "2019-02-09T19:28:34.648831Z",
     "start_time": "2019-02-09T19:28:34.512160Z"
    }
   },
   "outputs": [],
   "source": [
    "from sklearn.model_selection import train_test_split \n",
    "\n",
    "X = df.iloc[:,1:-1]\n",
    "y = df.iloc[:,-1]\n",
    "\n",
    "X_train, X_test, y_train, y_test = train_test_split(X, y)"
   ]
  },
  {
   "cell_type": "code",
   "execution_count": 25,
   "metadata": {
    "ExecuteTime": {
     "end_time": "2019-02-09T19:30:38.652032Z",
     "start_time": "2019-02-09T19:30:38.647631Z"
    }
   },
   "outputs": [
    {
     "data": {
      "text/plain": [
       "(82650, 44)"
      ]
     },
     "execution_count": 25,
     "metadata": {},
     "output_type": "execute_result"
    }
   ],
   "source": [
    "X_train.shape"
   ]
  },
  {
   "cell_type": "code",
   "execution_count": 26,
   "metadata": {
    "ExecuteTime": {
     "end_time": "2019-02-09T19:30:39.536310Z",
     "start_time": "2019-02-09T19:30:39.531713Z"
    }
   },
   "outputs": [],
   "source": [
    "train_data, test_data, train_targets, test_targets = X_train, X_test, y_train, y_test"
   ]
  },
  {
   "cell_type": "markdown",
   "metadata": {
    "ExecuteTime": {
     "end_time": "2019-02-09T17:03:20.900245Z",
     "start_time": "2019-02-09T17:03:20.897677Z"
    }
   },
   "source": [
    "### Build model"
   ]
  },
  {
   "cell_type": "code",
   "execution_count": 32,
   "metadata": {
    "ExecuteTime": {
     "end_time": "2019-02-09T19:31:09.035247Z",
     "start_time": "2019-02-09T19:31:09.029430Z"
    }
   },
   "outputs": [],
   "source": [
    "from keras import models\n",
    "from keras import layers\n",
    "\n",
    "def build_model():\n",
    "    model = models.Sequential()\n",
    "    model.add(layers.Dense(64, activation='relu',\n",
    "                           input_shape=(train_data.shape[1],)))\n",
    "    model.add(layers.Dense(64, activation='relu'))\n",
    "    model.add(layers.Dense(32, activation='relu'))\n",
    "    model.add(layers.Dense(1))\n",
    "    model.compile(optimizer='rmsprop', loss='mse', metrics=['mae'])\n",
    "    return model"
   ]
  },
  {
   "cell_type": "code",
   "execution_count": null,
   "metadata": {
    "ExecuteTime": {
     "start_time": "2019-02-09T19:32:46.445Z"
    }
   },
   "outputs": [
    {
     "name": "stdout",
     "output_type": "stream",
     "text": [
      "processing fold # 0\n",
      "Epoch 1/20\n",
      "68875/68875 [==============================] - 3s 43us/step - loss: 4118406900.5065 - mean_absolute_error: 437.4271\n",
      "Epoch 2/20\n",
      "68875/68875 [==============================] - 3s 37us/step - loss: 4333055857.7906 - mean_absolute_error: 421.3018\n",
      "Epoch 3/20\n",
      "68875/68875 [==============================] - 2s 34us/step - loss: 3415958310.7770 - mean_absolute_error: 398.8082\n",
      "Epoch 4/20\n",
      "68875/68875 [==============================] - 2s 33us/step - loss: 3460286129.8855 - mean_absolute_error: 371.4910\n",
      "Epoch 5/20\n",
      "68875/68875 [==============================] - 2s 33us/step - loss: 4239045567.4095 - mean_absolute_error: 418.5547\n",
      "Epoch 6/20\n",
      "68875/68875 [==============================] - 3s 50us/step - loss: 1348492036.1777 - mean_absolute_error: 301.8314\n",
      "Epoch 7/20\n",
      "68875/68875 [==============================] - 2s 34us/step - loss: 2645681675.5972 - mean_absolute_error: 384.6992\n",
      "Epoch 8/20\n",
      "68875/68875 [==============================] - 2s 35us/step - loss: 4315158095.4353 - mean_absolute_error: 412.5639\n",
      "Epoch 9/20\n",
      "68875/68875 [==============================] - 2s 35us/step - loss: 1791035553.3742 - mean_absolute_error: 261.6470\n",
      "Epoch 10/20\n",
      "68875/68875 [==============================] - 2s 36us/step - loss: 2730263313.9374 - mean_absolute_error: 315.7565\n",
      "Epoch 11/20\n",
      "68875/68875 [==============================] - 2s 36us/step - loss: 957912186.8748 - mean_absolute_error: 219.9661\n",
      "Epoch 12/20\n",
      "68875/68875 [==============================] - 3s 45us/step - loss: 693330672.0243 - mean_absolute_error: 154.1507\n",
      "Epoch 13/20\n",
      "68875/68875 [==============================] - 3s 38us/step - loss: 483579378.7375 - mean_absolute_error: 149.5587\n",
      "Epoch 14/20\n",
      "68875/68875 [==============================] - 3s 38us/step - loss: 487444473.9036 - mean_absolute_error: 154.9827\n",
      "Epoch 15/20\n",
      "68875/68875 [==============================] - 3s 39us/step - loss: 291132366.0894 - mean_absolute_error: 123.5544\n",
      "Epoch 16/20\n",
      "68875/68875 [==============================] - 3s 40us/step - loss: 255266422.3769 - mean_absolute_error: 130.6571\n",
      "Epoch 17/20\n",
      "68875/68875 [==============================] - 3s 40us/step - loss: 576554159.1122 - mean_absolute_error: 171.9818\n",
      "Epoch 18/20\n",
      "68875/68875 [==============================] - 3s 41us/step - loss: 468023731.1122 - mean_absolute_error: 132.8153\n",
      "Epoch 19/20\n",
      "68875/68875 [==============================] - 3s 46us/step - loss: 876770492.4265 - mean_absolute_error: 198.3960\n",
      "Epoch 20/20\n",
      "68875/68875 [==============================] - 3s 41us/step - loss: 365924017.2310 - mean_absolute_error: 142.1378\n",
      "processing fold # 1\n",
      "Epoch 1/20\n",
      "68875/68875 [==============================] - 3s 43us/step - loss: 1213404604.9200 - mean_absolute_error: 273.3248\n",
      "Epoch 2/20\n",
      "68875/68875 [==============================] - 3s 42us/step - loss: 3595535381.6481 - mean_absolute_error: 305.7280\n",
      "Epoch 3/20\n",
      "68875/68875 [==============================] - 3s 47us/step - loss: 923610966.3844 - mean_absolute_error: 213.0910\n",
      "Epoch 4/20\n",
      "68875/68875 [==============================] - 3s 43us/step - loss: 1702575802.7125 - mean_absolute_error: 216.4350\n",
      "Epoch 5/20\n",
      "68875/68875 [==============================] - 3s 46us/step - loss: 1306588661.5121 - mean_absolute_error: 173.9702\n",
      "Epoch 6/20\n",
      "68875/68875 [==============================] - 3s 46us/step - loss: 358402475.7416 - mean_absolute_error: 124.2492\n",
      "Epoch 7/20\n",
      "68875/68875 [==============================] - 3s 43us/step - loss: 650544973.9396 - mean_absolute_error: 162.5580\n",
      "Epoch 8/20\n",
      "68875/68875 [==============================] - 3s 42us/step - loss: 615442510.5890 - mean_absolute_error: 155.6805\n",
      "Epoch 9/20\n",
      "68875/68875 [==============================] - 3s 43us/step - loss: 443206204.2701 - mean_absolute_error: 123.1392\n",
      "Epoch 10/20\n",
      "68875/68875 [==============================] - 3s 44us/step - loss: 522281710.7076 - mean_absolute_error: 154.0852\n",
      "Epoch 11/20\n",
      "68875/68875 [==============================] - 3s 48us/step - loss: 367619842.5389 - mean_absolute_error: 129.2682\n",
      "Epoch 12/20\n",
      "68875/68875 [==============================] - 3s 43us/step - loss: 479397191.6871 - mean_absolute_error: 140.4276\n",
      "Epoch 13/20\n",
      "68875/68875 [==============================] - 3s 42us/step - loss: 1134186134.1334 - mean_absolute_error: 194.3550\n",
      "Epoch 14/20\n",
      "68875/68875 [==============================] - 3s 48us/step - loss: 127514911.1041 - mean_absolute_error: 84.1845\n",
      "Epoch 15/20\n",
      "68875/68875 [==============================] - 3s 45us/step - loss: 236630271.6576 - mean_absolute_error: 106.1769\n",
      "Epoch 16/20\n",
      "68875/68875 [==============================] - 3s 40us/step - loss: 170226293.7399 - mean_absolute_error: 85.5183\n",
      "Epoch 17/20\n",
      "68875/68875 [==============================] - 2s 36us/step - loss: 179556782.1938 - mean_absolute_error: 90.0039\n",
      "Epoch 18/20\n",
      "68875/68875 [==============================] - 3s 44us/step - loss: 233090799.0292 - mean_absolute_error: 96.3876\n",
      "Epoch 19/20\n",
      "68875/68875 [==============================] - 2s 31us/step - loss: 491664878.0224 - mean_absolute_error: 117.7292\n",
      "Epoch 20/20\n",
      "68875/68875 [==============================] - 3s 41us/step - loss: 217900959.0695 - mean_absolute_error: 68.7328\n",
      "processing fold # 2\n",
      "Epoch 1/20\n",
      "68875/68875 [==============================] - 2s 31us/step - loss: 1382997086.7710 - mean_absolute_error: 300.6494\n",
      "Epoch 2/20\n",
      "68875/68875 [==============================] - 2s 31us/step - loss: 1298256399.9455 - mean_absolute_error: 281.1472\n",
      "Epoch 3/20\n",
      "68875/68875 [==============================] - 2s 36us/step - loss: 301289459.3779 - mean_absolute_error: 175.6155\n",
      "Epoch 4/20\n",
      "68875/68875 [==============================] - 2s 31us/step - loss: 1001278613.4924 - mean_absolute_error: 266.1574\n",
      "Epoch 5/20\n",
      "68875/68875 [==============================] - 2s 30us/step - loss: 2864363425.8855 - mean_absolute_error: 342.3581\n",
      "Epoch 6/20\n",
      "68875/68875 [==============================] - 3s 46us/step - loss: 1665255745.2165 - mean_absolute_error: 263.8818\n",
      "Epoch 7/20\n",
      "68875/68875 [==============================] - 3s 43us/step - loss: 3545256422.7454 - mean_absolute_error: 343.2331\n",
      "Epoch 8/20\n",
      "68875/68875 [==============================] - 3s 44us/step - loss: 710787400.2515 - mean_absolute_error: 197.2821\n",
      "Epoch 9/20\n",
      "68875/68875 [==============================] - 3s 43us/step - loss: 1946773776.2887 - mean_absolute_error: 311.3414\n",
      "Epoch 10/20\n",
      "68875/68875 [==============================] - 3s 42us/step - loss: 1029601967.7701 - mean_absolute_error: 220.8575\n",
      "Epoch 11/20\n",
      "68875/68875 [==============================] - 3s 47us/step - loss: 1139904247.5891 - mean_absolute_error: 242.0319\n",
      "Epoch 12/20\n",
      "68875/68875 [==============================] - 3s 41us/step - loss: 1120608380.6665 - mean_absolute_error: 244.6260\n",
      "Epoch 13/20\n",
      "68875/68875 [==============================] - 3s 41us/step - loss: 1127250152.6256 - mean_absolute_error: 250.0159\n",
      "Epoch 14/20\n",
      "68875/68875 [==============================] - 3s 45us/step - loss: 148471397.1803 - mean_absolute_error: 106.9584\n",
      "Epoch 15/20\n",
      "68875/68875 [==============================] - 3s 44us/step - loss: 1002536963.5880 - mean_absolute_error: 197.0233\n",
      "Epoch 16/20\n",
      "68875/68875 [==============================] - 3s 42us/step - loss: 721175145.4232 - mean_absolute_error: 177.4027\n",
      "Epoch 17/20\n",
      "68875/68875 [==============================] - 3s 45us/step - loss: 292160021.2275 - mean_absolute_error: 111.9079\n",
      "Epoch 18/20\n",
      "68875/68875 [==============================] - 3s 46us/step - loss: 210137002.7726 - mean_absolute_error: 91.2961\n",
      "Epoch 19/20\n",
      "68875/68875 [==============================] - 3s 45us/step - loss: 305510852.3616 - mean_absolute_error: 96.6164\n",
      "Epoch 20/20\n",
      "68875/68875 [==============================] - 3s 42us/step - loss: 198863084.4739 - mean_absolute_error: 85.4312\n",
      "processing fold # 3\n",
      "Epoch 1/20\n",
      "68875/68875 [==============================] - 3s 50us/step - loss: 331449423.8213 - mean_absolute_error: 176.4459\n",
      "Epoch 2/20\n",
      "68875/68875 [==============================] - 3s 50us/step - loss: 2343435739.7908 - mean_absolute_error: 276.5730\n",
      "Epoch 3/20\n",
      "68875/68875 [==============================] - 4s 59us/step - loss: 1520140373.1698 - mean_absolute_error: 246.2820\n",
      "Epoch 4/20\n"
     ]
    },
    {
     "name": "stdout",
     "output_type": "stream",
     "text": [
      "68875/68875 [==============================] - 3s 43us/step - loss: 2476215616.9633 - mean_absolute_error: 296.1333\n",
      "Epoch 5/20\n",
      "68875/68875 [==============================] - 3s 39us/step - loss: 2151394877.7790 - mean_absolute_error: 269.9040\n",
      "Epoch 6/20\n",
      "68875/68875 [==============================] - 3s 45us/step - loss: 657630513.5883 - mean_absolute_error: 179.3456\n",
      "Epoch 7/20\n",
      "68875/68875 [==============================] - 2s 33us/step - loss: 130187453.5750 - mean_absolute_error: 114.8249\n",
      "Epoch 8/20\n",
      "68875/68875 [==============================] - 2s 34us/step - loss: 1247040716.1198 - mean_absolute_error: 234.9584\n",
      "Epoch 9/20\n",
      "68875/68875 [==============================] - 2s 35us/step - loss: 2001626794.4085 - mean_absolute_error: 218.0926\n",
      "Epoch 10/20\n",
      "68875/68875 [==============================] - 3s 46us/step - loss: 326060616.2380 - mean_absolute_error: 119.7141\n",
      "Epoch 11/20\n",
      "68875/68875 [==============================] - 2s 30us/step - loss: 881566596.9187 - mean_absolute_error: 172.9573\n",
      "Epoch 12/20\n",
      "68875/68875 [==============================] - 2s 33us/step - loss: 1230341564.6275 - mean_absolute_error: 218.9016\n",
      "Epoch 13/20\n",
      "68875/68875 [==============================] - 2s 34us/step - loss: 1379988208.0542 - mean_absolute_error: 194.3245\n",
      "Epoch 14/20\n",
      "68875/68875 [==============================] - 3s 47us/step - loss: 1102428393.1364 - mean_absolute_error: 201.9108\n",
      "Epoch 15/20\n",
      "68875/68875 [==============================] - 3s 50us/step - loss: 684361960.4665 - mean_absolute_error: 177.7942\n",
      "Epoch 16/20\n",
      "68875/68875 [==============================] - 3s 45us/step - loss: 110573908.8187 - mean_absolute_error: 76.4253\n",
      "Epoch 17/20\n",
      "68875/68875 [==============================] - 3s 41us/step - loss: 532659995.6765 - mean_absolute_error: 124.7672\n",
      "Epoch 18/20\n",
      "68875/68875 [==============================] - 3s 42us/step - loss: 674534252.0966 - mean_absolute_error: 142.6142\n",
      "Epoch 19/20\n",
      "68875/68875 [==============================] - 5s 68us/step - loss: 566765119.6472 - mean_absolute_error: 149.0431\n",
      "Epoch 20/20\n",
      "68875/68875 [==============================] - 3s 46us/step - loss: 252875034.3975 - mean_absolute_error: 103.4529\n",
      "processing fold # 4\n",
      "Epoch 1/20\n",
      "68875/68875 [==============================] - 3s 41us/step - loss: 1187217519.7457 - mean_absolute_error: 241.3411\n",
      "Epoch 2/20\n",
      "68875/68875 [==============================] - 3s 40us/step - loss: 656224031.2581 - mean_absolute_error: 185.6279\n",
      "Epoch 3/20\n",
      "68875/68875 [==============================] - 3s 44us/step - loss: 2777351487.5537 - mean_absolute_error: 330.4420\n",
      "Epoch 4/20\n",
      "68875/68875 [==============================] - 3s 50us/step - loss: 1459849427.9285 - mean_absolute_error: 226.0833\n",
      "Epoch 5/20\n",
      "44544/68875 [==================>...........] - ETA: 0s - loss: 495330197.6482 - mean_absolute_error: 167.1720"
     ]
    }
   ],
   "source": [
    "import numpy as np\n",
    "\n",
    "k = 6\n",
    "num_val_samples = len(train_data) // k\n",
    "num_epochs = 20\n",
    "all_scores = []\n",
    "for i in range(k):\n",
    "    print('processing fold #', i)\n",
    "    # Prepare the validation data: data from partition # k\n",
    "    val_data = train_data[i * num_val_samples: (i + 1) * num_val_samples]\n",
    "    val_targets = train_targets[i * num_val_samples: (i + 1) * num_val_samples]\n",
    "\n",
    "    # Prepare the training data: data from all other partitions\n",
    "    partial_train_data = np.concatenate(\n",
    "        [train_data[:i * num_val_samples],\n",
    "         train_data[(i + 1) * num_val_samples:]],\n",
    "        axis=0)\n",
    "    partial_train_targets = np.concatenate(\n",
    "        [train_targets[:i * num_val_samples],\n",
    "         train_targets[(i + 1) * num_val_samples:]],\n",
    "        axis=0)\n",
    "\n",
    "    # Build the Keras model (already compiled)\n",
    "    model = build_model()\n",
    "    # Train the model (in silent mode, verbose=0)\n",
    "    model.fit(partial_train_data, partial_train_targets,\n",
    "              epochs=num_epochs, batch_size=128, verbose=1)\n",
    "    # Evaluate the model on the validation data\n",
    "    val_mse, val_mae = model.evaluate(val_data, val_targets, verbose=0)\n",
    "    all_scores.append(val_mae)"
   ]
  },
  {
   "cell_type": "code",
   "execution_count": null,
   "metadata": {},
   "outputs": [],
   "source": [
    "all_scores"
   ]
  },
  {
   "cell_type": "code",
   "execution_count": null,
   "metadata": {},
   "outputs": [],
   "source": [
    "np.mean(all_scores)"
   ]
  },
  {
   "cell_type": "code",
   "execution_count": null,
   "metadata": {},
   "outputs": [],
   "source": [
    "num_epochs = 500\n",
    "all_mae_histories = []\n",
    "for i in range(k):\n",
    "    print('processing fold #', i)\n",
    "    # Prepare the validation data: data from partition # k\n",
    "    val_data = train_data[i * num_val_samples: (i + 1) * num_val_samples]\n",
    "    val_targets = train_targets[i * num_val_samples: (i + 1) * num_val_samples]\n",
    "\n",
    "    # Prepare the training data: data from all other partitions\n",
    "    partial_train_data = np.concatenate(\n",
    "        [train_data[:i * num_val_samples],\n",
    "         train_data[(i + 1) * num_val_samples:]],\n",
    "        axis=0)\n",
    "    partial_train_targets = np.concatenate(\n",
    "        [train_targets[:i * num_val_samples],\n",
    "         train_targets[(i + 1) * num_val_samples:]],\n",
    "        axis=0)\n",
    "\n",
    "    # Build the Keras model (already compiled)\n",
    "    model = build_model()\n",
    "    # Train the model (in silent mode, verbose=0)\n",
    "    history = model.fit(partial_train_data, partial_train_targets,\n",
    "                        validation_data=(val_data, val_targets),\n",
    "                        epochs=num_epochs, batch_size=1, verbose=0)\n",
    "    mae_history = history.history['val_mean_absolute_error']\n",
    "    all_mae_histories.append(mae_history)"
   ]
  },
  {
   "cell_type": "code",
   "execution_count": null,
   "metadata": {},
   "outputs": [],
   "source": []
  },
  {
   "cell_type": "code",
   "execution_count": 13,
   "metadata": {
    "ExecuteTime": {
     "end_time": "2019-02-09T17:20:05.872156Z",
     "start_time": "2019-02-09T17:19:03.583288Z"
    }
   },
   "outputs": [
    {
     "name": "stdout",
     "output_type": "stream",
     "text": [
      "Epoch 1/5\n",
      "82650/82650 [==============================] - 20s 237us/step - loss: 347088393.9919 - mean_absolute_error: 99.7170\n",
      "Epoch 2/5\n",
      "82650/82650 [==============================] - 19s 235us/step - loss: 172552.5813 - mean_absolute_error: 3.3756\n",
      "Epoch 3/5\n",
      "82650/82650 [==============================] - 19s 235us/step - loss: 2.7143 - mean_absolute_error: 0.1237\n",
      "Epoch 4/5\n",
      "15040/82650 [====>.........................] - ETA: 16s - loss: 0.0313 - mean_absolute_error: 0.1012"
     ]
    },
    {
     "ename": "KeyboardInterrupt",
     "evalue": "",
     "output_type": "error",
     "traceback": [
      "\u001b[0;31m---------------------------------------------------------------------------\u001b[0m",
      "\u001b[0;31mKeyboardInterrupt\u001b[0m                         Traceback (most recent call last)",
      "\u001b[0;32m<ipython-input-13-98ea3e32a2bd>\u001b[0m in \u001b[0;36m<module>\u001b[0;34m\u001b[0m\n\u001b[1;32m      2\u001b[0m \u001b[0;31m# Train it on the entirety of the data.\u001b[0m\u001b[0;34m\u001b[0m\u001b[0;34m\u001b[0m\u001b[0;34m\u001b[0m\u001b[0m\n\u001b[1;32m      3\u001b[0m model.fit(X_train, y_train,\n\u001b[0;32m----> 4\u001b[0;31m           epochs=5, batch_size=16, verbose=1)\n\u001b[0m\u001b[1;32m      5\u001b[0m \u001b[0mtest_mse_score\u001b[0m\u001b[0;34m,\u001b[0m \u001b[0mtest_mae_score\u001b[0m \u001b[0;34m=\u001b[0m \u001b[0mmodel\u001b[0m\u001b[0;34m.\u001b[0m\u001b[0mevaluate\u001b[0m\u001b[0;34m(\u001b[0m\u001b[0mX_test\u001b[0m\u001b[0;34m,\u001b[0m \u001b[0my_test\u001b[0m\u001b[0;34m)\u001b[0m\u001b[0;34m\u001b[0m\u001b[0;34m\u001b[0m\u001b[0m\n",
      "\u001b[0;32m~/anaconda3/envs/chollet/lib/python3.6/site-packages/keras/engine/training.py\u001b[0m in \u001b[0;36mfit\u001b[0;34m(self, x, y, batch_size, epochs, verbose, callbacks, validation_split, validation_data, shuffle, class_weight, sample_weight, initial_epoch, steps_per_epoch, validation_steps, **kwargs)\u001b[0m\n\u001b[1;32m   1037\u001b[0m                                         \u001b[0minitial_epoch\u001b[0m\u001b[0;34m=\u001b[0m\u001b[0minitial_epoch\u001b[0m\u001b[0;34m,\u001b[0m\u001b[0;34m\u001b[0m\u001b[0;34m\u001b[0m\u001b[0m\n\u001b[1;32m   1038\u001b[0m                                         \u001b[0msteps_per_epoch\u001b[0m\u001b[0;34m=\u001b[0m\u001b[0msteps_per_epoch\u001b[0m\u001b[0;34m,\u001b[0m\u001b[0;34m\u001b[0m\u001b[0;34m\u001b[0m\u001b[0m\n\u001b[0;32m-> 1039\u001b[0;31m                                         validation_steps=validation_steps)\n\u001b[0m\u001b[1;32m   1040\u001b[0m \u001b[0;34m\u001b[0m\u001b[0m\n\u001b[1;32m   1041\u001b[0m     def evaluate(self, x=None, y=None,\n",
      "\u001b[0;32m~/anaconda3/envs/chollet/lib/python3.6/site-packages/keras/engine/training_arrays.py\u001b[0m in \u001b[0;36mfit_loop\u001b[0;34m(model, f, ins, out_labels, batch_size, epochs, verbose, callbacks, val_f, val_ins, shuffle, callback_metrics, initial_epoch, steps_per_epoch, validation_steps)\u001b[0m\n\u001b[1;32m    197\u001b[0m                     \u001b[0mins_batch\u001b[0m\u001b[0;34m[\u001b[0m\u001b[0mi\u001b[0m\u001b[0;34m]\u001b[0m \u001b[0;34m=\u001b[0m \u001b[0mins_batch\u001b[0m\u001b[0;34m[\u001b[0m\u001b[0mi\u001b[0m\u001b[0;34m]\u001b[0m\u001b[0;34m.\u001b[0m\u001b[0mtoarray\u001b[0m\u001b[0;34m(\u001b[0m\u001b[0;34m)\u001b[0m\u001b[0;34m\u001b[0m\u001b[0;34m\u001b[0m\u001b[0m\n\u001b[1;32m    198\u001b[0m \u001b[0;34m\u001b[0m\u001b[0m\n\u001b[0;32m--> 199\u001b[0;31m                 \u001b[0mouts\u001b[0m \u001b[0;34m=\u001b[0m \u001b[0mf\u001b[0m\u001b[0;34m(\u001b[0m\u001b[0mins_batch\u001b[0m\u001b[0;34m)\u001b[0m\u001b[0;34m\u001b[0m\u001b[0;34m\u001b[0m\u001b[0m\n\u001b[0m\u001b[1;32m    200\u001b[0m                 \u001b[0mouts\u001b[0m \u001b[0;34m=\u001b[0m \u001b[0mto_list\u001b[0m\u001b[0;34m(\u001b[0m\u001b[0mouts\u001b[0m\u001b[0;34m)\u001b[0m\u001b[0;34m\u001b[0m\u001b[0;34m\u001b[0m\u001b[0m\n\u001b[1;32m    201\u001b[0m                 \u001b[0;32mfor\u001b[0m \u001b[0ml\u001b[0m\u001b[0;34m,\u001b[0m \u001b[0mo\u001b[0m \u001b[0;32min\u001b[0m \u001b[0mzip\u001b[0m\u001b[0;34m(\u001b[0m\u001b[0mout_labels\u001b[0m\u001b[0;34m,\u001b[0m \u001b[0mouts\u001b[0m\u001b[0;34m)\u001b[0m\u001b[0;34m:\u001b[0m\u001b[0;34m\u001b[0m\u001b[0;34m\u001b[0m\u001b[0m\n",
      "\u001b[0;32m~/anaconda3/envs/chollet/lib/python3.6/site-packages/plaidml/keras/backend.py\u001b[0m in \u001b[0;36m__call__\u001b[0;34m(self, inputs)\u001b[0m\n\u001b[1;32m    176\u001b[0m         \u001b[0mself\u001b[0m\u001b[0;34m.\u001b[0m\u001b[0m_invoker\u001b[0m\u001b[0;34m.\u001b[0m\u001b[0minvoke\u001b[0m\u001b[0;34m(\u001b[0m\u001b[0;34m)\u001b[0m\u001b[0;34m\u001b[0m\u001b[0;34m\u001b[0m\u001b[0m\n\u001b[1;32m    177\u001b[0m \u001b[0;34m\u001b[0m\u001b[0m\n\u001b[0;32m--> 178\u001b[0;31m         \u001b[0;32mreturn\u001b[0m \u001b[0;34m[\u001b[0m\u001b[0mt\u001b[0m\u001b[0;34m.\u001b[0m\u001b[0mas_ndarray\u001b[0m\u001b[0;34m(\u001b[0m\u001b[0m_ctx\u001b[0m\u001b[0;34m)\u001b[0m \u001b[0;32mfor\u001b[0m \u001b[0mt\u001b[0m \u001b[0;32min\u001b[0m \u001b[0mtensors\u001b[0m\u001b[0;34m]\u001b[0m\u001b[0;34m\u001b[0m\u001b[0;34m\u001b[0m\u001b[0m\n\u001b[0m\u001b[1;32m    179\u001b[0m \u001b[0;34m\u001b[0m\u001b[0m\n\u001b[1;32m    180\u001b[0m \u001b[0;34m\u001b[0m\u001b[0m\n",
      "\u001b[0;32m~/anaconda3/envs/chollet/lib/python3.6/site-packages/plaidml/keras/backend.py\u001b[0m in \u001b[0;36m<listcomp>\u001b[0;34m(.0)\u001b[0m\n\u001b[1;32m    176\u001b[0m         \u001b[0mself\u001b[0m\u001b[0;34m.\u001b[0m\u001b[0m_invoker\u001b[0m\u001b[0;34m.\u001b[0m\u001b[0minvoke\u001b[0m\u001b[0;34m(\u001b[0m\u001b[0;34m)\u001b[0m\u001b[0;34m\u001b[0m\u001b[0;34m\u001b[0m\u001b[0m\n\u001b[1;32m    177\u001b[0m \u001b[0;34m\u001b[0m\u001b[0m\n\u001b[0;32m--> 178\u001b[0;31m         \u001b[0;32mreturn\u001b[0m \u001b[0;34m[\u001b[0m\u001b[0mt\u001b[0m\u001b[0;34m.\u001b[0m\u001b[0mas_ndarray\u001b[0m\u001b[0;34m(\u001b[0m\u001b[0m_ctx\u001b[0m\u001b[0;34m)\u001b[0m \u001b[0;32mfor\u001b[0m \u001b[0mt\u001b[0m \u001b[0;32min\u001b[0m \u001b[0mtensors\u001b[0m\u001b[0;34m]\u001b[0m\u001b[0;34m\u001b[0m\u001b[0;34m\u001b[0m\u001b[0m\n\u001b[0m\u001b[1;32m    179\u001b[0m \u001b[0;34m\u001b[0m\u001b[0m\n\u001b[1;32m    180\u001b[0m \u001b[0;34m\u001b[0m\u001b[0m\n",
      "\u001b[0;32m~/anaconda3/envs/chollet/lib/python3.6/site-packages/plaidml/__init__.py\u001b[0m in \u001b[0;36mas_ndarray\u001b[0;34m(self, ctx)\u001b[0m\n\u001b[1;32m   1228\u001b[0m                 \u001b[0mtuple\u001b[0m\u001b[0;34m(\u001b[0m\u001b[0mdim\u001b[0m\u001b[0;34m.\u001b[0m\u001b[0msize\u001b[0m \u001b[0;32mfor\u001b[0m \u001b[0mdim\u001b[0m \u001b[0;32min\u001b[0m \u001b[0mself\u001b[0m\u001b[0;34m.\u001b[0m\u001b[0mshape\u001b[0m\u001b[0;34m.\u001b[0m\u001b[0mdimensions\u001b[0m\u001b[0;34m)\u001b[0m\u001b[0;34m,\u001b[0m\u001b[0;34m\u001b[0m\u001b[0;34m\u001b[0m\u001b[0m\n\u001b[1;32m   1229\u001b[0m                 dtype=_NP_TYPES[self.shape.dtype])\n\u001b[0;32m-> 1230\u001b[0;31m         \u001b[0;32mwith\u001b[0m \u001b[0mself\u001b[0m\u001b[0;34m.\u001b[0m\u001b[0mmmap_current\u001b[0m\u001b[0;34m(\u001b[0m\u001b[0;34m)\u001b[0m \u001b[0;32mas\u001b[0m \u001b[0mview\u001b[0m\u001b[0;34m:\u001b[0m\u001b[0;34m\u001b[0m\u001b[0;34m\u001b[0m\u001b[0m\n\u001b[0m\u001b[1;32m   1231\u001b[0m             \u001b[0mview\u001b[0m\u001b[0;34m.\u001b[0m\u001b[0mcopy_to_ndarray\u001b[0m\u001b[0;34m(\u001b[0m\u001b[0mself\u001b[0m\u001b[0;34m.\u001b[0m\u001b[0m_ndarray\u001b[0m\u001b[0;34m)\u001b[0m\u001b[0;34m\u001b[0m\u001b[0;34m\u001b[0m\u001b[0m\n\u001b[1;32m   1232\u001b[0m         \u001b[0;32mreturn\u001b[0m \u001b[0mself\u001b[0m\u001b[0;34m.\u001b[0m\u001b[0m_ndarray\u001b[0m\u001b[0;34m\u001b[0m\u001b[0;34m\u001b[0m\u001b[0m\n",
      "\u001b[0;32m~/anaconda3/envs/chollet/lib/python3.6/contextlib.py\u001b[0m in \u001b[0;36m__enter__\u001b[0;34m(self)\u001b[0m\n\u001b[1;32m     79\u001b[0m     \u001b[0;32mdef\u001b[0m \u001b[0m__enter__\u001b[0m\u001b[0;34m(\u001b[0m\u001b[0mself\u001b[0m\u001b[0;34m)\u001b[0m\u001b[0;34m:\u001b[0m\u001b[0;34m\u001b[0m\u001b[0;34m\u001b[0m\u001b[0m\n\u001b[1;32m     80\u001b[0m         \u001b[0;32mtry\u001b[0m\u001b[0;34m:\u001b[0m\u001b[0;34m\u001b[0m\u001b[0;34m\u001b[0m\u001b[0m\n\u001b[0;32m---> 81\u001b[0;31m             \u001b[0;32mreturn\u001b[0m \u001b[0mnext\u001b[0m\u001b[0;34m(\u001b[0m\u001b[0mself\u001b[0m\u001b[0;34m.\u001b[0m\u001b[0mgen\u001b[0m\u001b[0;34m)\u001b[0m\u001b[0;34m\u001b[0m\u001b[0;34m\u001b[0m\u001b[0m\n\u001b[0m\u001b[1;32m     82\u001b[0m         \u001b[0;32mexcept\u001b[0m \u001b[0mStopIteration\u001b[0m\u001b[0;34m:\u001b[0m\u001b[0;34m\u001b[0m\u001b[0;34m\u001b[0m\u001b[0m\n\u001b[1;32m     83\u001b[0m             \u001b[0;32mraise\u001b[0m \u001b[0mRuntimeError\u001b[0m\u001b[0;34m(\u001b[0m\u001b[0;34m\"generator didn't yield\"\u001b[0m\u001b[0;34m)\u001b[0m \u001b[0;32mfrom\u001b[0m \u001b[0;32mNone\u001b[0m\u001b[0;34m\u001b[0m\u001b[0;34m\u001b[0m\u001b[0m\n",
      "\u001b[0;32m~/anaconda3/envs/chollet/lib/python3.6/site-packages/plaidml/__init__.py\u001b[0m in \u001b[0;36mmmap_current\u001b[0;34m(self)\u001b[0m\n\u001b[1;32m   1211\u001b[0m     \u001b[0;32mdef\u001b[0m \u001b[0mmmap_current\u001b[0m\u001b[0;34m(\u001b[0m\u001b[0mself\u001b[0m\u001b[0;34m)\u001b[0m\u001b[0;34m:\u001b[0m\u001b[0;34m\u001b[0m\u001b[0;34m\u001b[0m\u001b[0m\n\u001b[1;32m   1212\u001b[0m         mapping = _lib().plaidml_map_buffer_current(self.buffer,\n\u001b[0;32m-> 1213\u001b[0;31m                                                     ctypes.cast(None, _MAP_BUFFER_FUNCTYPE), None)\n\u001b[0m\u001b[1;32m   1214\u001b[0m         yield _View(self.buffer._ctx, mapping, self.shape.dtype, self.shape.ctype,\n\u001b[1;32m   1215\u001b[0m                     _lib().plaidml_get_shape_element_count(self.shape), self.shape, None)\n",
      "\u001b[0;32m~/anaconda3/envs/chollet/lib/python3.6/site-packages/plaidml/__init__.py\u001b[0m in \u001b[0;36m_check_err\u001b[0;34m(self, result, func, args)\u001b[0m\n\u001b[1;32m    737\u001b[0m         \u001b[0mself\u001b[0m\u001b[0;34m.\u001b[0m\u001b[0mplaidml_compute_grad_wrt\u001b[0m\u001b[0;34m.\u001b[0m\u001b[0merrcheck\u001b[0m \u001b[0;34m=\u001b[0m \u001b[0mself\u001b[0m\u001b[0;34m.\u001b[0m\u001b[0m_check_err\u001b[0m\u001b[0;34m\u001b[0m\u001b[0;34m\u001b[0m\u001b[0m\n\u001b[1;32m    738\u001b[0m \u001b[0;34m\u001b[0m\u001b[0m\n\u001b[0;32m--> 739\u001b[0;31m     \u001b[0;32mdef\u001b[0m \u001b[0m_check_err\u001b[0m\u001b[0;34m(\u001b[0m\u001b[0mself\u001b[0m\u001b[0;34m,\u001b[0m \u001b[0mresult\u001b[0m\u001b[0;34m,\u001b[0m \u001b[0mfunc\u001b[0m\u001b[0;34m,\u001b[0m \u001b[0margs\u001b[0m\u001b[0;34m)\u001b[0m\u001b[0;34m:\u001b[0m\u001b[0;34m\u001b[0m\u001b[0;34m\u001b[0m\u001b[0m\n\u001b[0m\u001b[1;32m    740\u001b[0m         \u001b[0;32mif\u001b[0m \u001b[0mresult\u001b[0m\u001b[0;34m:\u001b[0m\u001b[0;34m\u001b[0m\u001b[0;34m\u001b[0m\u001b[0m\n\u001b[1;32m    741\u001b[0m             \u001b[0;32mreturn\u001b[0m \u001b[0mresult\u001b[0m\u001b[0;34m\u001b[0m\u001b[0;34m\u001b[0m\u001b[0m\n",
      "\u001b[0;31mKeyboardInterrupt\u001b[0m: "
     ]
    }
   ],
   "source": [
    "model = build_model()\n",
    "# Train it on the entirety of the data.\n",
    "model.fit(X_train, y_train,\n",
    "          epochs=5, batch_size=16, verbose=1)\n",
    "test_mse_score, test_mae_score = model.evaluate(X_test, y_test)"
   ]
  },
  {
   "cell_type": "code",
   "execution_count": null,
   "metadata": {},
   "outputs": [],
   "source": []
  }
 ],
 "metadata": {
  "kernelspec": {
   "display_name": "Python [conda env:chollet]",
   "language": "python",
   "name": "conda-env-chollet-py"
  },
  "language_info": {
   "codemirror_mode": {
    "name": "ipython",
    "version": 3
   },
   "file_extension": ".py",
   "mimetype": "text/x-python",
   "name": "python",
   "nbconvert_exporter": "python",
   "pygments_lexer": "ipython3",
   "version": "3.6.8"
  },
  "toc": {
   "base_numbering": 1,
   "nav_menu": {},
   "number_sections": true,
   "sideBar": true,
   "skip_h1_title": false,
   "title_cell": "Table of Contents",
   "title_sidebar": "Contents",
   "toc_cell": false,
   "toc_position": {},
   "toc_section_display": true,
   "toc_window_display": false
  },
  "varInspector": {
   "cols": {
    "lenName": 16,
    "lenType": 16,
    "lenVar": 40
   },
   "kernels_config": {
    "python": {
     "delete_cmd_postfix": "",
     "delete_cmd_prefix": "del ",
     "library": "var_list.py",
     "varRefreshCmd": "print(var_dic_list())"
    },
    "r": {
     "delete_cmd_postfix": ") ",
     "delete_cmd_prefix": "rm(",
     "library": "var_list.r",
     "varRefreshCmd": "cat(var_dic_list()) "
    }
   },
   "types_to_exclude": [
    "module",
    "function",
    "builtin_function_or_method",
    "instance",
    "_Feature"
   ],
   "window_display": false
  }
 },
 "nbformat": 4,
 "nbformat_minor": 2
}
