{
 "cells": [
  {
   "cell_type": "markdown",
   "metadata": {
    "ExecuteTime": {
     "end_time": "2019-02-09T09:28:16.945588Z",
     "start_time": "2019-02-09T09:28:16.942768Z"
    },
    "heading_collapsed": true
   },
   "source": [
    "## Length Analysis"
   ]
  },
  {
   "cell_type": "code",
   "execution_count": 1,
   "metadata": {
    "ExecuteTime": {
     "end_time": "2019-02-09T09:23:18.344498Z",
     "start_time": "2019-02-09T09:23:18.004457Z"
    },
    "hidden": true
   },
   "outputs": [],
   "source": [
    "%matplotlib inline"
   ]
  },
  {
   "cell_type": "code",
   "execution_count": 7,
   "metadata": {
    "ExecuteTime": {
     "end_time": "2019-02-09T09:23:43.459339Z",
     "start_time": "2019-02-09T09:23:43.456148Z"
    },
    "hidden": true
   },
   "outputs": [],
   "source": [
    "# Import library and dataset\n",
    "import pandas as pd\n",
    "import seaborn as sns\n",
    "import matplotlib.pyplot as plt"
   ]
  },
  {
   "cell_type": "code",
   "execution_count": 8,
   "metadata": {
    "ExecuteTime": {
     "end_time": "2019-02-09T09:23:43.941870Z",
     "start_time": "2019-02-09T09:23:43.816150Z"
    },
    "hidden": true
   },
   "outputs": [
    {
     "name": "stdout",
     "output_type": "stream",
     "text": [
      "\u001b[34mCATH\u001b[m\u001b[m           \u001b[30m\u001b[43mFamilyProfiles\u001b[m\u001b[m \u001b[30m\u001b[43mProfiles\u001b[m\u001b[m       \u001b[30m\u001b[43mTMalign\u001b[m\u001b[m        dataset.csv\r\n",
      "\u001b[30m\u001b[43mConfig\u001b[m\u001b[m         \u001b[31mMakefile\u001b[m\u001b[m       \u001b[31mREADME.md\u001b[m\u001b[m      \u001b[30m\u001b[43m_History\u001b[m\u001b[m       \u001b[30m\u001b[43msrc\u001b[m\u001b[m\r\n",
      "\u001b[30m\u001b[43mDevelopment\u001b[m\u001b[m    \u001b[31mNewProtEvol\u001b[m\u001b[m    \u001b[30m\u001b[43mSTRIDE\u001b[m\u001b[m         \u001b[30m\u001b[43m_Tests\u001b[m\u001b[m\r\n"
     ]
    }
   ],
   "source": [
    "!ls ../../"
   ]
  },
  {
   "cell_type": "code",
   "execution_count": 9,
   "metadata": {
    "ExecuteTime": {
     "end_time": "2019-02-09T09:23:44.366102Z",
     "start_time": "2019-02-09T09:23:44.363094Z"
    },
    "hidden": true
   },
   "outputs": [],
   "source": [
    "PATH = '../../'\n",
    "DIR = 'FamilyProfiles/'"
   ]
  },
  {
   "cell_type": "code",
   "execution_count": 10,
   "metadata": {
    "ExecuteTime": {
     "end_time": "2019-02-09T09:23:49.263997Z",
     "start_time": "2019-02-09T09:23:44.946219Z"
    },
    "hidden": true
   },
   "outputs": [],
   "source": [
    "import os\n",
    "\n",
    "Lengths, TemplateCounts = [], []\n",
    "for file in os.listdir(PATH + DIR):\n",
    "    if not file.startswith(\"Family\"): continue\n",
    "    with open(PATH + DIR + file) as fFamily:\n",
    "        tokens = fFamily.read().split()\n",
    "        Lengths.append(int(tokens[5]))\n",
    "        TemplateCounts.append(int(tokens[7]))"
   ]
  },
  {
   "cell_type": "code",
   "execution_count": 11,
   "metadata": {
    "ExecuteTime": {
     "end_time": "2019-02-09T09:23:50.000919Z",
     "start_time": "2019-02-09T09:23:49.274247Z"
    },
    "hidden": true
   },
   "outputs": [
    {
     "data": {
      "text/plain": [
       "[Text(0.5,0,'')]"
      ]
     },
     "execution_count": 11,
     "metadata": {},
     "output_type": "execute_result"
    },
    {
     "data": {
      "image/png": "[encoded data removed]",
      "text/plain": [
       "<matplotlib.figure.Figure at 0x113ff5400>"
      ]
     },
     "metadata": {},
     "output_type": "display_data"
    }
   ],
   "source": [
    "# Cut the window in 2 parts\n",
    "f, (ax_box, ax_hist) = plt.subplots(2, sharex=True, gridspec_kw={\"height_ratios\": (.2, .8)}, figsize=[12, 10])\n",
    " \n",
    "# Add a graph in each part\n",
    "sns.boxplot(Lengths, ax=ax_box)\n",
    "sns.distplot(Lengths, ax=ax_hist)\n",
    " \n",
    "# Remove x axis name for the boxplot\n",
    "ax_box.set(xlabel='')"
   ]
  },
  {
   "cell_type": "code",
   "execution_count": 12,
   "metadata": {
    "ExecuteTime": {
     "end_time": "2019-02-09T09:23:52.318404Z",
     "start_time": "2019-02-09T09:23:52.314139Z"
    },
    "hidden": true,
    "scrolled": true
   },
   "outputs": [
    {
     "data": {
      "text/plain": [
       "1858524"
      ]
     },
     "execution_count": 12,
     "metadata": {},
     "output_type": "execute_result"
    }
   ],
   "source": [
    "sum(TemplateCounts)"
   ]
  },
  {
   "cell_type": "markdown",
   "metadata": {
    "heading_collapsed": true
   },
   "source": [
    "## Regression Model"
   ]
  },
  {
   "cell_type": "markdown",
   "metadata": {
    "ExecuteTime": {
     "end_time": "2019-02-09T17:02:58.737703Z",
     "start_time": "2019-02-09T17:02:58.734917Z"
    },
    "heading_collapsed": true,
    "hidden": true
   },
   "source": [
    "### Load data"
   ]
  },
  {
   "cell_type": "code",
   "execution_count": 1,
   "metadata": {
    "ExecuteTime": {
     "end_time": "2019-02-09T17:16:35.209650Z",
     "start_time": "2019-02-09T17:16:34.644968Z"
    },
    "hidden": true
   },
   "outputs": [
    {
     "data": {
      "text/html": [
       "<style>.container { width:80% !important; }</style>"
      ],
      "text/plain": [
       "<IPython.core.display.HTML object>"
      ]
     },
     "metadata": {},
     "output_type": "display_data"
    }
   ],
   "source": [
    "from IPython.core.display import display, HTML\n",
    "display(HTML(\"<style>.container { width:80% !important; }</style>\"))\n",
    "%matplotlib inline"
   ]
  },
  {
   "cell_type": "code",
   "execution_count": 29,
   "metadata": {
    "ExecuteTime": {
     "end_time": "2019-02-09T19:31:02.594062Z",
     "start_time": "2019-02-09T19:31:02.590976Z"
    },
    "hidden": true
   },
   "outputs": [],
   "source": [
    "import os\n",
    "os.environ['KMP_DUPLICATE_LIB_OK']='True'"
   ]
  },
  {
   "cell_type": "code",
   "execution_count": 30,
   "metadata": {
    "ExecuteTime": {
     "end_time": "2019-02-09T19:31:03.367915Z",
     "start_time": "2019-02-09T19:31:03.364591Z"
    },
    "hidden": true
   },
   "outputs": [],
   "source": [
    "import plaidml.keras\n",
    "plaidml.keras.install_backend()"
   ]
  },
  {
   "cell_type": "code",
   "execution_count": 36,
   "metadata": {
    "ExecuteTime": {
     "end_time": "2019-02-09T19:39:21.026069Z",
     "start_time": "2019-02-09T19:39:21.022879Z"
    },
    "hidden": true
   },
   "outputs": [],
   "source": [
    "import pandas as pd\n",
    "import matplotlib.pyplot as plt\n",
    "import seaborn as sns\n",
    "import numpy as np"
   ]
  },
  {
   "cell_type": "code",
   "execution_count": 4,
   "metadata": {
    "ExecuteTime": {
     "end_time": "2019-02-09T17:16:39.204171Z",
     "start_time": "2019-02-09T17:16:39.201061Z"
    },
    "hidden": true
   },
   "outputs": [],
   "source": [
    "DPATH = 'dataset.csv'"
   ]
  },
  {
   "cell_type": "code",
   "execution_count": 5,
   "metadata": {
    "ExecuteTime": {
     "end_time": "2019-02-09T17:16:39.872036Z",
     "start_time": "2019-02-09T17:16:39.867252Z"
    },
    "hidden": true
   },
   "outputs": [],
   "source": [
    "AAlist = [\n",
    "    'A', 'R', 'N', 'D', 'C', 'Q', 'E', 'G', 'H', 'I', 'L', 'K', 'M', 'F', 'P',\n",
    "    'S', 'T', 'W', 'Y', 'V'\n",
    "]\n",
    "pdHeader = ['ID', 'Solvent', 'SecondaryS', 'Alignment', 'DFIRE2'\n",
    "            ] + ['Pot_' + AA\n",
    "                 for AA in AAlist] + ['Freq_' + AA\n",
    "                                      for AA in AAlist] + ['Fitness']"
   ]
  },
  {
   "cell_type": "code",
   "execution_count": 6,
   "metadata": {
    "ExecuteTime": {
     "end_time": "2019-02-09T17:16:41.626433Z",
     "start_time": "2019-02-09T17:16:40.587901Z"
    },
    "hidden": true
   },
   "outputs": [
    {
     "data": {
      "text/html": [
       "<div>\n",
       "<style scoped>\n",
       "    .dataframe tbody tr th:only-of-type {\n",
       "        vertical-align: middle;\n",
       "    }\n",
       "\n",
       "    .dataframe tbody tr th {\n",
       "        vertical-align: top;\n",
       "    }\n",
       "\n",
       "    .dataframe thead th {\n",
       "        text-align: right;\n",
       "    }\n",
       "</style>\n",
       "<table border=\"1\" class=\"dataframe\">\n",
       "  <thead>\n",
       "    <tr style=\"text-align: right;\">\n",
       "      <th></th>\n",
       "      <th>ID</th>\n",
       "      <th>Solvent</th>\n",
       "      <th>SecondaryS</th>\n",
       "      <th>Alignment</th>\n",
       "      <th>DFIRE2</th>\n",
       "      <th>Pot_A</th>\n",
       "      <th>Pot_R</th>\n",
       "      <th>Pot_N</th>\n",
       "      <th>Pot_D</th>\n",
       "      <th>Pot_C</th>\n",
       "      <th>...</th>\n",
       "      <th>Freq_K</th>\n",
       "      <th>Freq_M</th>\n",
       "      <th>Freq_F</th>\n",
       "      <th>Freq_P</th>\n",
       "      <th>Freq_S</th>\n",
       "      <th>Freq_T</th>\n",
       "      <th>Freq_W</th>\n",
       "      <th>Freq_Y</th>\n",
       "      <th>Freq_V</th>\n",
       "      <th>Fitness</th>\n",
       "    </tr>\n",
       "  </thead>\n",
       "  <tbody>\n",
       "    <tr>\n",
       "      <th>0</th>\n",
       "      <td>3ce9A01-1iqcA02-154</td>\n",
       "      <td>1.10332</td>\n",
       "      <td>1.11589</td>\n",
       "      <td>0.210212</td>\n",
       "      <td>-3.34437</td>\n",
       "      <td>1.867020</td>\n",
       "      <td>-0.329162</td>\n",
       "      <td>4.604260</td>\n",
       "      <td>1.256290</td>\n",
       "      <td>1.16004</td>\n",
       "      <td>...</td>\n",
       "      <td>0.709290</td>\n",
       "      <td>1.600730</td>\n",
       "      <td>0.969261</td>\n",
       "      <td>0.647722</td>\n",
       "      <td>1.540010</td>\n",
       "      <td>0.869046</td>\n",
       "      <td>1.735630</td>\n",
       "      <td>0.955530</td>\n",
       "      <td>1.730530</td>\n",
       "      <td>0.28139</td>\n",
       "    </tr>\n",
       "    <tr>\n",
       "      <th>1</th>\n",
       "      <td>3ce9A01-1eavA00-154</td>\n",
       "      <td>1.14688</td>\n",
       "      <td>1.18029</td>\n",
       "      <td>0.230569</td>\n",
       "      <td>-3.80797</td>\n",
       "      <td>2.420280</td>\n",
       "      <td>-0.271734</td>\n",
       "      <td>0.315953</td>\n",
       "      <td>3.354960</td>\n",
       "      <td>0.00000</td>\n",
       "      <td>...</td>\n",
       "      <td>0.244186</td>\n",
       "      <td>0.864045</td>\n",
       "      <td>0.888700</td>\n",
       "      <td>1.801730</td>\n",
       "      <td>1.221180</td>\n",
       "      <td>1.248070</td>\n",
       "      <td>0.613874</td>\n",
       "      <td>1.731540</td>\n",
       "      <td>0.816842</td>\n",
       "      <td>0.43198</td>\n",
       "    </tr>\n",
       "    <tr>\n",
       "      <th>2</th>\n",
       "      <td>3ce9A01-2l6hA00-154</td>\n",
       "      <td>1.13107</td>\n",
       "      <td>1.09655</td>\n",
       "      <td>0.246301</td>\n",
       "      <td>-4.08383</td>\n",
       "      <td>0.385006</td>\n",
       "      <td>-0.188539</td>\n",
       "      <td>-0.458263</td>\n",
       "      <td>1.023380</td>\n",
       "      <td>0.00000</td>\n",
       "      <td>...</td>\n",
       "      <td>0.476738</td>\n",
       "      <td>2.833120</td>\n",
       "      <td>2.003480</td>\n",
       "      <td>0.263055</td>\n",
       "      <td>1.221180</td>\n",
       "      <td>0.268033</td>\n",
       "      <td>0.613874</td>\n",
       "      <td>0.179524</td>\n",
       "      <td>0.202107</td>\n",
       "      <td>0.24474</td>\n",
       "    </tr>\n",
       "    <tr>\n",
       "      <th>3</th>\n",
       "      <td>3ce9A01-1nvmB02-154</td>\n",
       "      <td>1.12012</td>\n",
       "      <td>1.14180</td>\n",
       "      <td>0.263712</td>\n",
       "      <td>-3.68849</td>\n",
       "      <td>0.321031</td>\n",
       "      <td>-0.341497</td>\n",
       "      <td>-0.457396</td>\n",
       "      <td>0.030274</td>\n",
       "      <td>0.00000</td>\n",
       "      <td>...</td>\n",
       "      <td>0.453469</td>\n",
       "      <td>0.779141</td>\n",
       "      <td>0.517108</td>\n",
       "      <td>1.417060</td>\n",
       "      <td>0.902358</td>\n",
       "      <td>0.268033</td>\n",
       "      <td>0.613874</td>\n",
       "      <td>0.208480</td>\n",
       "      <td>1.071580</td>\n",
       "      <td>0.30722</td>\n",
       "    </tr>\n",
       "    <tr>\n",
       "      <th>4</th>\n",
       "      <td>3ce9A01-4gl8A01-154</td>\n",
       "      <td>1.11168</td>\n",
       "      <td>1.11525</td>\n",
       "      <td>0.209374</td>\n",
       "      <td>-3.41074</td>\n",
       "      <td>0.270029</td>\n",
       "      <td>-0.343361</td>\n",
       "      <td>0.338566</td>\n",
       "      <td>0.321517</td>\n",
       "      <td>0.00000</td>\n",
       "      <td>...</td>\n",
       "      <td>0.941841</td>\n",
       "      <td>0.779141</td>\n",
       "      <td>0.597669</td>\n",
       "      <td>0.263055</td>\n",
       "      <td>1.858830</td>\n",
       "      <td>0.647059</td>\n",
       "      <td>1.735630</td>\n",
       "      <td>0.984486</td>\n",
       "      <td>0.202107</td>\n",
       "      <td>0.34840</td>\n",
       "    </tr>\n",
       "  </tbody>\n",
       "</table>\n",
       "<p>5 rows × 46 columns</p>\n",
       "</div>"
      ],
      "text/plain": [
       "                    ID  Solvent  SecondaryS  Alignment   DFIRE2     Pot_A  \\\n",
       "0  3ce9A01-1iqcA02-154  1.10332     1.11589   0.210212 -3.34437  1.867020   \n",
       "1  3ce9A01-1eavA00-154  1.14688     1.18029   0.230569 -3.80797  2.420280   \n",
       "2  3ce9A01-2l6hA00-154  1.13107     1.09655   0.246301 -4.08383  0.385006   \n",
       "3  3ce9A01-1nvmB02-154  1.12012     1.14180   0.263712 -3.68849  0.321031   \n",
       "4  3ce9A01-4gl8A01-154  1.11168     1.11525   0.209374 -3.41074  0.270029   \n",
       "\n",
       "      Pot_R     Pot_N     Pot_D    Pot_C  ...    Freq_K    Freq_M    Freq_F  \\\n",
       "0 -0.329162  4.604260  1.256290  1.16004  ...  0.709290  1.600730  0.969261   \n",
       "1 -0.271734  0.315953  3.354960  0.00000  ...  0.244186  0.864045  0.888700   \n",
       "2 -0.188539 -0.458263  1.023380  0.00000  ...  0.476738  2.833120  2.003480   \n",
       "3 -0.341497 -0.457396  0.030274  0.00000  ...  0.453469  0.779141  0.517108   \n",
       "4 -0.343361  0.338566  0.321517  0.00000  ...  0.941841  0.779141  0.597669   \n",
       "\n",
       "     Freq_P    Freq_S    Freq_T    Freq_W    Freq_Y    Freq_V  Fitness  \n",
       "0  0.647722  1.540010  0.869046  1.735630  0.955530  1.730530  0.28139  \n",
       "1  1.801730  1.221180  1.248070  0.613874  1.731540  0.816842  0.43198  \n",
       "2  0.263055  1.221180  0.268033  0.613874  0.179524  0.202107  0.24474  \n",
       "3  1.417060  0.902358  0.268033  0.613874  0.208480  1.071580  0.30722  \n",
       "4  0.263055  1.858830  0.647059  1.735630  0.984486  0.202107  0.34840  \n",
       "\n",
       "[5 rows x 46 columns]"
      ]
     },
     "execution_count": 6,
     "metadata": {},
     "output_type": "execute_result"
    }
   ],
   "source": [
    "df = pd.read_csv(DPATH, names=pdHeader)\n",
    "df.head()"
   ]
  },
  {
   "cell_type": "code",
   "execution_count": 7,
   "metadata": {
    "ExecuteTime": {
     "end_time": "2019-02-09T17:16:48.118831Z",
     "start_time": "2019-02-09T17:16:47.571594Z"
    },
    "hidden": true,
    "scrolled": true
   },
   "outputs": [
    {
     "data": {
      "text/plain": [
       "[Text(0.5, 0, '')]"
      ]
     },
     "execution_count": 7,
     "metadata": {},
     "output_type": "execute_result"
    },
    {
     "data": {
      "image/png": "[encoded data removed]",
      "text/plain": [
       "<Figure size 864x720 with 2 Axes>"
      ]
     },
     "metadata": {
      "needs_background": "light"
     },
     "output_type": "display_data"
    }
   ],
   "source": [
    "# Cut the window in 2 parts\n",
    "f, (ax_box, ax_hist) = plt.subplots(2, sharex=True, gridspec_kw={\"height_ratios\": (.2, .8)}, figsize=[12, 10])\n",
    " \n",
    "# Add a graph in each part\n",
    "sns.boxplot(df['Fitness'], ax=ax_box)\n",
    "sns.distplot(df['Fitness'], ax=ax_hist)\n",
    " \n",
    "# Remove x axis name for the boxplot\n",
    "ax_box.set(xlabel='')"
   ]
  },
  {
   "cell_type": "code",
   "execution_count": 69,
   "metadata": {
    "ExecuteTime": {
     "end_time": "2019-02-10T03:56:00.145568Z",
     "start_time": "2019-02-10T03:55:52.775652Z"
    },
    "hidden": true,
    "scrolled": true
   },
   "outputs": [
    {
     "data": {
      "image/png": "[encoded data removed]",
      "text/plain": [
       "<Figure size 2880x2160 with 49 Axes>"
      ]
     },
     "metadata": {
      "needs_background": "light"
     },
     "output_type": "display_data"
    }
   ],
   "source": [
    "df.hist(figsize = (40,30))\n",
    "plt.show()"
   ]
  },
  {
   "cell_type": "code",
   "execution_count": 74,
   "metadata": {
    "ExecuteTime": {
     "end_time": "2019-02-10T04:01:48.732830Z",
     "start_time": "2019-02-10T04:01:48.724124Z"
    },
    "hidden": true
   },
   "outputs": [
    {
     "data": {
      "text/plain": [
       "ID            2y8tA03-1vq8P03-55\n",
       "Solvent                 0.649375\n",
       "SecondaryS              0.163789\n",
       "Alignment               0.101087\n",
       "DFIRE2                  -3.77992\n",
       "Pot_A                   0.723928\n",
       "Pot_R                          0\n",
       "Pot_N                          0\n",
       "Pot_D                    2.13719\n",
       "Pot_C                          0\n",
       "Pot_Q                    7.10401\n",
       "Pot_E                    1.29606\n",
       "Pot_G                1.55111e+06\n",
       "Pot_H                          0\n",
       "Pot_I                    0.98957\n",
       "Pot_L                          0\n",
       "Pot_K                    1.25552\n",
       "Pot_M                          0\n",
       "Pot_F                          0\n",
       "Pot_P                          0\n",
       "Pot_S                  -0.670156\n",
       "Pot_T                    2.45486\n",
       "Pot_W                          0\n",
       "Pot_Y                          0\n",
       "Pot_V                          0\n",
       "Freq_A                  0.798271\n",
       "Freq_R                         0\n",
       "Freq_N                  0.707107\n",
       "Freq_D                   4.62717\n",
       "Freq_C                   9.50666\n",
       "Freq_Q                   21.1541\n",
       "Freq_E                   2.30131\n",
       "Freq_G                  0.798271\n",
       "Freq_H                         0\n",
       "Freq_I                  0.295699\n",
       "Freq_L                         0\n",
       "Freq_K                  0.372838\n",
       "Freq_M                         0\n",
       "Freq_F                  0.707107\n",
       "Freq_P                  0.707107\n",
       "Freq_S                  0.017142\n",
       "Freq_T                   2.60519\n",
       "Freq_W                         0\n",
       "Freq_Y                         0\n",
       "Freq_V                  0.707107\n",
       "Fitness                  0.24918\n",
       "Name: 11078, dtype: object"
      ]
     },
     "execution_count": 74,
     "metadata": {},
     "output_type": "execute_result"
    }
   ],
   "source": [
    "df.iloc[df['Pot_G'].idxmax(),]"
   ]
  },
  {
   "cell_type": "code",
   "execution_count": 19,
   "metadata": {
    "ExecuteTime": {
     "end_time": "2019-02-09T19:28:34.648831Z",
     "start_time": "2019-02-09T19:28:34.512160Z"
    },
    "hidden": true
   },
   "outputs": [],
   "source": [
    "from sklearn.model_selection import train_test_split \n",
    "\n",
    "X = df.iloc[:,1:-1]\n",
    "y = df.iloc[:,-1]\n",
    "\n",
    "X_train, X_test, y_train, y_test = train_test_split(X, y)"
   ]
  },
  {
   "cell_type": "code",
   "execution_count": 25,
   "metadata": {
    "ExecuteTime": {
     "end_time": "2019-02-09T19:30:38.652032Z",
     "start_time": "2019-02-09T19:30:38.647631Z"
    },
    "hidden": true
   },
   "outputs": [
    {
     "data": {
      "text/plain": [
       "(82650, 44)"
      ]
     },
     "execution_count": 25,
     "metadata": {},
     "output_type": "execute_result"
    }
   ],
   "source": [
    "X_train.shape"
   ]
  },
  {
   "cell_type": "code",
   "execution_count": 26,
   "metadata": {
    "ExecuteTime": {
     "end_time": "2019-02-09T19:30:39.536310Z",
     "start_time": "2019-02-09T19:30:39.531713Z"
    },
    "hidden": true
   },
   "outputs": [],
   "source": [
    "train_data, test_data, train_targets, test_targets = X_train, X_test, y_train, y_test"
   ]
  },
  {
   "cell_type": "markdown",
   "metadata": {
    "ExecuteTime": {
     "end_time": "2019-02-09T17:03:20.900245Z",
     "start_time": "2019-02-09T17:03:20.897677Z"
    },
    "heading_collapsed": true,
    "hidden": true
   },
   "source": [
    "### Build model"
   ]
  },
  {
   "cell_type": "code",
   "execution_count": 62,
   "metadata": {
    "ExecuteTime": {
     "end_time": "2019-02-10T02:25:32.757804Z",
     "start_time": "2019-02-10T02:25:32.749945Z"
    },
    "hidden": true
   },
   "outputs": [],
   "source": [
    "from keras import models\n",
    "from keras import layers\n",
    "from keras import regularizers\n",
    "\n",
    "\n",
    "def build_model():\n",
    "    model = models.Sequential()\n",
    "    model.add(layers.Dense(64, kernel_regularizer=regularizers.l2(0.0005),\n",
    "                           activation='relu',\n",
    "                           input_shape=(train_data.shape[1],)))\n",
    "    model.add(layers.Dropout(0.2))\n",
    "    model.add(layers.Dense(64, kernel_regularizer=regularizers.l2(0.0005),\n",
    "                           activation='relu'))\n",
    "    model.add(layers.Dropout(0.2))\n",
    "    model.add(layers.Dense(64, kernel_regularizer=regularizers.l2(0.0005),\n",
    "                           activation='relu'))\n",
    "    model.add(layers.Dropout(0.2))\n",
    "    model.add(layers.Dense(1))\n",
    "    model.compile(optimizer='rmsprop', loss='mse', metrics=['mae'])\n",
    "    return model"
   ]
  },
  {
   "cell_type": "code",
   "execution_count": 34,
   "metadata": {
    "ExecuteTime": {
     "end_time": "2019-02-09T19:38:42.377589Z",
     "start_time": "2019-02-09T19:32:46.448050Z"
    },
    "hidden": true
   },
   "outputs": [
    {
     "name": "stdout",
     "output_type": "stream",
     "text": [
      "processing fold # 0\n",
      "Epoch 1/20\n",
      "68875/68875 [==============================] - 3s 43us/step - loss: 4118406900.5065 - mean_absolute_error: 437.4271\n",
      "Epoch 2/20\n",
      "68875/68875 [==============================] - 3s 37us/step - loss: 4333055857.7906 - mean_absolute_error: 421.3018\n",
      "Epoch 3/20\n",
      "68875/68875 [==============================] - 2s 34us/step - loss: 3415958310.7770 - mean_absolute_error: 398.8082\n",
      "Epoch 4/20\n",
      "68875/68875 [==============================] - 2s 33us/step - loss: 3460286129.8855 - mean_absolute_error: 371.4910\n",
      "Epoch 5/20\n",
      "68875/68875 [==============================] - 2s 33us/step - loss: 4239045567.4095 - mean_absolute_error: 418.5547\n",
      "Epoch 6/20\n",
      "68875/68875 [==============================] - 3s 50us/step - loss: 1348492036.1777 - mean_absolute_error: 301.8314\n",
      "Epoch 7/20\n",
      "68875/68875 [==============================] - 2s 34us/step - loss: 2645681675.5972 - mean_absolute_error: 384.6992\n",
      "Epoch 8/20\n",
      "68875/68875 [==============================] - 2s 35us/step - loss: 4315158095.4353 - mean_absolute_error: 412.5639\n",
      "Epoch 9/20\n",
      "68875/68875 [==============================] - 2s 35us/step - loss: 1791035553.3742 - mean_absolute_error: 261.6470\n",
      "Epoch 10/20\n",
      "68875/68875 [==============================] - 2s 36us/step - loss: 2730263313.9374 - mean_absolute_error: 315.7565\n",
      "Epoch 11/20\n",
      "68875/68875 [==============================] - 2s 36us/step - loss: 957912186.8748 - mean_absolute_error: 219.9661\n",
      "Epoch 12/20\n",
      "68875/68875 [==============================] - 3s 45us/step - loss: 693330672.0243 - mean_absolute_error: 154.1507\n",
      "Epoch 13/20\n",
      "68875/68875 [==============================] - 3s 38us/step - loss: 483579378.7375 - mean_absolute_error: 149.5587\n",
      "Epoch 14/20\n",
      "68875/68875 [==============================] - 3s 38us/step - loss: 487444473.9036 - mean_absolute_error: 154.9827\n",
      "Epoch 15/20\n",
      "68875/68875 [==============================] - 3s 39us/step - loss: 291132366.0894 - mean_absolute_error: 123.5544\n",
      "Epoch 16/20\n",
      "68875/68875 [==============================] - 3s 40us/step - loss: 255266422.3769 - mean_absolute_error: 130.6571\n",
      "Epoch 17/20\n",
      "68875/68875 [==============================] - 3s 40us/step - loss: 576554159.1122 - mean_absolute_error: 171.9818\n",
      "Epoch 18/20\n",
      "68875/68875 [==============================] - 3s 41us/step - loss: 468023731.1122 - mean_absolute_error: 132.8153\n",
      "Epoch 19/20\n",
      "68875/68875 [==============================] - 3s 46us/step - loss: 876770492.4265 - mean_absolute_error: 198.3960\n",
      "Epoch 20/20\n",
      "68875/68875 [==============================] - 3s 41us/step - loss: 365924017.2310 - mean_absolute_error: 142.1378\n",
      "processing fold # 1\n",
      "Epoch 1/20\n",
      "68875/68875 [==============================] - 3s 43us/step - loss: 1213404604.9200 - mean_absolute_error: 273.3248\n",
      "Epoch 2/20\n",
      "68875/68875 [==============================] - 3s 42us/step - loss: 3595535381.6481 - mean_absolute_error: 305.7280\n",
      "Epoch 3/20\n",
      "68875/68875 [==============================] - 3s 47us/step - loss: 923610966.3844 - mean_absolute_error: 213.0910\n",
      "Epoch 4/20\n",
      "68875/68875 [==============================] - 3s 43us/step - loss: 1702575802.7125 - mean_absolute_error: 216.4350\n",
      "Epoch 5/20\n",
      "68875/68875 [==============================] - 3s 46us/step - loss: 1306588661.5121 - mean_absolute_error: 173.9702\n",
      "Epoch 6/20\n",
      "68875/68875 [==============================] - 3s 46us/step - loss: 358402475.7416 - mean_absolute_error: 124.2492\n",
      "Epoch 7/20\n",
      "68875/68875 [==============================] - 3s 43us/step - loss: 650544973.9396 - mean_absolute_error: 162.5580\n",
      "Epoch 8/20\n",
      "68875/68875 [==============================] - 3s 42us/step - loss: 615442510.5890 - mean_absolute_error: 155.6805\n",
      "Epoch 9/20\n",
      "68875/68875 [==============================] - 3s 43us/step - loss: 443206204.2701 - mean_absolute_error: 123.1392\n",
      "Epoch 10/20\n",
      "68875/68875 [==============================] - 3s 44us/step - loss: 522281710.7076 - mean_absolute_error: 154.0852\n",
      "Epoch 11/20\n",
      "68875/68875 [==============================] - 3s 48us/step - loss: 367619842.5389 - mean_absolute_error: 129.2682\n",
      "Epoch 12/20\n",
      "68875/68875 [==============================] - 3s 43us/step - loss: 479397191.6871 - mean_absolute_error: 140.4276\n",
      "Epoch 13/20\n",
      "68875/68875 [==============================] - 3s 42us/step - loss: 1134186134.1334 - mean_absolute_error: 194.3550\n",
      "Epoch 14/20\n",
      "68875/68875 [==============================] - 3s 48us/step - loss: 127514911.1041 - mean_absolute_error: 84.1845\n",
      "Epoch 15/20\n",
      "68875/68875 [==============================] - 3s 45us/step - loss: 236630271.6576 - mean_absolute_error: 106.1769\n",
      "Epoch 16/20\n",
      "68875/68875 [==============================] - 3s 40us/step - loss: 170226293.7399 - mean_absolute_error: 85.5183\n",
      "Epoch 17/20\n",
      "68875/68875 [==============================] - 2s 36us/step - loss: 179556782.1938 - mean_absolute_error: 90.0039\n",
      "Epoch 18/20\n",
      "68875/68875 [==============================] - 3s 44us/step - loss: 233090799.0292 - mean_absolute_error: 96.3876\n",
      "Epoch 19/20\n",
      "68875/68875 [==============================] - 2s 31us/step - loss: 491664878.0224 - mean_absolute_error: 117.7292\n",
      "Epoch 20/20\n",
      "68875/68875 [==============================] - 3s 41us/step - loss: 217900959.0695 - mean_absolute_error: 68.7328\n",
      "processing fold # 2\n",
      "Epoch 1/20\n",
      "68875/68875 [==============================] - 2s 31us/step - loss: 1382997086.7710 - mean_absolute_error: 300.6494\n",
      "Epoch 2/20\n",
      "68875/68875 [==============================] - 2s 31us/step - loss: 1298256399.9455 - mean_absolute_error: 281.1472\n",
      "Epoch 3/20\n",
      "68875/68875 [==============================] - 2s 36us/step - loss: 301289459.3779 - mean_absolute_error: 175.6155\n",
      "Epoch 4/20\n",
      "68875/68875 [==============================] - 2s 31us/step - loss: 1001278613.4924 - mean_absolute_error: 266.1574\n",
      "Epoch 5/20\n",
      "68875/68875 [==============================] - 2s 30us/step - loss: 2864363425.8855 - mean_absolute_error: 342.3581\n",
      "Epoch 6/20\n",
      "68875/68875 [==============================] - 3s 46us/step - loss: 1665255745.2165 - mean_absolute_error: 263.8818\n",
      "Epoch 7/20\n",
      "68875/68875 [==============================] - 3s 43us/step - loss: 3545256422.7454 - mean_absolute_error: 343.2331\n",
      "Epoch 8/20\n",
      "68875/68875 [==============================] - 3s 44us/step - loss: 710787400.2515 - mean_absolute_error: 197.2821\n",
      "Epoch 9/20\n",
      "68875/68875 [==============================] - 3s 43us/step - loss: 1946773776.2887 - mean_absolute_error: 311.3414\n",
      "Epoch 10/20\n",
      "68875/68875 [==============================] - 3s 42us/step - loss: 1029601967.7701 - mean_absolute_error: 220.8575\n",
      "Epoch 11/20\n",
      "68875/68875 [==============================] - 3s 47us/step - loss: 1139904247.5891 - mean_absolute_error: 242.0319\n",
      "Epoch 12/20\n",
      "68875/68875 [==============================] - 3s 41us/step - loss: 1120608380.6665 - mean_absolute_error: 244.6260\n",
      "Epoch 13/20\n",
      "68875/68875 [==============================] - 3s 41us/step - loss: 1127250152.6256 - mean_absolute_error: 250.0159\n",
      "Epoch 14/20\n",
      "68875/68875 [==============================] - 3s 45us/step - loss: 148471397.1803 - mean_absolute_error: 106.9584\n",
      "Epoch 15/20\n",
      "68875/68875 [==============================] - 3s 44us/step - loss: 1002536963.5880 - mean_absolute_error: 197.0233\n",
      "Epoch 16/20\n",
      "68875/68875 [==============================] - 3s 42us/step - loss: 721175145.4232 - mean_absolute_error: 177.4027\n",
      "Epoch 17/20\n",
      "68875/68875 [==============================] - 3s 45us/step - loss: 292160021.2275 - mean_absolute_error: 111.9079\n",
      "Epoch 18/20\n",
      "68875/68875 [==============================] - 3s 46us/step - loss: 210137002.7726 - mean_absolute_error: 91.2961\n",
      "Epoch 19/20\n",
      "68875/68875 [==============================] - 3s 45us/step - loss: 305510852.3616 - mean_absolute_error: 96.6164\n",
      "Epoch 20/20\n",
      "68875/68875 [==============================] - 3s 42us/step - loss: 198863084.4739 - mean_absolute_error: 85.4312\n",
      "processing fold # 3\n",
      "Epoch 1/20\n",
      "68875/68875 [==============================] - 3s 50us/step - loss: 331449423.8213 - mean_absolute_error: 176.4459\n",
      "Epoch 2/20\n",
      "68875/68875 [==============================] - 3s 50us/step - loss: 2343435739.7908 - mean_absolute_error: 276.5730\n",
      "Epoch 3/20\n",
      "68875/68875 [==============================] - 4s 59us/step - loss: 1520140373.1698 - mean_absolute_error: 246.2820\n",
      "Epoch 4/20\n",
      "68875/68875 [==============================] - 3s 43us/step - loss: 2476215616.9633 - mean_absolute_error: 296.1333\n",
      "Epoch 5/20\n",
      "68875/68875 [==============================] - 3s 39us/step - loss: 2151394877.7790 - mean_absolute_error: 269.9040\n",
      "Epoch 6/20\n",
      "68875/68875 [==============================] - 3s 45us/step - loss: 657630513.5883 - mean_absolute_error: 179.3456\n",
      "Epoch 7/20\n",
      "68875/68875 [==============================] - 2s 33us/step - loss: 130187453.5750 - mean_absolute_error: 114.8249\n",
      "Epoch 8/20\n",
      "68875/68875 [==============================] - 2s 34us/step - loss: 1247040716.1198 - mean_absolute_error: 234.9584\n",
      "Epoch 9/20\n",
      "68875/68875 [==============================] - 2s 35us/step - loss: 2001626794.4085 - mean_absolute_error: 218.0926\n",
      "Epoch 10/20\n",
      "68875/68875 [==============================] - 3s 46us/step - loss: 326060616.2380 - mean_absolute_error: 119.7141\n",
      "Epoch 11/20\n",
      "68875/68875 [==============================] - 2s 30us/step - loss: 881566596.9187 - mean_absolute_error: 172.9573\n",
      "Epoch 12/20\n",
      "68875/68875 [==============================] - 2s 33us/step - loss: 1230341564.6275 - mean_absolute_error: 218.9016\n",
      "Epoch 13/20\n",
      "68875/68875 [==============================] - 2s 34us/step - loss: 1379988208.0542 - mean_absolute_error: 194.3245\n",
      "Epoch 14/20\n",
      "68875/68875 [==============================] - 3s 47us/step - loss: 1102428393.1364 - mean_absolute_error: 201.9108\n",
      "Epoch 15/20\n",
      "68875/68875 [==============================] - 3s 50us/step - loss: 684361960.4665 - mean_absolute_error: 177.7942\n",
      "Epoch 16/20\n",
      "68875/68875 [==============================] - 3s 45us/step - loss: 110573908.8187 - mean_absolute_error: 76.4253\n",
      "Epoch 17/20\n",
      "68875/68875 [==============================] - 3s 41us/step - loss: 532659995.6765 - mean_absolute_error: 124.7672\n",
      "Epoch 18/20\n",
      "68875/68875 [==============================] - 3s 42us/step - loss: 674534252.0966 - mean_absolute_error: 142.6142\n",
      "Epoch 19/20\n",
      "68875/68875 [==============================] - 5s 68us/step - loss: 566765119.6472 - mean_absolute_error: 149.0431\n",
      "Epoch 20/20\n",
      "68875/68875 [==============================] - 3s 46us/step - loss: 252875034.3975 - mean_absolute_error: 103.4529\n",
      "processing fold # 4\n",
      "Epoch 1/20\n",
      "68875/68875 [==============================] - 3s 41us/step - loss: 1187217519.7457 - mean_absolute_error: 241.3411\n",
      "Epoch 2/20\n",
      "68875/68875 [==============================] - 3s 40us/step - loss: 656224031.2581 - mean_absolute_error: 185.6279\n",
      "Epoch 3/20\n",
      "68875/68875 [==============================] - 3s 44us/step - loss: 2777351487.5537 - mean_absolute_error: 330.4420\n",
      "Epoch 4/20\n",
      "68875/68875 [==============================] - 3s 50us/step - loss: 1459849427.9285 - mean_absolute_error: 226.0833\n",
      "Epoch 5/20\n",
      "68875/68875 [==============================] - 2s 35us/step - loss: 806231514.7557 - mean_absolute_error: 230.0504\n",
      "Epoch 6/20\n",
      "68875/68875 [==============================] - 4s 51us/step - loss: 4638537255.2969 - mean_absolute_error: 400.3549\n",
      "Epoch 7/20\n",
      "68875/68875 [==============================] - 4s 61us/step - loss: 3189224931.4487 - mean_absolute_error: 282.0075\n",
      "Epoch 8/20\n",
      "68875/68875 [==============================] - 4s 53us/step - loss: 564937260.2079 - mean_absolute_error: 158.5875\n",
      "Epoch 9/20\n",
      "68875/68875 [==============================] - 4s 53us/step - loss: 1100513884.5289 - mean_absolute_error: 245.9548\n",
      "Epoch 10/20\n",
      "68875/68875 [==============================] - 4s 61us/step - loss: 2987452161.6303 - mean_absolute_error: 317.5052\n",
      "Epoch 11/20\n",
      "68875/68875 [==============================] - 3s 39us/step - loss: 1991327795.6938 - mean_absolute_error: 252.0601\n",
      "Epoch 12/20\n",
      "68875/68875 [==============================] - 2s 36us/step - loss: 2413951050.0866 - mean_absolute_error: 252.9035\n",
      "Epoch 13/20\n",
      "68875/68875 [==============================] - 2s 33us/step - loss: 432457656.5347 - mean_absolute_error: 146.5365\n",
      "Epoch 14/20\n",
      "68875/68875 [==============================] - 3s 48us/step - loss: 1267066392.5907 - mean_absolute_error: 257.9691\n",
      "Epoch 15/20\n",
      "68875/68875 [==============================] - 4s 56us/step - loss: 2453720312.0375 - mean_absolute_error: 293.1842\n",
      "Epoch 16/20\n",
      "68875/68875 [==============================] - 4s 52us/step - loss: 1409025206.2612 - mean_absolute_error: 261.6145\n",
      "Epoch 17/20\n",
      "68875/68875 [==============================] - 4s 52us/step - loss: 1498998630.7411 - mean_absolute_error: 261.1024\n",
      "Epoch 18/20\n",
      "68875/68875 [==============================] - 4s 55us/step - loss: 641532995.3467 - mean_absolute_error: 139.1551\n",
      "Epoch 19/20\n",
      "68875/68875 [==============================] - 4s 56us/step - loss: 1162971653.7815 - mean_absolute_error: 197.8081\n",
      "Epoch 20/20\n",
      "68875/68875 [==============================] - 4s 60us/step - loss: 1298448572.6479 - mean_absolute_error: 234.6521\n",
      "processing fold # 5\n",
      "Epoch 1/20\n",
      "68875/68875 [==============================] - 4s 60us/step - loss: 3690488303.0605 - mean_absolute_error: 400.0534\n",
      "Epoch 2/20\n",
      "68875/68875 [==============================] - 4s 54us/step - loss: 4407445007.7873 - mean_absolute_error: 417.5703\n",
      "Epoch 3/20\n",
      "68875/68875 [==============================] - 4s 58us/step - loss: 3711300853.5445 - mean_absolute_error: 377.9486\n",
      "Epoch 4/20\n",
      "68875/68875 [==============================] - 4s 60us/step - loss: 10503557159.0921 - mean_absolute_error: 506.0836\n",
      "Epoch 5/20\n",
      "68875/68875 [==============================] - 3s 48us/step - loss: 4788408403.3148 - mean_absolute_error: 355.8976\n",
      "Epoch 6/20\n",
      "68875/68875 [==============================] - 2s 32us/step - loss: 1049622324.1795 - mean_absolute_error: 196.0764\n",
      "Epoch 7/20\n",
      "68875/68875 [==============================] - 2s 30us/step - loss: 624098476.2231 - mean_absolute_error: 145.7529\n",
      "Epoch 8/20\n",
      "68875/68875 [==============================] - 3s 43us/step - loss: 490296819.2072 - mean_absolute_error: 155.9950\n",
      "Epoch 9/20\n",
      "68875/68875 [==============================] - 2s 34us/step - loss: 1602105122.3266 - mean_absolute_error: 180.0779\n",
      "Epoch 10/20\n",
      "68875/68875 [==============================] - 3s 38us/step - loss: 1549264636.8750 - mean_absolute_error: 213.6741\n",
      "Epoch 11/20\n",
      "68875/68875 [==============================] - 2s 36us/step - loss: 244774165.8091 - mean_absolute_error: 125.2860\n",
      "Epoch 12/20\n",
      "68875/68875 [==============================] - 3s 39us/step - loss: 447463495.7005 - mean_absolute_error: 135.5089\n",
      "Epoch 13/20\n",
      "68875/68875 [==============================] - 2s 36us/step - loss: 35713735.0991 - mean_absolute_error: 51.0380\n",
      "Epoch 14/20\n",
      "68875/68875 [==============================] - 2s 34us/step - loss: 552518969.7355 - mean_absolute_error: 116.0249\n",
      "Epoch 15/20\n",
      "68875/68875 [==============================] - 2s 29us/step - loss: 81070971.6834 - mean_absolute_error: 77.3426\n",
      "Epoch 16/20\n",
      "68875/68875 [==============================] - 2s 28us/step - loss: 2480142586.7503 - mean_absolute_error: 227.1770\n",
      "Epoch 17/20\n",
      "68875/68875 [==============================] - 2s 28us/step - loss: 163119696.4061 - mean_absolute_error: 88.9300\n",
      "Epoch 18/20\n",
      "68875/68875 [==============================] - 2s 28us/step - loss: 22296652.5808 - mean_absolute_error: 40.7833\n",
      "Epoch 19/20\n",
      "68875/68875 [==============================] - 2s 29us/step - loss: 353655022.2355 - mean_absolute_error: 124.9413\n",
      "Epoch 20/20\n",
      "68875/68875 [==============================] - 2s 33us/step - loss: 564050436.5114 - mean_absolute_error: 147.9371\n"
     ]
    }
   ],
   "source": [
    "import numpy as np\n",
    "\n",
    "k = 6\n",
    "num_val_samples = len(train_data) // k\n",
    "num_epochs = 20\n",
    "all_scores = []\n",
    "for i in range(k):\n",
    "    print('processing fold #', i)\n",
    "    # Prepare the validation data: data from partition # k\n",
    "    val_data = train_data[i * num_val_samples: (i + 1) * num_val_samples]\n",
    "    val_targets = train_targets[i * num_val_samples: (i + 1) * num_val_samples]\n",
    "\n",
    "    # Prepare the training data: data from all other partitions\n",
    "    partial_train_data = np.concatenate(\n",
    "        [train_data[:i * num_val_samples],\n",
    "         train_data[(i + 1) * num_val_samples:]],\n",
    "        axis=0)\n",
    "    partial_train_targets = np.concatenate(\n",
    "        [train_targets[:i * num_val_samples],\n",
    "         train_targets[(i + 1) * num_val_samples:]],\n",
    "        axis=0)\n",
    "\n",
    "    # Build the Keras model (already compiled)\n",
    "    model = build_model()\n",
    "    # Train the model (in silent mode, verbose=0)\n",
    "    model.fit(partial_train_data, partial_train_targets,\n",
    "              epochs=num_epochs, batch_size=128, verbose=1)\n",
    "    # Evaluate the model on the validation data\n",
    "    val_mse, val_mae = model.evaluate(val_data, val_targets, verbose=0)\n",
    "    all_scores.append(val_mae)"
   ]
  },
  {
   "cell_type": "code",
   "execution_count": 35,
   "metadata": {
    "ExecuteTime": {
     "end_time": "2019-02-09T19:39:03.030457Z",
     "start_time": "2019-02-09T19:39:03.016504Z"
    },
    "hidden": true
   },
   "outputs": [
    {
     "data": {
      "text/plain": [
       "[8.550883016549523,\n",
       " 148.64381344158724,\n",
       " 20.404222542266016,\n",
       " 234.70264067353872,\n",
       " 78.4073040137663,\n",
       " 663.362171068542]"
      ]
     },
     "execution_count": 35,
     "metadata": {},
     "output_type": "execute_result"
    }
   ],
   "source": [
    "all_scores"
   ]
  },
  {
   "cell_type": "code",
   "execution_count": 37,
   "metadata": {
    "ExecuteTime": {
     "end_time": "2019-02-09T19:39:24.564139Z",
     "start_time": "2019-02-09T19:39:24.559513Z"
    },
    "hidden": true
   },
   "outputs": [
    {
     "data": {
      "text/plain": [
       "192.345172459375"
      ]
     },
     "execution_count": 37,
     "metadata": {},
     "output_type": "execute_result"
    }
   ],
   "source": [
    "np.mean(all_scores)"
   ]
  },
  {
   "cell_type": "code",
   "execution_count": 65,
   "metadata": {
    "ExecuteTime": {
     "end_time": "2019-02-10T02:34:16.070710Z",
     "start_time": "2019-02-10T02:32:49.612299Z"
    },
    "hidden": true,
    "scrolled": false
   },
   "outputs": [
    {
     "name": "stdout",
     "output_type": "stream",
     "text": [
      "processing fold # 0\n",
      "Train on 68875 samples, validate on 13775 samples\n",
      "Epoch 1/50\n",
      "68875/68875 [==============================] - 13s 184us/step - loss: 24981066183.6594 - mean_absolute_error: 1045.3836 - val_loss: 874295.0887 - val_mean_absolute_error: 26.6082\n",
      "Epoch 2/50\n",
      "68875/68875 [==============================] - 11s 157us/step - loss: 1333757368.8785 - mean_absolute_error: 314.1377 - val_loss: 102198.1678 - val_mean_absolute_error: 8.7895\n",
      "Epoch 3/50\n",
      "68875/68875 [==============================] - 11s 160us/step - loss: 22050023.2450 - mean_absolute_error: 57.7059 - val_loss: 20054.4055 - val_mean_absolute_error: 3.7384\n",
      "Epoch 4/50\n",
      "68875/68875 [==============================] - 11s 166us/step - loss: 53033083.8255 - mean_absolute_error: 62.6305 - val_loss: 3320.3527 - val_mean_absolute_error: 2.1645\n",
      "Epoch 5/50\n",
      "68875/68875 [==============================] - 11s 167us/step - loss: 39665740.3449 - mean_absolute_error: 47.2969 - val_loss: 340.7479 - val_mean_absolute_error: 0.7646\n",
      "Epoch 6/50\n",
      "68875/68875 [==============================] - 12s 170us/step - loss: 21917444.6904 - mean_absolute_error: 31.8054 - val_loss: 1581.9406 - val_mean_absolute_error: 0.8649\n",
      "Epoch 7/50\n",
      "68875/68875 [==============================] - 16s 227us/step - loss: 188008.4008 - mean_absolute_error: 3.3638 - val_loss: 243.5589 - val_mean_absolute_error: 0.4815\n",
      "Epoch 8/50\n",
      " 8448/68875 [==>...........................] - ETA: 11s - loss: 9024196.6008 - mean_absolute_error: 33.5134"
     ]
    },
    {
     "ename": "KeyboardInterrupt",
     "evalue": "",
     "output_type": "error",
     "traceback": [
      "\u001b[0;31m---------------------------------------------------------------------------\u001b[0m",
      "\u001b[0;31mKeyboardInterrupt\u001b[0m                         Traceback (most recent call last)",
      "\u001b[0;32m<ipython-input-65-b5fa013f3c1e>\u001b[0m in \u001b[0;36m<module>\u001b[0;34m\u001b[0m\n\u001b[1;32m     22\u001b[0m     history = model.fit(partial_train_data, partial_train_targets,\n\u001b[1;32m     23\u001b[0m                         \u001b[0mvalidation_data\u001b[0m\u001b[0;34m=\u001b[0m\u001b[0;34m(\u001b[0m\u001b[0mval_data\u001b[0m\u001b[0;34m,\u001b[0m \u001b[0mval_targets\u001b[0m\u001b[0;34m)\u001b[0m\u001b[0;34m,\u001b[0m\u001b[0;34m\u001b[0m\u001b[0;34m\u001b[0m\u001b[0m\n\u001b[0;32m---> 24\u001b[0;31m                         epochs=num_epochs, batch_size=32, verbose=1)\n\u001b[0m\u001b[1;32m     25\u001b[0m     \u001b[0mmae_history\u001b[0m \u001b[0;34m=\u001b[0m \u001b[0mhistory\u001b[0m\u001b[0;34m.\u001b[0m\u001b[0mhistory\u001b[0m\u001b[0;34m[\u001b[0m\u001b[0;34m'val_mean_absolute_error'\u001b[0m\u001b[0;34m]\u001b[0m\u001b[0;34m\u001b[0m\u001b[0;34m\u001b[0m\u001b[0m\n\u001b[1;32m     26\u001b[0m     \u001b[0mall_mae_histories\u001b[0m\u001b[0;34m.\u001b[0m\u001b[0mappend\u001b[0m\u001b[0;34m(\u001b[0m\u001b[0mmae_history\u001b[0m\u001b[0;34m)\u001b[0m\u001b[0;34m\u001b[0m\u001b[0;34m\u001b[0m\u001b[0m\n",
      "\u001b[0;32m~/anaconda3/envs/chollet/lib/python3.6/site-packages/keras/engine/training.py\u001b[0m in \u001b[0;36mfit\u001b[0;34m(self, x, y, batch_size, epochs, verbose, callbacks, validation_split, validation_data, shuffle, class_weight, sample_weight, initial_epoch, steps_per_epoch, validation_steps, **kwargs)\u001b[0m\n\u001b[1;32m   1037\u001b[0m                                         \u001b[0minitial_epoch\u001b[0m\u001b[0;34m=\u001b[0m\u001b[0minitial_epoch\u001b[0m\u001b[0;34m,\u001b[0m\u001b[0;34m\u001b[0m\u001b[0;34m\u001b[0m\u001b[0m\n\u001b[1;32m   1038\u001b[0m                                         \u001b[0msteps_per_epoch\u001b[0m\u001b[0;34m=\u001b[0m\u001b[0msteps_per_epoch\u001b[0m\u001b[0;34m,\u001b[0m\u001b[0;34m\u001b[0m\u001b[0;34m\u001b[0m\u001b[0m\n\u001b[0;32m-> 1039\u001b[0;31m                                         validation_steps=validation_steps)\n\u001b[0m\u001b[1;32m   1040\u001b[0m \u001b[0;34m\u001b[0m\u001b[0m\n\u001b[1;32m   1041\u001b[0m     def evaluate(self, x=None, y=None,\n",
      "\u001b[0;32m~/anaconda3/envs/chollet/lib/python3.6/site-packages/keras/engine/training_arrays.py\u001b[0m in \u001b[0;36mfit_loop\u001b[0;34m(model, f, ins, out_labels, batch_size, epochs, verbose, callbacks, val_f, val_ins, shuffle, callback_metrics, initial_epoch, steps_per_epoch, validation_steps)\u001b[0m\n\u001b[1;32m    197\u001b[0m                     \u001b[0mins_batch\u001b[0m\u001b[0;34m[\u001b[0m\u001b[0mi\u001b[0m\u001b[0;34m]\u001b[0m \u001b[0;34m=\u001b[0m \u001b[0mins_batch\u001b[0m\u001b[0;34m[\u001b[0m\u001b[0mi\u001b[0m\u001b[0;34m]\u001b[0m\u001b[0;34m.\u001b[0m\u001b[0mtoarray\u001b[0m\u001b[0;34m(\u001b[0m\u001b[0;34m)\u001b[0m\u001b[0;34m\u001b[0m\u001b[0;34m\u001b[0m\u001b[0m\n\u001b[1;32m    198\u001b[0m \u001b[0;34m\u001b[0m\u001b[0m\n\u001b[0;32m--> 199\u001b[0;31m                 \u001b[0mouts\u001b[0m \u001b[0;34m=\u001b[0m \u001b[0mf\u001b[0m\u001b[0;34m(\u001b[0m\u001b[0mins_batch\u001b[0m\u001b[0;34m)\u001b[0m\u001b[0;34m\u001b[0m\u001b[0;34m\u001b[0m\u001b[0m\n\u001b[0m\u001b[1;32m    200\u001b[0m                 \u001b[0mouts\u001b[0m \u001b[0;34m=\u001b[0m \u001b[0mto_list\u001b[0m\u001b[0;34m(\u001b[0m\u001b[0mouts\u001b[0m\u001b[0;34m)\u001b[0m\u001b[0;34m\u001b[0m\u001b[0;34m\u001b[0m\u001b[0m\n\u001b[1;32m    201\u001b[0m                 \u001b[0;32mfor\u001b[0m \u001b[0ml\u001b[0m\u001b[0;34m,\u001b[0m \u001b[0mo\u001b[0m \u001b[0;32min\u001b[0m \u001b[0mzip\u001b[0m\u001b[0;34m(\u001b[0m\u001b[0mout_labels\u001b[0m\u001b[0;34m,\u001b[0m \u001b[0mouts\u001b[0m\u001b[0;34m)\u001b[0m\u001b[0;34m:\u001b[0m\u001b[0;34m\u001b[0m\u001b[0;34m\u001b[0m\u001b[0m\n",
      "\u001b[0;32m~/anaconda3/envs/chollet/lib/python3.6/site-packages/plaidml/keras/backend.py\u001b[0m in \u001b[0;36m__call__\u001b[0;34m(self, inputs)\u001b[0m\n\u001b[1;32m    174\u001b[0m             \u001b[0mself\u001b[0m\u001b[0;34m.\u001b[0m\u001b[0m_invoker\u001b[0m\u001b[0;34m.\u001b[0m\u001b[0mset_output\u001b[0m\u001b[0;34m(\u001b[0m\u001b[0mname\u001b[0m\u001b[0;34m,\u001b[0m \u001b[0mt\u001b[0m\u001b[0;34m)\u001b[0m\u001b[0;34m\u001b[0m\u001b[0;34m\u001b[0m\u001b[0m\n\u001b[1;32m    175\u001b[0m \u001b[0;34m\u001b[0m\u001b[0m\n\u001b[0;32m--> 176\u001b[0;31m         \u001b[0mself\u001b[0m\u001b[0;34m.\u001b[0m\u001b[0m_invoker\u001b[0m\u001b[0;34m.\u001b[0m\u001b[0minvoke\u001b[0m\u001b[0;34m(\u001b[0m\u001b[0;34m)\u001b[0m\u001b[0;34m\u001b[0m\u001b[0;34m\u001b[0m\u001b[0m\n\u001b[0m\u001b[1;32m    177\u001b[0m \u001b[0;34m\u001b[0m\u001b[0m\n\u001b[1;32m    178\u001b[0m         \u001b[0;32mreturn\u001b[0m \u001b[0;34m[\u001b[0m\u001b[0mt\u001b[0m\u001b[0;34m.\u001b[0m\u001b[0mas_ndarray\u001b[0m\u001b[0;34m(\u001b[0m\u001b[0m_ctx\u001b[0m\u001b[0;34m)\u001b[0m \u001b[0;32mfor\u001b[0m \u001b[0mt\u001b[0m \u001b[0;32min\u001b[0m \u001b[0mtensors\u001b[0m\u001b[0;34m]\u001b[0m\u001b[0;34m\u001b[0m\u001b[0;34m\u001b[0m\u001b[0m\n",
      "\u001b[0;32m~/anaconda3/envs/chollet/lib/python3.6/site-packages/plaidml/__init__.py\u001b[0m in \u001b[0;36minvoke\u001b[0;34m(self)\u001b[0m\n\u001b[1;32m   1426\u001b[0m \u001b[0;34m\u001b[0m\u001b[0m\n\u001b[1;32m   1427\u001b[0m     \u001b[0;32mdef\u001b[0m \u001b[0minvoke\u001b[0m\u001b[0;34m(\u001b[0m\u001b[0mself\u001b[0m\u001b[0;34m)\u001b[0m\u001b[0;34m:\u001b[0m\u001b[0;34m\u001b[0m\u001b[0;34m\u001b[0m\u001b[0m\n\u001b[0;32m-> 1428\u001b[0;31m         \u001b[0;32mreturn\u001b[0m \u001b[0mInvocation\u001b[0m\u001b[0;34m(\u001b[0m\u001b[0mself\u001b[0m\u001b[0;34m.\u001b[0m\u001b[0m_ctx\u001b[0m\u001b[0;34m,\u001b[0m \u001b[0mself\u001b[0m\u001b[0;34m)\u001b[0m\u001b[0;34m\u001b[0m\u001b[0;34m\u001b[0m\u001b[0m\n\u001b[0m\u001b[1;32m   1429\u001b[0m \u001b[0;34m\u001b[0m\u001b[0m\n\u001b[1;32m   1430\u001b[0m     \u001b[0;32mdef\u001b[0m \u001b[0msave\u001b[0m\u001b[0;34m(\u001b[0m\u001b[0mself\u001b[0m\u001b[0;34m,\u001b[0m \u001b[0mfilename\u001b[0m\u001b[0;34m)\u001b[0m\u001b[0;34m:\u001b[0m\u001b[0;34m\u001b[0m\u001b[0;34m\u001b[0m\u001b[0m\n",
      "\u001b[0;32m~/anaconda3/envs/chollet/lib/python3.6/site-packages/plaidml/__init__.py\u001b[0m in \u001b[0;36m__init__\u001b[0;34m(self, ctx, invoker)\u001b[0m\n\u001b[1;32m   1435\u001b[0m \u001b[0;34m\u001b[0m\u001b[0m\n\u001b[1;32m   1436\u001b[0m     \u001b[0;32mdef\u001b[0m \u001b[0m__init__\u001b[0m\u001b[0;34m(\u001b[0m\u001b[0mself\u001b[0m\u001b[0;34m,\u001b[0m \u001b[0mctx\u001b[0m\u001b[0;34m,\u001b[0m \u001b[0minvoker\u001b[0m\u001b[0;34m)\u001b[0m\u001b[0;34m:\u001b[0m\u001b[0;34m\u001b[0m\u001b[0;34m\u001b[0m\u001b[0m\n\u001b[0;32m-> 1437\u001b[0;31m         \u001b[0mself\u001b[0m\u001b[0;34m.\u001b[0m\u001b[0m_as_parameter_\u001b[0m \u001b[0;34m=\u001b[0m \u001b[0m_lib\u001b[0m\u001b[0;34m(\u001b[0m\u001b[0;34m)\u001b[0m\u001b[0;34m.\u001b[0m\u001b[0mplaidml_schedule_invocation\u001b[0m\u001b[0;34m(\u001b[0m\u001b[0mctx\u001b[0m\u001b[0;34m,\u001b[0m \u001b[0minvoker\u001b[0m\u001b[0;34m)\u001b[0m\u001b[0;34m\u001b[0m\u001b[0;34m\u001b[0m\u001b[0m\n\u001b[0m\u001b[1;32m   1438\u001b[0m         \u001b[0mself\u001b[0m\u001b[0;34m.\u001b[0m\u001b[0m_free\u001b[0m \u001b[0;34m=\u001b[0m \u001b[0m_lib\u001b[0m\u001b[0;34m(\u001b[0m\u001b[0;34m)\u001b[0m\u001b[0;34m.\u001b[0m\u001b[0mplaidml_free_invocation\u001b[0m\u001b[0;34m\u001b[0m\u001b[0;34m\u001b[0m\u001b[0m\n\u001b[1;32m   1439\u001b[0m \u001b[0;34m\u001b[0m\u001b[0m\n",
      "\u001b[0;32m~/anaconda3/envs/chollet/lib/python3.6/site-packages/plaidml/__init__.py\u001b[0m in \u001b[0;36m_check_err\u001b[0;34m(self, result, func, args)\u001b[0m\n\u001b[1;32m    737\u001b[0m         \u001b[0mself\u001b[0m\u001b[0;34m.\u001b[0m\u001b[0mplaidml_compute_grad_wrt\u001b[0m\u001b[0;34m.\u001b[0m\u001b[0merrcheck\u001b[0m \u001b[0;34m=\u001b[0m \u001b[0mself\u001b[0m\u001b[0;34m.\u001b[0m\u001b[0m_check_err\u001b[0m\u001b[0;34m\u001b[0m\u001b[0;34m\u001b[0m\u001b[0m\n\u001b[1;32m    738\u001b[0m \u001b[0;34m\u001b[0m\u001b[0m\n\u001b[0;32m--> 739\u001b[0;31m     \u001b[0;32mdef\u001b[0m \u001b[0m_check_err\u001b[0m\u001b[0;34m(\u001b[0m\u001b[0mself\u001b[0m\u001b[0;34m,\u001b[0m \u001b[0mresult\u001b[0m\u001b[0;34m,\u001b[0m \u001b[0mfunc\u001b[0m\u001b[0;34m,\u001b[0m \u001b[0margs\u001b[0m\u001b[0;34m)\u001b[0m\u001b[0;34m:\u001b[0m\u001b[0;34m\u001b[0m\u001b[0;34m\u001b[0m\u001b[0m\n\u001b[0m\u001b[1;32m    740\u001b[0m         \u001b[0;32mif\u001b[0m \u001b[0mresult\u001b[0m\u001b[0;34m:\u001b[0m\u001b[0;34m\u001b[0m\u001b[0;34m\u001b[0m\u001b[0m\n\u001b[1;32m    741\u001b[0m             \u001b[0;32mreturn\u001b[0m \u001b[0mresult\u001b[0m\u001b[0;34m\u001b[0m\u001b[0;34m\u001b[0m\u001b[0m\n",
      "\u001b[0;31mKeyboardInterrupt\u001b[0m: "
     ]
    }
   ],
   "source": [
    "num_epochs = 50\n",
    "all_mae_histories = []\n",
    "for i in range(k):\n",
    "    print('processing fold #', i)\n",
    "    # Prepare the validation data: data from partition # k\n",
    "    val_data = train_data[i * num_val_samples: (i + 1) * num_val_samples]\n",
    "    val_targets = train_targets[i * num_val_samples: (i + 1) * num_val_samples]\n",
    "\n",
    "    # Prepare the training data: data from all other partitions\n",
    "    partial_train_data = np.concatenate(\n",
    "        [train_data[:i * num_val_samples],\n",
    "         train_data[(i + 1) * num_val_samples:]],\n",
    "        axis=0)\n",
    "    partial_train_targets = np.concatenate(\n",
    "        [train_targets[:i * num_val_samples],\n",
    "         train_targets[(i + 1) * num_val_samples:]],\n",
    "        axis=0)\n",
    "\n",
    "    # Build the Keras model (already compiled)\n",
    "    model = build_model()\n",
    "    # Train the model (in silent mode, verbose=0)\n",
    "    history = model.fit(partial_train_data, partial_train_targets,\n",
    "                        validation_data=(val_data, val_targets),\n",
    "                        epochs=num_epochs, batch_size=32, verbose=1)\n",
    "    mae_history = history.history['val_mean_absolute_error']\n",
    "    all_mae_histories.append(mae_history)"
   ]
  },
  {
   "cell_type": "code",
   "execution_count": 40,
   "metadata": {
    "ExecuteTime": {
     "end_time": "2019-02-09T20:21:11.572694Z",
     "start_time": "2019-02-09T20:21:11.567778Z"
    },
    "hidden": true
   },
   "outputs": [],
   "source": [
    "average_mae_history = [\n",
    "    np.mean([x[i] for x in all_mae_histories]) for i in range(num_epochs)]"
   ]
  },
  {
   "cell_type": "code",
   "execution_count": 41,
   "metadata": {
    "ExecuteTime": {
     "end_time": "2019-02-09T20:21:12.558277Z",
     "start_time": "2019-02-09T20:21:12.385071Z"
    },
    "hidden": true
   },
   "outputs": [
    {
     "data": {
      "image/png": "[encoded data removed]",
      "text/plain": [
       "<Figure size 432x288 with 1 Axes>"
      ]
     },
     "metadata": {
      "needs_background": "light"
     },
     "output_type": "display_data"
    }
   ],
   "source": [
    "plt.plot(range(1, len(average_mae_history) + 1), average_mae_history)\n",
    "plt.xlabel('Epochs')\n",
    "plt.ylabel('Validation MAE')\n",
    "plt.show()"
   ]
  },
  {
   "cell_type": "code",
   "execution_count": 43,
   "metadata": {
    "ExecuteTime": {
     "end_time": "2019-02-10T02:04:09.933138Z",
     "start_time": "2019-02-10T02:04:04.203511Z"
    },
    "hidden": true
   },
   "outputs": [
    {
     "name": "stdout",
     "output_type": "stream",
     "text": [
      "Collecting keras_sequential_ascii\n",
      "  Downloading https://files.pythonhosted.org/packages/2d/a4/806e3ed5d7ac7463e2fae77e09ccccc88c78266b248fb637e4efa4f65ec0/keras_sequential_ascii-0.1.1.tar.gz\n",
      "Requirement already satisfied: keras in /Users/blaze/anaconda3/envs/chollet/lib/python3.6/site-packages (from keras_sequential_ascii) (2.2.4)\n",
      "Requirement already satisfied: numpy>=1.9.1 in /Users/blaze/anaconda3/envs/chollet/lib/python3.6/site-packages (from keras->keras_sequential_ascii) (1.15.4)\n",
      "Requirement already satisfied: scipy>=0.14 in /Users/blaze/anaconda3/envs/chollet/lib/python3.6/site-packages (from keras->keras_sequential_ascii) (1.2.0)\n",
      "Requirement already satisfied: six>=1.9.0 in /Users/blaze/anaconda3/envs/chollet/lib/python3.6/site-packages (from keras->keras_sequential_ascii) (1.12.0)\n",
      "Requirement already satisfied: pyyaml in /Users/blaze/anaconda3/envs/chollet/lib/python3.6/site-packages (from keras->keras_sequential_ascii) (3.13)\n",
      "Requirement already satisfied: h5py in /Users/blaze/anaconda3/envs/chollet/lib/python3.6/site-packages (from keras->keras_sequential_ascii) (2.9.0)\n",
      "Requirement already satisfied: keras_applications>=1.0.6 in /Users/blaze/anaconda3/envs/chollet/lib/python3.6/site-packages (from keras->keras_sequential_ascii) (1.0.6)\n",
      "Requirement already satisfied: keras_preprocessing>=1.0.5 in /Users/blaze/anaconda3/envs/chollet/lib/python3.6/site-packages (from keras->keras_sequential_ascii) (1.0.5)\n",
      "Building wheels for collected packages: keras-sequential-ascii\n",
      "  Running setup.py bdist_wheel for keras-sequential-ascii ... \u001b[?25ldone\n",
      "\u001b[?25h  Stored in directory: /Users/blaze/Library/Caches/pip/wheels/f5/8d/81/912666dff82a923ce423a7e797cd75f54271c7031512cdb282\n",
      "Successfully built keras-sequential-ascii\n",
      "Installing collected packages: keras-sequential-ascii\n",
      "Successfully installed keras-sequential-ascii-0.1.1\n"
     ]
    }
   ],
   "source": [
    "!pip install keras_sequential_ascii"
   ]
  },
  {
   "cell_type": "code",
   "execution_count": 45,
   "metadata": {
    "ExecuteTime": {
     "end_time": "2019-02-10T02:04:30.485488Z",
     "start_time": "2019-02-10T02:04:30.445939Z"
    },
    "hidden": true,
    "scrolled": true
   },
   "outputs": [
    {
     "name": "stdout",
     "output_type": "stream",
     "text": [
      "           OPERATION           DATA DIMENSIONS   WEIGHTS(N)   WEIGHTS(%)\n",
      "\n",
      "               Input   #####          44\n",
      "               Dense   XXXXX -------------------      2880    20.0%\n",
      "                relu   #####          64\n",
      "               Dense   XXXXX -------------------      4160    29.0%\n",
      "                relu   #####          64\n",
      "               Dense   XXXXX -------------------      4160    29.0%\n",
      "                relu   #####          64\n",
      "               Dense   XXXXX -------------------      2080    14.5%\n",
      "                relu   #####          32\n",
      "               Dense   XXXXX -------------------      1056     7.3%\n",
      "                relu   #####          32\n",
      "               Dense   XXXXX -------------------        33     0.2%\n",
      "                       #####           1\n"
     ]
    }
   ],
   "source": [
    "from keras_sequential_ascii import keras2ascii # install with pip\n",
    "keras2ascii(build_model())"
   ]
  },
  {
   "cell_type": "code",
   "execution_count": 46,
   "metadata": {
    "ExecuteTime": {
     "end_time": "2019-02-10T02:06:19.271769Z",
     "start_time": "2019-02-10T02:06:19.242616Z"
    },
    "hidden": true
   },
   "outputs": [
    {
     "name": "stdout",
     "output_type": "stream",
     "text": [
      "_________________________________________________________________\n",
      "Layer (type)                 Output Shape              Param #   \n",
      "=================================================================\n",
      "dense_103 (Dense)            (None, 64)                2880      \n",
      "_________________________________________________________________\n",
      "dense_104 (Dense)            (None, 64)                4160      \n",
      "_________________________________________________________________\n",
      "dense_105 (Dense)            (None, 64)                4160      \n",
      "_________________________________________________________________\n",
      "dense_106 (Dense)            (None, 32)                2080      \n",
      "_________________________________________________________________\n",
      "dense_107 (Dense)            (None, 32)                1056      \n",
      "_________________________________________________________________\n",
      "dense_108 (Dense)            (None, 1)                 33        \n",
      "=================================================================\n",
      "Total params: 14,369\n",
      "Trainable params: 14,369\n",
      "Non-trainable params: 0\n",
      "_________________________________________________________________\n"
     ]
    }
   ],
   "source": [
    "build_model().summary()"
   ]
  },
  {
   "cell_type": "code",
   "execution_count": 13,
   "metadata": {
    "ExecuteTime": {
     "end_time": "2019-02-09T17:20:05.872156Z",
     "start_time": "2019-02-09T17:19:03.583288Z"
    },
    "hidden": true
   },
   "outputs": [
    {
     "name": "stdout",
     "output_type": "stream",
     "text": [
      "Epoch 1/5\n",
      "82650/82650 [==============================] - 20s 237us/step - loss: 347088393.9919 - mean_absolute_error: 99.7170\n",
      "Epoch 2/5\n",
      "82650/82650 [==============================] - 19s 235us/step - loss: 172552.5813 - mean_absolute_error: 3.3756\n",
      "Epoch 3/5\n",
      "82650/82650 [==============================] - 19s 235us/step - loss: 2.7143 - mean_absolute_error: 0.1237\n",
      "Epoch 4/5\n",
      "15040/82650 [====>.........................] - ETA: 16s - loss: 0.0313 - mean_absolute_error: 0.1012"
     ]
    },
    {
     "ename": "KeyboardInterrupt",
     "evalue": "",
     "output_type": "error",
     "traceback": [
      "\u001b[0;31m---------------------------------------------------------------------------\u001b[0m",
      "\u001b[0;31mKeyboardInterrupt\u001b[0m                         Traceback (most recent call last)",
      "\u001b[0;32m<ipython-input-13-98ea3e32a2bd>\u001b[0m in \u001b[0;36m<module>\u001b[0;34m\u001b[0m\n\u001b[1;32m      2\u001b[0m \u001b[0;31m# Train it on the entirety of the data.\u001b[0m\u001b[0;34m\u001b[0m\u001b[0;34m\u001b[0m\u001b[0;34m\u001b[0m\u001b[0m\n\u001b[1;32m      3\u001b[0m model.fit(X_train, y_train,\n\u001b[0;32m----> 4\u001b[0;31m           epochs=5, batch_size=16, verbose=1)\n\u001b[0m\u001b[1;32m      5\u001b[0m \u001b[0mtest_mse_score\u001b[0m\u001b[0;34m,\u001b[0m \u001b[0mtest_mae_score\u001b[0m \u001b[0;34m=\u001b[0m \u001b[0mmodel\u001b[0m\u001b[0;34m.\u001b[0m\u001b[0mevaluate\u001b[0m\u001b[0;34m(\u001b[0m\u001b[0mX_test\u001b[0m\u001b[0;34m,\u001b[0m \u001b[0my_test\u001b[0m\u001b[0;34m)\u001b[0m\u001b[0;34m\u001b[0m\u001b[0;34m\u001b[0m\u001b[0m\n",
      "\u001b[0;32m~/anaconda3/envs/chollet/lib/python3.6/site-packages/keras/engine/training.py\u001b[0m in \u001b[0;36mfit\u001b[0;34m(self, x, y, batch_size, epochs, verbose, callbacks, validation_split, validation_data, shuffle, class_weight, sample_weight, initial_epoch, steps_per_epoch, validation_steps, **kwargs)\u001b[0m\n\u001b[1;32m   1037\u001b[0m                                         \u001b[0minitial_epoch\u001b[0m\u001b[0;34m=\u001b[0m\u001b[0minitial_epoch\u001b[0m\u001b[0;34m,\u001b[0m\u001b[0;34m\u001b[0m\u001b[0;34m\u001b[0m\u001b[0m\n\u001b[1;32m   1038\u001b[0m                                         \u001b[0msteps_per_epoch\u001b[0m\u001b[0;34m=\u001b[0m\u001b[0msteps_per_epoch\u001b[0m\u001b[0;34m,\u001b[0m\u001b[0;34m\u001b[0m\u001b[0;34m\u001b[0m\u001b[0m\n\u001b[0;32m-> 1039\u001b[0;31m                                         validation_steps=validation_steps)\n\u001b[0m\u001b[1;32m   1040\u001b[0m \u001b[0;34m\u001b[0m\u001b[0m\n\u001b[1;32m   1041\u001b[0m     def evaluate(self, x=None, y=None,\n",
      "\u001b[0;32m~/anaconda3/envs/chollet/lib/python3.6/site-packages/keras/engine/training_arrays.py\u001b[0m in \u001b[0;36mfit_loop\u001b[0;34m(model, f, ins, out_labels, batch_size, epochs, verbose, callbacks, val_f, val_ins, shuffle, callback_metrics, initial_epoch, steps_per_epoch, validation_steps)\u001b[0m\n\u001b[1;32m    197\u001b[0m                     \u001b[0mins_batch\u001b[0m\u001b[0;34m[\u001b[0m\u001b[0mi\u001b[0m\u001b[0;34m]\u001b[0m \u001b[0;34m=\u001b[0m \u001b[0mins_batch\u001b[0m\u001b[0;34m[\u001b[0m\u001b[0mi\u001b[0m\u001b[0;34m]\u001b[0m\u001b[0;34m.\u001b[0m\u001b[0mtoarray\u001b[0m\u001b[0;34m(\u001b[0m\u001b[0;34m)\u001b[0m\u001b[0;34m\u001b[0m\u001b[0;34m\u001b[0m\u001b[0m\n\u001b[1;32m    198\u001b[0m \u001b[0;34m\u001b[0m\u001b[0m\n\u001b[0;32m--> 199\u001b[0;31m                 \u001b[0mouts\u001b[0m \u001b[0;34m=\u001b[0m \u001b[0mf\u001b[0m\u001b[0;34m(\u001b[0m\u001b[0mins_batch\u001b[0m\u001b[0;34m)\u001b[0m\u001b[0;34m\u001b[0m\u001b[0;34m\u001b[0m\u001b[0m\n\u001b[0m\u001b[1;32m    200\u001b[0m                 \u001b[0mouts\u001b[0m \u001b[0;34m=\u001b[0m \u001b[0mto_list\u001b[0m\u001b[0;34m(\u001b[0m\u001b[0mouts\u001b[0m\u001b[0;34m)\u001b[0m\u001b[0;34m\u001b[0m\u001b[0;34m\u001b[0m\u001b[0m\n\u001b[1;32m    201\u001b[0m                 \u001b[0;32mfor\u001b[0m \u001b[0ml\u001b[0m\u001b[0;34m,\u001b[0m \u001b[0mo\u001b[0m \u001b[0;32min\u001b[0m \u001b[0mzip\u001b[0m\u001b[0;34m(\u001b[0m\u001b[0mout_labels\u001b[0m\u001b[0;34m,\u001b[0m \u001b[0mouts\u001b[0m\u001b[0;34m)\u001b[0m\u001b[0;34m:\u001b[0m\u001b[0;34m\u001b[0m\u001b[0;34m\u001b[0m\u001b[0m\n",
      "\u001b[0;32m~/anaconda3/envs/chollet/lib/python3.6/site-packages/plaidml/keras/backend.py\u001b[0m in \u001b[0;36m__call__\u001b[0;34m(self, inputs)\u001b[0m\n\u001b[1;32m    176\u001b[0m         \u001b[0mself\u001b[0m\u001b[0;34m.\u001b[0m\u001b[0m_invoker\u001b[0m\u001b[0;34m.\u001b[0m\u001b[0minvoke\u001b[0m\u001b[0;34m(\u001b[0m\u001b[0;34m)\u001b[0m\u001b[0;34m\u001b[0m\u001b[0;34m\u001b[0m\u001b[0m\n\u001b[1;32m    177\u001b[0m \u001b[0;34m\u001b[0m\u001b[0m\n\u001b[0;32m--> 178\u001b[0;31m         \u001b[0;32mreturn\u001b[0m \u001b[0;34m[\u001b[0m\u001b[0mt\u001b[0m\u001b[0;34m.\u001b[0m\u001b[0mas_ndarray\u001b[0m\u001b[0;34m(\u001b[0m\u001b[0m_ctx\u001b[0m\u001b[0;34m)\u001b[0m \u001b[0;32mfor\u001b[0m \u001b[0mt\u001b[0m \u001b[0;32min\u001b[0m \u001b[0mtensors\u001b[0m\u001b[0;34m]\u001b[0m\u001b[0;34m\u001b[0m\u001b[0;34m\u001b[0m\u001b[0m\n\u001b[0m\u001b[1;32m    179\u001b[0m \u001b[0;34m\u001b[0m\u001b[0m\n\u001b[1;32m    180\u001b[0m \u001b[0;34m\u001b[0m\u001b[0m\n",
      "\u001b[0;32m~/anaconda3/envs/chollet/lib/python3.6/site-packages/plaidml/keras/backend.py\u001b[0m in \u001b[0;36m<listcomp>\u001b[0;34m(.0)\u001b[0m\n\u001b[1;32m    176\u001b[0m         \u001b[0mself\u001b[0m\u001b[0;34m.\u001b[0m\u001b[0m_invoker\u001b[0m\u001b[0;34m.\u001b[0m\u001b[0minvoke\u001b[0m\u001b[0;34m(\u001b[0m\u001b[0;34m)\u001b[0m\u001b[0;34m\u001b[0m\u001b[0;34m\u001b[0m\u001b[0m\n\u001b[1;32m    177\u001b[0m \u001b[0;34m\u001b[0m\u001b[0m\n\u001b[0;32m--> 178\u001b[0;31m         \u001b[0;32mreturn\u001b[0m \u001b[0;34m[\u001b[0m\u001b[0mt\u001b[0m\u001b[0;34m.\u001b[0m\u001b[0mas_ndarray\u001b[0m\u001b[0;34m(\u001b[0m\u001b[0m_ctx\u001b[0m\u001b[0;34m)\u001b[0m \u001b[0;32mfor\u001b[0m \u001b[0mt\u001b[0m \u001b[0;32min\u001b[0m \u001b[0mtensors\u001b[0m\u001b[0;34m]\u001b[0m\u001b[0;34m\u001b[0m\u001b[0;34m\u001b[0m\u001b[0m\n\u001b[0m\u001b[1;32m    179\u001b[0m \u001b[0;34m\u001b[0m\u001b[0m\n\u001b[1;32m    180\u001b[0m \u001b[0;34m\u001b[0m\u001b[0m\n",
      "\u001b[0;32m~/anaconda3/envs/chollet/lib/python3.6/site-packages/plaidml/__init__.py\u001b[0m in \u001b[0;36mas_ndarray\u001b[0;34m(self, ctx)\u001b[0m\n\u001b[1;32m   1228\u001b[0m                 \u001b[0mtuple\u001b[0m\u001b[0;34m(\u001b[0m\u001b[0mdim\u001b[0m\u001b[0;34m.\u001b[0m\u001b[0msize\u001b[0m \u001b[0;32mfor\u001b[0m \u001b[0mdim\u001b[0m \u001b[0;32min\u001b[0m \u001b[0mself\u001b[0m\u001b[0;34m.\u001b[0m\u001b[0mshape\u001b[0m\u001b[0;34m.\u001b[0m\u001b[0mdimensions\u001b[0m\u001b[0;34m)\u001b[0m\u001b[0;34m,\u001b[0m\u001b[0;34m\u001b[0m\u001b[0;34m\u001b[0m\u001b[0m\n\u001b[1;32m   1229\u001b[0m                 dtype=_NP_TYPES[self.shape.dtype])\n\u001b[0;32m-> 1230\u001b[0;31m         \u001b[0;32mwith\u001b[0m \u001b[0mself\u001b[0m\u001b[0;34m.\u001b[0m\u001b[0mmmap_current\u001b[0m\u001b[0;34m(\u001b[0m\u001b[0;34m)\u001b[0m \u001b[0;32mas\u001b[0m \u001b[0mview\u001b[0m\u001b[0;34m:\u001b[0m\u001b[0;34m\u001b[0m\u001b[0;34m\u001b[0m\u001b[0m\n\u001b[0m\u001b[1;32m   1231\u001b[0m             \u001b[0mview\u001b[0m\u001b[0;34m.\u001b[0m\u001b[0mcopy_to_ndarray\u001b[0m\u001b[0;34m(\u001b[0m\u001b[0mself\u001b[0m\u001b[0;34m.\u001b[0m\u001b[0m_ndarray\u001b[0m\u001b[0;34m)\u001b[0m\u001b[0;34m\u001b[0m\u001b[0;34m\u001b[0m\u001b[0m\n\u001b[1;32m   1232\u001b[0m         \u001b[0;32mreturn\u001b[0m \u001b[0mself\u001b[0m\u001b[0;34m.\u001b[0m\u001b[0m_ndarray\u001b[0m\u001b[0;34m\u001b[0m\u001b[0;34m\u001b[0m\u001b[0m\n",
      "\u001b[0;32m~/anaconda3/envs/chollet/lib/python3.6/contextlib.py\u001b[0m in \u001b[0;36m__enter__\u001b[0;34m(self)\u001b[0m\n\u001b[1;32m     79\u001b[0m     \u001b[0;32mdef\u001b[0m \u001b[0m__enter__\u001b[0m\u001b[0;34m(\u001b[0m\u001b[0mself\u001b[0m\u001b[0;34m)\u001b[0m\u001b[0;34m:\u001b[0m\u001b[0;34m\u001b[0m\u001b[0;34m\u001b[0m\u001b[0m\n\u001b[1;32m     80\u001b[0m         \u001b[0;32mtry\u001b[0m\u001b[0;34m:\u001b[0m\u001b[0;34m\u001b[0m\u001b[0;34m\u001b[0m\u001b[0m\n\u001b[0;32m---> 81\u001b[0;31m             \u001b[0;32mreturn\u001b[0m \u001b[0mnext\u001b[0m\u001b[0;34m(\u001b[0m\u001b[0mself\u001b[0m\u001b[0;34m.\u001b[0m\u001b[0mgen\u001b[0m\u001b[0;34m)\u001b[0m\u001b[0;34m\u001b[0m\u001b[0;34m\u001b[0m\u001b[0m\n\u001b[0m\u001b[1;32m     82\u001b[0m         \u001b[0;32mexcept\u001b[0m \u001b[0mStopIteration\u001b[0m\u001b[0;34m:\u001b[0m\u001b[0;34m\u001b[0m\u001b[0;34m\u001b[0m\u001b[0m\n\u001b[1;32m     83\u001b[0m             \u001b[0;32mraise\u001b[0m \u001b[0mRuntimeError\u001b[0m\u001b[0;34m(\u001b[0m\u001b[0;34m\"generator didn't yield\"\u001b[0m\u001b[0;34m)\u001b[0m \u001b[0;32mfrom\u001b[0m \u001b[0;32mNone\u001b[0m\u001b[0;34m\u001b[0m\u001b[0;34m\u001b[0m\u001b[0m\n",
      "\u001b[0;32m~/anaconda3/envs/chollet/lib/python3.6/site-packages/plaidml/__init__.py\u001b[0m in \u001b[0;36mmmap_current\u001b[0;34m(self)\u001b[0m\n\u001b[1;32m   1211\u001b[0m     \u001b[0;32mdef\u001b[0m \u001b[0mmmap_current\u001b[0m\u001b[0;34m(\u001b[0m\u001b[0mself\u001b[0m\u001b[0;34m)\u001b[0m\u001b[0;34m:\u001b[0m\u001b[0;34m\u001b[0m\u001b[0;34m\u001b[0m\u001b[0m\n\u001b[1;32m   1212\u001b[0m         mapping = _lib().plaidml_map_buffer_current(self.buffer,\n\u001b[0;32m-> 1213\u001b[0;31m                                                     ctypes.cast(None, _MAP_BUFFER_FUNCTYPE), None)\n\u001b[0m\u001b[1;32m   1214\u001b[0m         yield _View(self.buffer._ctx, mapping, self.shape.dtype, self.shape.ctype,\n\u001b[1;32m   1215\u001b[0m                     _lib().plaidml_get_shape_element_count(self.shape), self.shape, None)\n",
      "\u001b[0;32m~/anaconda3/envs/chollet/lib/python3.6/site-packages/plaidml/__init__.py\u001b[0m in \u001b[0;36m_check_err\u001b[0;34m(self, result, func, args)\u001b[0m\n\u001b[1;32m    737\u001b[0m         \u001b[0mself\u001b[0m\u001b[0;34m.\u001b[0m\u001b[0mplaidml_compute_grad_wrt\u001b[0m\u001b[0;34m.\u001b[0m\u001b[0merrcheck\u001b[0m \u001b[0;34m=\u001b[0m \u001b[0mself\u001b[0m\u001b[0;34m.\u001b[0m\u001b[0m_check_err\u001b[0m\u001b[0;34m\u001b[0m\u001b[0;34m\u001b[0m\u001b[0m\n\u001b[1;32m    738\u001b[0m \u001b[0;34m\u001b[0m\u001b[0m\n\u001b[0;32m--> 739\u001b[0;31m     \u001b[0;32mdef\u001b[0m \u001b[0m_check_err\u001b[0m\u001b[0;34m(\u001b[0m\u001b[0mself\u001b[0m\u001b[0;34m,\u001b[0m \u001b[0mresult\u001b[0m\u001b[0;34m,\u001b[0m \u001b[0mfunc\u001b[0m\u001b[0;34m,\u001b[0m \u001b[0margs\u001b[0m\u001b[0;34m)\u001b[0m\u001b[0;34m:\u001b[0m\u001b[0;34m\u001b[0m\u001b[0;34m\u001b[0m\u001b[0m\n\u001b[0m\u001b[1;32m    740\u001b[0m         \u001b[0;32mif\u001b[0m \u001b[0mresult\u001b[0m\u001b[0;34m:\u001b[0m\u001b[0;34m\u001b[0m\u001b[0;34m\u001b[0m\u001b[0m\n\u001b[1;32m    741\u001b[0m             \u001b[0;32mreturn\u001b[0m \u001b[0mresult\u001b[0m\u001b[0;34m\u001b[0m\u001b[0;34m\u001b[0m\u001b[0m\n",
      "\u001b[0;31mKeyboardInterrupt\u001b[0m: "
     ]
    }
   ],
   "source": [
    "model = build_model()\n",
    "# Train it on the entirety of the data.\n",
    "model.fit(X_train, y_train,\n",
    "          epochs=5, batch_size=16, verbose=1)\n",
    "test_mse_score, test_mae_score = model.evaluate(X_test, y_test)"
   ]
  },
  {
   "cell_type": "markdown",
   "metadata": {
    "ExecuteTime": {
     "end_time": "2019-02-10T08:05:41.497627Z",
     "start_time": "2019-02-10T08:05:41.495061Z"
    }
   },
   "source": [
    "## Modeller"
   ]
  },
  {
   "cell_type": "code",
   "execution_count": 2,
   "metadata": {
    "ExecuteTime": {
     "end_time": "2019-02-10T08:06:15.803858Z",
     "start_time": "2019-02-10T08:06:15.676345Z"
    }
   },
   "outputs": [
    {
     "name": "stdout",
     "output_type": "stream",
     "text": [
      "\u001b[31mGenetic Algorithm.ipynb\u001b[m\u001b[m                 \u001b[31mXOR + Alphanumeric Recognition.ipynb\u001b[m\u001b[m\r\n",
      "\u001b[31mModel.ipynb\u001b[m\u001b[m                             dataset.csv\r\n",
      "\u001b[31mNaïveBayes & LogisticRegression.ipynb\u001b[m\u001b[m\r\n"
     ]
    }
   ],
   "source": [
    "!ls"
   ]
  },
  {
   "cell_type": "code",
   "execution_count": 97,
   "metadata": {
    "ExecuteTime": {
     "end_time": "2019-02-10T23:33:01.303740Z",
     "start_time": "2019-02-10T23:33:01.300419Z"
    }
   },
   "outputs": [],
   "source": [
    "source_pdb='../../CATH/1vq8P03'\n",
    "template='1vq8P03'\n",
    "seq_name = 'DIS'\n",
    "seq = 'NSKEDWESRIRAQRTKLRELRDEGTLSSSQYRDLYDKAGGGEFDSVADLERYIDA'"
   ]
  },
  {
   "cell_type": "code",
   "execution_count": 98,
   "metadata": {
    "ExecuteTime": {
     "end_time": "2019-02-10T23:33:01.673403Z",
     "start_time": "2019-02-10T23:33:01.668469Z"
    }
   },
   "outputs": [],
   "source": [
    "from random import randint, choice\n",
    "\n",
    "AAlist = [\n",
    "    'A', 'R', 'N', 'D', 'C', 'Q', 'E', 'G', 'H', 'I', 'L', 'K', 'M', 'F', 'P',\n",
    "    'S', 'T', 'W', 'Y', 'V'\n",
    "]\n",
    "seq_list = list(seq)\n",
    "changes = len(seq)\n",
    "for i in range(changes):\n",
    "    j = randint(0, len(seq) - 1)\n",
    "    seq_list[j] = choice(AAlist)\n",
    "seq = ''.join(seq_list)"
   ]
  },
  {
   "cell_type": "code",
   "execution_count": 99,
   "metadata": {
    "ExecuteTime": {
     "end_time": "2019-02-10T23:33:02.131606Z",
     "start_time": "2019-02-10T23:33:02.128144Z"
    }
   },
   "outputs": [
    {
     "data": {
      "text/plain": [
       "55"
      ]
     },
     "execution_count": 99,
     "metadata": {},
     "output_type": "execute_result"
    }
   ],
   "source": [
    "changes"
   ]
  },
  {
   "cell_type": "code",
   "execution_count": 100,
   "metadata": {
    "ExecuteTime": {
     "end_time": "2019-02-10T23:33:02.753155Z",
     "start_time": "2019-02-10T23:33:02.749131Z"
    }
   },
   "outputs": [
    {
     "data": {
      "text/plain": [
       "'NWIWFNESRQRANESMWRECFDWTTPTKSQWKDFYDATGMVPCYTGIDLVMIFDA'"
      ]
     },
     "execution_count": 100,
     "metadata": {},
     "output_type": "execute_result"
    }
   ],
   "source": [
    "seq"
   ]
  },
  {
   "cell_type": "code",
   "execution_count": 101,
   "metadata": {
    "ExecuteTime": {
     "end_time": "2019-02-10T23:33:08.728284Z",
     "start_time": "2019-02-10T23:33:08.724139Z"
    }
   },
   "outputs": [],
   "source": [
    "with open(seq_name, mode='w') as fSeq:\n",
    "    fSeq.write(f'>P1;{seq_name}\\nsequence:{seq_name}:::::::0.00: 0.00\\n{seq}*')"
   ]
  },
  {
   "cell_type": "code",
   "execution_count": 102,
   "metadata": {
    "ExecuteTime": {
     "end_time": "2019-02-10T23:33:09.683511Z",
     "start_time": "2019-02-10T23:33:09.452968Z"
    }
   },
   "outputs": [
    {
     "name": "stdout",
     "output_type": "stream",
     "text": [
      "openf___224_> Open           $(LIB)/restyp.lib\n",
      "openf___224_> Open           ${MODINSTALL9v21}/modlib/resgrp.lib\n",
      "rdresgr_266_> Number of residue groups:        2\n",
      "openf___224_> Open           ${MODINSTALL9v21}/modlib/sstruc.lib\n",
      "\n",
      "Dynamically allocated memory at   amaxlibraries [B,KiB,MiB]:     14889689   14540.712    14.200\n",
      "\n",
      "Dynamically allocated memory at   amaxlibraries [B,KiB,MiB]:     14890217   14541.228    14.200\n",
      "openf___224_> Open           ${MODINSTALL9v21}/modlib/resdih.lib\n",
      "\n",
      "Dynamically allocated memory at   amaxlibraries [B,KiB,MiB]:     14938817   14588.688    14.247\n",
      "rdrdih__263_> Number of dihedral angle types         :        9\n",
      "              Maximal number of dihedral angle optima:        3\n",
      "              Dihedral angle names                   :  Alph Phi Psi Omeg chi1 chi2 chi3 chi4 chi5\n",
      "openf___224_> Open           ${MODINSTALL9v21}/modlib/radii.lib\n",
      "\n",
      "Dynamically allocated memory at   amaxlibraries [B,KiB,MiB]:     14952117   14601.677    14.259\n",
      "openf___224_> Open           ${MODINSTALL9v21}/modlib/radii14.lib\n",
      "openf___224_> Open           ${MODINSTALL9v21}/modlib/af_mnchdef.lib\n",
      "rdwilmo_274_> Mainchain residue conformation classes:  APBLE\n",
      "openf___224_> Open           ${MODINSTALL9v21}/modlib/mnch.lib\n",
      "rdclass_257_> Number of classes:        5\n",
      "openf___224_> Open           ${MODINSTALL9v21}/modlib/mnch1.lib\n",
      "openf___224_> Open           ${MODINSTALL9v21}/modlib/mnch2.lib\n",
      "openf___224_> Open           ${MODINSTALL9v21}/modlib/mnch3.lib\n",
      "openf___224_> Open           ${MODINSTALL9v21}/modlib/xs4.mat\n",
      "rdrrwgh_268_> Number of residue types:       21\n",
      "openf___224_> Open           1vq8P03.pdb\n",
      "\n",
      "Dynamically allocated memory at amaxcoordinates [B,KiB,MiB]:     14907980   14558.574    14.217\n",
      "\n",
      "Dynamically allocated memory at    amaxsequence [B,KiB,MiB]:     14908056   14558.648    14.217\n",
      "\n",
      "Dynamically allocated memory at amaxcoordinates [B,KiB,MiB]:     14908227   14558.815    14.218\n",
      "\n",
      "Dynamically allocated memory at amaxcoordinates [B,KiB,MiB]:     14909077   14559.646    14.218\n",
      "\n",
      "Dynamically allocated memory at amaxcoordinates [B,KiB,MiB]:     14910335   14560.874    14.220\n",
      "\n",
      "Dynamically allocated memory at amaxcoordinates [B,KiB,MiB]:     14912239   14562.733    14.221\n",
      "\n",
      "Dynamically allocated memory at amaxcoordinates [B,KiB,MiB]:     14915095   14565.522    14.224\n",
      "\n",
      "Dynamically allocated memory at    amaxsequence [B,KiB,MiB]:     14915135   14565.562    14.224\n",
      "\n",
      "Dynamically allocated memory at amaxcoordinates [B,KiB,MiB]:     14915225   14565.649    14.224\n",
      "\n",
      "Dynamically allocated memory at    amaxsequence [B,KiB,MiB]:     14915285   14565.708    14.224\n",
      "\n",
      "Dynamically allocated memory at amaxcoordinates [B,KiB,MiB]:     14915420   14565.840    14.224\n",
      "\n",
      "Dynamically allocated memory at amaxcoordinates [B,KiB,MiB]:     14919704   14570.023    14.229\n",
      "\n",
      "Dynamically allocated memory at    amaxsequence [B,KiB,MiB]:     14919792   14570.109    14.229\n",
      "\n",
      "Dynamically allocated memory at amaxcoordinates [B,KiB,MiB]:     14919990   14570.303    14.229\n",
      "\n",
      "Dynamically allocated memory at amaxcoordinates [B,KiB,MiB]:     14926416   14576.578    14.235\n",
      "\n",
      "Dynamically allocated memory at       amaxmodel [B,KiB,MiB]:     14972144   14621.234    14.279\n",
      "read_mo_297_> Segments, residues, atoms:        1       55      450\n",
      "read_mo_298_> Segment:        1    89 P   143 P      450\n",
      "\n",
      "Dynamically allocated memory at   amaxalignment [B,KiB,MiB]:     14644579   14301.347    13.966\n",
      "\n",
      "Dynamically allocated memory at   amaxstructure [B,KiB,MiB]:     14677106   14333.111    13.997\n",
      "openf___224_> Open           DIS\n",
      "\n",
      "Dynamically allocated memory at   amaxalignment [B,KiB,MiB]:     14697907   14353.425    14.017\n",
      "\n",
      "Dynamically allocated memory at    amaxsequence [B,KiB,MiB]:     14698123   14353.636    14.017\n",
      "\n",
      "Read the alignment from file       : DIS\n",
      "Total number of alignment positions:    55\n",
      "\n",
      "  #  Code        #_Res #_Segm PDB_code    Name\n",
      "-------------------------------------------------------------------------------\n",
      "  1   1vq8P03A      55      1 1vq8P03.pdb\n",
      "  2        DIS      55      1         DIS\n",
      "align2d_276_> 'align_block' changed to 1.\n",
      "mkapsa__637W> No residue topology library is in memory.\n",
      "              Better radii would be used if topology.read() is called first.\n",
      "iup2crm_280W> No topology library in memory or assigning a BLK residue.\n",
      "              Default CHARMM atom type assigned:  N -->  N\n",
      "              This message is written only for the first such atom.\n",
      "openf___224_> Open           $(LIB)/as1.sim.mat\n",
      "rdrrwgh_268_> Number of residue types:       20\n",
      "\n",
      "Pairwise dynamic programming alignment (ALIGN2D):\n",
      "  Residue-residue metric   : $(LIB)/as1.sim.mat\n",
      "  Diagonal                 :          100\n",
      "  Overhang                 :            0\n",
      "  Maximal gap length       :       999999\n",
      "  Local alignment          :            F\n",
      "  MATRIX_OFFSET (local aln):       0.0000\n",
      "  FIX_OFFSETS              :      0.0    -1.0    -2.0    -3.0    -4.0\n",
      "  N_SUBOPT                 :            0\n",
      "  SUBOPT_OFFSET            :       0.0000\n",
      "  Alignment block          :            1\n",
      "  Gap introduction penalty :    -100.0000\n",
      "  Gap extension penalty    :       0.0000\n",
      "  Gap diagonal penalty     :       0.0000\n",
      "  Structure gap penalties  :    3.500   3.500   3.500   0.200   4.000   6.500   2.000   0.000\n",
      "  Break-break bonus        :   10000.0000\n",
      "  Length of alignment      :           55\n",
      "  Score                    :   30927.0000\n",
      "openf___224_> Open           alignment.ali\n"
     ]
    }
   ],
   "source": [
    "from modeller import *\n",
    "\n",
    "env = environ()\n",
    "aln = alignment(env)\n",
    "mdl = model(env, file='1vq8P03')\n",
    "aln.append_model(mdl, align_codes='1vq8P03A', atom_files='1vq8P03.pdb')\n",
    "aln.append(file=seq_name, align_codes=seq_name)\n",
    "aln.align2d()\n",
    "aln.write(file='alignment.ali', alignment_format='PIR')"
   ]
  },
  {
   "cell_type": "code",
   "execution_count": 103,
   "metadata": {
    "ExecuteTime": {
     "end_time": "2019-02-10T23:33:13.181812Z",
     "start_time": "2019-02-10T23:33:10.653204Z"
    }
   },
   "outputs": [
    {
     "name": "stdout",
     "output_type": "stream",
     "text": [
      "openf___224_> Open           $(LIB)/restyp.lib\n",
      "openf___224_> Open           ${MODINSTALL9v21}/modlib/resgrp.lib\n",
      "rdresgr_266_> Number of residue groups:        2\n",
      "openf___224_> Open           ${MODINSTALL9v21}/modlib/sstruc.lib\n",
      "\n",
      "Dynamically allocated memory at   amaxlibraries [B,KiB,MiB]:     14889689   14540.712    14.200\n",
      "\n",
      "Dynamically allocated memory at   amaxlibraries [B,KiB,MiB]:     14890217   14541.228    14.200\n",
      "openf___224_> Open           ${MODINSTALL9v21}/modlib/resdih.lib\n",
      "\n",
      "Dynamically allocated memory at   amaxlibraries [B,KiB,MiB]:     14938817   14588.688    14.247\n",
      "rdrdih__263_> Number of dihedral angle types         :        9\n",
      "              Maximal number of dihedral angle optima:        3\n",
      "              Dihedral angle names                   :  Alph Phi Psi Omeg chi1 chi2 chi3 chi4 chi5\n",
      "openf___224_> Open           ${MODINSTALL9v21}/modlib/radii.lib\n",
      "\n",
      "Dynamically allocated memory at   amaxlibraries [B,KiB,MiB]:     14952117   14601.677    14.259\n",
      "openf___224_> Open           ${MODINSTALL9v21}/modlib/radii14.lib\n",
      "openf___224_> Open           ${MODINSTALL9v21}/modlib/af_mnchdef.lib\n",
      "rdwilmo_274_> Mainchain residue conformation classes:  APBLE\n",
      "openf___224_> Open           ${MODINSTALL9v21}/modlib/mnch.lib\n",
      "rdclass_257_> Number of classes:        5\n",
      "openf___224_> Open           ${MODINSTALL9v21}/modlib/mnch1.lib\n",
      "openf___224_> Open           ${MODINSTALL9v21}/modlib/mnch2.lib\n",
      "openf___224_> Open           ${MODINSTALL9v21}/modlib/mnch3.lib\n",
      "openf___224_> Open           ${MODINSTALL9v21}/modlib/xs4.mat\n",
      "rdrrwgh_268_> Number of residue types:       21\n",
      "openf___224_> Open           alignment.ali\n",
      "\n",
      "Dynamically allocated memory at   amaxalignment [B,KiB,MiB]:     14963426   14612.721    14.270\n",
      "\n",
      "Dynamically allocated memory at   amaxalignment [B,KiB,MiB]:     14964876   14614.137    14.272\n",
      "\n",
      "Dynamically allocated memory at   amaxalignment [B,KiB,MiB]:     14998232   14646.711    14.303\n",
      "\n",
      "Dynamically allocated memory at    amaxsequence [B,KiB,MiB]:     14998448   14646.922    14.304\n",
      "\n",
      "Dynamically allocated memory at    amaxsequence [B,KiB,MiB]:     14998664   14647.133    14.304\n",
      "\n",
      "Read the alignment from file       : alignment.ali\n",
      "Total number of alignment positions:    55\n",
      "\n",
      "  #  Code        #_Res #_Segm PDB_code    Name\n",
      "-------------------------------------------------------------------------------\n",
      "  1   1vq8P03A      55      1 1vq8P03.pdb\n",
      "  2        DIS      55      1         DIS\n",
      "check_a_343_> >> BEGINNING OF COMMAND\n",
      "openf___224_> Open           1vq8P03.pdb\n",
      "\n",
      "Dynamically allocated memory at amaxcoordinates [B,KiB,MiB]:     15016889   14664.931    14.321\n",
      "\n",
      "Dynamically allocated memory at    amaxsequence [B,KiB,MiB]:     15016889   14664.931    14.321\n",
      "\n",
      "Dynamically allocated memory at amaxcoordinates [B,KiB,MiB]:     15017060   14665.098    14.321\n",
      "\n",
      "Dynamically allocated memory at amaxcoordinates [B,KiB,MiB]:     15017910   14665.928    14.322\n",
      "\n",
      "Dynamically allocated memory at amaxcoordinates [B,KiB,MiB]:     15019168   14667.156    14.323\n",
      "\n",
      "Dynamically allocated memory at amaxcoordinates [B,KiB,MiB]:     15021072   14669.016    14.325\n",
      "\n",
      "Dynamically allocated memory at amaxcoordinates [B,KiB,MiB]:     15023928   14671.805    14.328\n",
      "\n",
      "Dynamically allocated memory at    amaxsequence [B,KiB,MiB]:     15023928   14671.805    14.328\n",
      "\n",
      "Dynamically allocated memory at amaxcoordinates [B,KiB,MiB]:     15024018   14671.893    14.328\n",
      "\n",
      "Dynamically allocated memory at    amaxsequence [B,KiB,MiB]:     15024018   14671.893    14.328\n",
      "\n",
      "Dynamically allocated memory at amaxcoordinates [B,KiB,MiB]:     15024153   14672.024    14.328\n",
      "\n",
      "Dynamically allocated memory at amaxcoordinates [B,KiB,MiB]:     15028437   14676.208    14.332\n",
      "\n",
      "Dynamically allocated memory at    amaxsequence [B,KiB,MiB]:     15028437   14676.208    14.332\n",
      "\n",
      "Dynamically allocated memory at amaxcoordinates [B,KiB,MiB]:     15028635   14676.401    14.332\n",
      "\n",
      "Dynamically allocated memory at amaxcoordinates [B,KiB,MiB]:     15035061   14682.677    14.339\n",
      "\n",
      "Dynamically allocated memory at   amaxstructure [B,KiB,MiB]:     15034953   14682.571    14.338\n",
      "\n",
      "check_ali___> Checking the sequence-structure alignment. \n",
      "\n",
      "Implied intrachain target CA(i)-CA(i+1) distances longer than  8.0 angstroms:\n",
      "\n",
      "ALN_POS  TMPL  RID1  RID2  NAM1  NAM2     DIST\n",
      "----------------------------------------------\n",
      "END OF TABLE\n",
      "check_a_344_> << END OF COMMAND\n",
      "openf___224_> Open           ${LIB}/top_heav.lib\n",
      "read_to_681_> topology.submodel read from topology file:        3\n",
      "openf___224_> Open           ${LIB}/par.lib\n",
      "\n",
      "Dynamically allocated memory at  amaxparameters [B,KiB,MiB]:     15174205   14818.560    14.471\n",
      "\n",
      "Dynamically allocated memory at  amaxparameters [B,KiB,MiB]:     15175805   14820.122    14.473\n",
      "\n",
      "Dynamically allocated memory at  amaxparameters [B,KiB,MiB]:     15179785   14824.009    14.477\n",
      "\n",
      "Dynamically allocated memory at  amaxparameters [B,KiB,MiB]:     15181785   14825.962    14.478\n",
      "\n",
      "Dynamically allocated memory at  amaxparameters [B,KiB,MiB]:     15184785   14828.892    14.481\n",
      "\n",
      "Dynamically allocated memory at  amaxparameters [B,KiB,MiB]:     15189285   14833.286    14.486\n",
      "\n",
      "Dynamically allocated memory at  amaxparameters [B,KiB,MiB]:     15194857   14838.728    14.491\n",
      "\n",
      "Dynamically allocated memory at  amaxparameters [B,KiB,MiB]:     15197657   14841.462    14.494\n",
      "\n",
      "Dynamically allocated memory at  amaxparameters [B,KiB,MiB]:     15201857   14845.563    14.498\n",
      "\n",
      "Dynamically allocated memory at  amaxparameters [B,KiB,MiB]:     15208157   14851.716    14.504\n",
      "\n",
      "Dynamically allocated memory at  amaxparameters [B,KiB,MiB]:     15210929   14854.423    14.506\n",
      "\n",
      "Dynamically allocated memory at  amaxparameters [B,KiB,MiB]:     15212329   14855.790    14.508\n",
      "read_pa_232_> parameters    BONDS   ANGLS  DIHEDS IMPROPS    MODE\n",
      "                              227     561     661     112       0\n",
      "\n",
      "Dynamically allocated memory at       amaxmodel [B,KiB,MiB]:     15220807   14864.069    14.516\n",
      "\n",
      "Dynamically allocated memory at       amaxmodel [B,KiB,MiB]:     15268729   14910.868    14.561\n",
      "\n",
      "Dynamically allocated memory at       amaxmodel [B,KiB,MiB]:     15276081   14918.048    14.568\n",
      "\n",
      "mkilst______> segment topology constructed from sequence and RTF:\n",
      "              segments residues atoms bonds angles dihedrals impropers:\n",
      "                     1       55   470   487      0         0       216\n",
      "\n",
      "Dynamically allocated memory at       amaxmodel [B,KiB,MiB]:     15296873   14938.353    14.588\n",
      "\n",
      "patch_______> segment topology patched using RTF:     1  ;  ASN  ;  NTER\n",
      "              segments residues atoms bonds angles dihedrals impropers:\n",
      "                     1       55   470   487    663       804       216\n",
      "\n",
      "\n",
      "Dynamically allocated memory at       amaxmodel [B,KiB,MiB]:     15318409   14959.384    14.609\n",
      "patch_______> segment topology patched using RTF:    55  ;  ALA  ;  CTER\n",
      "              segments residues atoms bonds angles dihedrals impropers:\n",
      "                     1       55   471   488    665       806       217\n",
      "\n",
      "genseg______> segment topology constructed from sequence and RTF:\n",
      "              segments residues atoms bonds angles dihedrals impropers:\n",
      "                     1       55   471   488    665       806       217\n",
      "transfe_506_> MODEL is an average of all templates.\n",
      "transfe_511_> Number of templates for coordinate transfer:        1\n",
      "              After transferring coordinates of the equivalent template atoms,\n",
      "              there are defined, undefined atoms in MODEL:      362      109\n",
      "openf___224_> Open           DIS.ini\n",
      "wrpdb___568_> Residues, atoms, selected atoms:       55      471      471\n",
      "make_re_417_> Restraint type to be calculated:  stereo\n",
      "\n",
      "Dynamically allocated memory at  amaxrestraints [B,KiB,MiB]:     15425458   15063.924    14.711\n",
      "\n",
      "Dynamically allocated memory at  amaxrestraints [B,KiB,MiB]:     15433650   15071.924    14.719\n",
      "\n",
      "Dynamically allocated memory at  amaxrestraints [B,KiB,MiB]:     15450034   15087.924    14.734\n",
      "\n",
      "Dynamically allocated memory at  amaxrestraints [B,KiB,MiB]:     15482802   15119.924    14.766\n",
      "\n",
      "Dynamically allocated memory at  amaxrestraints [B,KiB,MiB]:     15515570   15151.924    14.797\n",
      "r_stere_606_> Stereochemical restraints were constructed from RTF & PRMF.\n",
      "              Added bond,angle,dihedral,improper restraints  :      488     665     768     215\n",
      "              Total number of restraints before, now         :        0     2136\n",
      "make_re_422_> Number of previous, current restraints         :        0     2136\n",
      "make_re_423_> Number of previous, current selected restraints:        0     2136\n",
      "make_re_417_> Restraint type to be calculated:  phi-psi_binormal\n",
      "\n",
      "Dynamically allocated memory at   amaxstructure [B,KiB,MiB]:     15548014   15183.607    14.828\n",
      "openf___224_> Open           ${MODINSTALL9v21}/modlib/mnch1.bin\n",
      "openf___224_> Open           ${MODINSTALL9v21}/modlib/mnch1.mdt\n",
      "getdata_643_> Protein accepted:  1vq8P03A\n",
      "getdata_289_> Proteins (all/accepted):        1        1\n",
      "make_re_422_> Number of previous, current restraints         :     2136     2189\n",
      "make_re_423_> Number of previous, current selected restraints:     2136     2189\n",
      "make_re_417_> Restraint type to be calculated:  omega_dihedral\n",
      "\n",
      "Dynamically allocated memory at   amaxstructure [B,KiB,MiB]:     15548030   15183.623    14.828\n",
      "openf___224_> Open           ${MODINSTALL9v21}/modlib/omega.bin\n",
      "openf___224_> Open           ${MODINSTALL9v21}/modlib/omega.mdt\n",
      "getdata_643_> Protein accepted:  1vq8P03A\n",
      "getdata_289_> Proteins (all/accepted):        1        1\n",
      "omgdel__425_> Unselected all O C +N +CA dihedrals:       56\n",
      "              (This is to avoid clashes between STEREO\n",
      "              and OMEGA_DIHEDRAL restraints)\n",
      "make_re_422_> Number of previous, current restraints         :     2189     2243\n",
      "make_re_423_> Number of previous, current selected restraints:     2189     2187\n",
      "make_re_417_> Restraint type to be calculated:  chi1_dihedral\n",
      "\n",
      "Dynamically allocated memory at   amaxstructure [B,KiB,MiB]:     15548030   15183.623    14.828\n",
      "openf___224_> Open           ${MODINSTALL9v21}/modlib/chi1234.bin\n",
      "openf___224_> Open           ${MODINSTALL9v21}/modlib/chi1.mdt\n",
      "getdata_643_> Protein accepted:  1vq8P03A\n",
      "getdata_289_> Proteins (all/accepted):        1        1\n",
      "make_re_422_> Number of previous, current restraints         :     2243     2293\n",
      "make_re_423_> Number of previous, current selected restraints:     2187     2237\n",
      "make_re_417_> Restraint type to be calculated:  chi2_dihedral\n",
      "\n",
      "Dynamically allocated memory at   amaxstructure [B,KiB,MiB]:     15548030   15183.623    14.828\n",
      "openf___224_> Open           ${MODINSTALL9v21}/modlib/chi1234.bin\n",
      "openf___224_> Open           ${MODINSTALL9v21}/modlib/chi2.mdt\n"
     ]
    },
    {
     "name": "stdout",
     "output_type": "stream",
     "text": [
      "getdata_643_> Protein accepted:  1vq8P03A\n",
      "getdata_289_> Proteins (all/accepted):        1        1\n",
      "\n",
      "Dynamically allocated memory at  amaxrestraints [B,KiB,MiB]:     15580798   15215.623    14.859\n",
      "\n",
      "Dynamically allocated memory at  amaxrestraints [B,KiB,MiB]:     15646334   15279.623    14.922\n",
      "make_re_422_> Number of previous, current restraints         :     2293     2331\n",
      "make_re_423_> Number of previous, current selected restraints:     2237     2275\n",
      "make_re_417_> Restraint type to be calculated:  chi3_dihedral\n",
      "\n",
      "Dynamically allocated memory at   amaxstructure [B,KiB,MiB]:     15646334   15279.623    14.922\n",
      "openf___224_> Open           ${MODINSTALL9v21}/modlib/chi1234.bin\n",
      "openf___224_> Open           ${MODINSTALL9v21}/modlib/chi3.mdt\n",
      "getdata_643_> Protein accepted:  1vq8P03A\n",
      "getdata_289_> Proteins (all/accepted):        1        1\n",
      "make_re_422_> Number of previous, current restraints         :     2331     2346\n",
      "make_re_423_> Number of previous, current selected restraints:     2275     2290\n",
      "make_re_417_> Restraint type to be calculated:  chi4_dihedral\n",
      "\n",
      "Dynamically allocated memory at   amaxstructure [B,KiB,MiB]:     15646334   15279.623    14.922\n",
      "openf___224_> Open           ${MODINSTALL9v21}/modlib/chi1234.bin\n",
      "openf___224_> Open           ${MODINSTALL9v21}/modlib/chi4.mdt\n",
      "mdtrsr__446W> A potential that relies on one protein is used, yet you have at\n",
      "              least one known structure available. MDT, not library, potential is used.\n",
      "getdata_643_> Protein accepted:  1vq8P03A\n",
      "getdata_289_> Proteins (all/accepted):        1        1\n",
      "make_re_422_> Number of previous, current restraints         :     2346     2351\n",
      "make_re_423_> Number of previous, current selected restraints:     2290     2295\n",
      "make_re_417_> Restraint type to be calculated:  DISTANCE\n",
      "\n",
      "Dynamically allocated memory at amaxhash_contac [B,KiB,MiB]:     15781946   15412.057    15.051\n",
      "\n",
      "Dynamically allocated memory at  amaxrestraints [B,KiB,MiB]:     15814714   15444.057    15.082\n",
      "make_re_422_> Number of previous, current restraints         :     2351     3040\n",
      "make_re_423_> Number of previous, current selected restraints:     2295     2984\n",
      "make_re_417_> Restraint type to be calculated:  DISTANCE\n",
      "make_re_422_> Number of previous, current restraints         :     3040     3820\n",
      "make_re_423_> Number of previous, current selected restraints:     2984     3764\n",
      "make_re_417_> Restraint type to be calculated:  DISTANCE\n",
      "\n",
      "Dynamically allocated memory at  amaxrestraints [B,KiB,MiB]:     15880250   15508.057    15.145\n",
      "make_re_422_> Number of previous, current restraints         :     3820     4341\n",
      "make_re_423_> Number of previous, current selected restraints:     3764     4285\n",
      "make_re_417_> Restraint type to be calculated:  DISTANCE\n",
      "make_re_422_> Number of previous, current restraints         :     4341     4434\n",
      "make_re_423_> Number of previous, current selected restraints:     4285     4378\n",
      "0 atoms in HETATM/BLK residues constrained\n",
      "to protein atoms within 2.30 angstroms\n",
      "and protein CA atoms within 10.00 angstroms\n",
      "make_re_417_> Restraint type to be calculated:  DISTANCE\n",
      "make_re_422_> Number of previous, current restraints         :     4434     4434\n",
      "make_re_423_> Number of previous, current selected restraints:     4378     4378\n",
      "make_re_417_> Restraint type to be calculated:  DISTANCE\n",
      "make_re_422_> Number of previous, current restraints         :     4434     4434\n",
      "make_re_423_> Number of previous, current selected restraints:     4378     4378\n",
      "make_re_417_> Restraint type to be calculated:  DISTANCE\n",
      "make_re_422_> Number of previous, current restraints         :     4434     4434\n",
      "make_re_423_> Number of previous, current selected restraints:     4378     4378\n",
      "make_re_417_> Restraint type to be calculated:  DISTANCE\n",
      "make_re_422_> Number of previous, current restraints         :     4434     4434\n",
      "make_re_423_> Number of previous, current selected restraints:     4378     4378\n",
      "0 atoms in residues without defined topology\n",
      "constrained to be rigid bodies\n",
      "make_re_417_> Restraint type to be calculated:  DISTANCE\n",
      "make_re_422_> Number of previous, current restraints         :     4434     4434\n",
      "make_re_423_> Number of previous, current selected restraints:     4378     4378\n",
      "rmdupl__427_>      332 redundant cosine dihedral restraints were unselected.\n",
      "condens_443_> Restraints marked for deletion were removed.\n",
      "              Total number of restraints before, now:     4434     4046\n",
      "openf___224_> Open           DIS.rsr\n",
      "openf___224_> Open           DIS.rsr\n",
      "\n",
      "Dynamically allocated memory at  amaxrestraints [B,KiB,MiB]:     15839216   15467.984    15.105\n",
      "\n",
      "Dynamically allocated memory at  amaxrestraints [B,KiB,MiB]:     15937520   15563.984    15.199\n",
      "rdcsr2__307_> Number of restraints read    :     4046\n",
      "              Number of excluded pairs read:        0\n",
      "              Number of pseudo atoms read  :        0\n",
      "rdcsrs__304_> Restraints in memory, selected restraints:     4046     4046\n",
      "              Explicitly excluded atom pairs in memory :        0\n",
      "              Pseudo atoms in memory                   :        0\n",
      "openf___224_> Open           DIS.ini\n",
      "\n",
      "Dynamically allocated memory at       amaxmodel [B,KiB,MiB]:     15937544   15564.008    15.199\n",
      "read_mo_297_> Segments, residues, atoms:        1       55      471\n",
      "read_mo_298_> Segment:        1     1    55      471\n",
      "randomi_498_> Atoms,selected atoms,random_seed,amplitude:      471      471        1        4.0000\n",
      "randomi_496_> Amplitude is > 0; randomization is done.\n",
      "pick_re_612_> Number of MODEL atoms, selected restraints;      471     2650\n",
      "pick_re_612_> Number of MODEL atoms, selected restraints;      471     3014\n",
      "pick_re_612_> Number of MODEL atoms, selected restraints;      471     3247\n",
      "pick_re_612_> Number of MODEL atoms, selected restraints;      471     3511\n",
      "pick_re_612_> Number of MODEL atoms, selected restraints;      471     3671\n",
      "\n",
      "Dynamically allocated memory at  amaxrestraints [B,KiB,MiB]:     16241428   15860.770    15.489\n",
      "pick_re_612_> Number of MODEL atoms, selected restraints;      471     3835\n",
      "pick_re_612_> Number of MODEL atoms, selected restraints;      471     4046\n",
      "pick_re_612_> Number of MODEL atoms, selected restraints;      471     4046\n",
      "iupac_m_483_> CD1/2 CE1/2 swapped:      106.1085        5     5\n",
      "iupac_m_397W> Atoms were not swapped because of the uncertainty of how to handle the H atom.\n",
      "iupac_m_486_> OE1/2 will be swapped:     -175.3749        7     7\n",
      "iupac_m_486_> OE1/2 will be swapped:      113.3634       14    14\n",
      "iupac_m_483_> CD1/2 CE1/2 swapped:       97.9461       34    34\n",
      "iupac_m_397W> Atoms were not swapped because of the uncertainty of how to handle the H atom.\n",
      "iupac_m_485_> OD1/2 will be swapped:      125.7318       36    36\n",
      ">> Model assessment by DOPE potential\n",
      "iatmcls_286W> MODEL atom not classified:  ALA:OXT  ALA\n",
      "\n",
      "Dynamically allocated memory at  amaxrestraints [B,KiB,MiB]:     16545504   16157.719    15.779\n",
      "\n",
      "Dynamically allocated memory at  amaxrestraints [B,KiB,MiB]:     16568112   16179.797    15.801\n",
      "\n",
      "Dynamically allocated memory at  amaxrestraints [B,KiB,MiB]:     16613328   16223.953    15.844\n",
      "\n",
      "Dynamically allocated memory at  amaxrestraints [B,KiB,MiB]:     16703760   16312.266    15.930\n",
      "\n",
      "Dynamically allocated memory at  amaxrestraints [B,KiB,MiB]:     16884624   16488.891    16.102\n",
      "\n",
      "Dynamically allocated memory at  amaxrestraints [B,KiB,MiB]:     17246352   16842.141    16.447\n",
      "\n",
      "\n",
      ">> ENERGY; Differences between the model's features and restraints:\n",
      "Number of all residues in MODEL                   :       55\n",
      "Number of all, selected real atoms                :      471     471\n",
      "Number of all, selected pseudo atoms              :        0       0\n",
      "Number of all static, selected restraints         :     4046    4046\n",
      "COVALENT_CYS                                      :        F\n",
      "NONBONDED_SEL_ATOMS                               :        1\n",
      "Number of non-bonded pairs (excluding 1-2,1-3,1-4):    56182\n",
      "Dynamic pairs routine                             : 1, NATM x NATM double loop\n",
      "Atomic shift for contacts update (UPDATE_DYNAMIC) :    0.390\n",
      "LENNARD_JONES_SWITCH                              :    6.500   7.500\n",
      "COULOMB_JONES_SWITCH                              :    6.500   7.500\n",
      "RESIDUE_SPAN_RANGE                                :        1    9999\n",
      "NLOGN_USE                                         :       15\n",
      "CONTACT_SHELL                                     :   15.000\n",
      "DYNAMIC_PAIRS,_SPHERE,_COULOMB,_LENNARD,_MODELLER :        T       F       F       F       T\n",
      "SPHERE_STDV                                       :    0.050\n",
      "RADII_FACTOR                                      :    0.820\n",
      "Current energy                                    :       -5572.5488\n",
      "\n",
      "\n",
      "\n",
      "\n",
      "<< end of ENERGY.\n",
      "DOPE score               : -5572.548828\n",
      ">> Model assessment by GA341 potential\n",
      "\n",
      "Surface library          : /Users/blaze/anaconda3/envs/chollet/lib/modeller-9.21/modlib/surf5.de\n",
      "Pair library             : /Users/blaze/anaconda3/envs/chollet/lib/modeller-9.21/modlib/pair9.de\n",
      "Chain identifier         : _\n",
      "% sequence identity      :    36.363998\n"
     ]
    },
    {
     "name": "stdout",
     "output_type": "stream",
     "text": [
      "Sequence length          :           55\n",
      "Compactness              :     0.276477\n",
      "Native energy (pair)     :   -82.590116\n",
      "Native energy (surface)  :     2.750488\n",
      "Native energy (combined) :    -4.014706\n",
      "Z score (pair)           :    -2.769409\n",
      "Z score (surface)        :    -1.747205\n",
      "Z score (combined)       :    -2.647390\n",
      "GA341 score              :     0.457261\n",
      "\n",
      "\n",
      "\n",
      ">> ENERGY; Differences between the model's features and restraints:\n",
      "Number of all residues in MODEL                   :       55\n",
      "Number of all, selected real atoms                :      471     471\n",
      "Number of all, selected pseudo atoms              :        0       0\n",
      "Number of all static, selected restraints         :     4046    4046\n",
      "COVALENT_CYS                                      :        F\n",
      "NONBONDED_SEL_ATOMS                               :        1\n",
      "Number of non-bonded pairs (excluding 1-2,1-3,1-4):     1029\n",
      "Dynamic pairs routine                             : 2, NATM x NATM cell sorting\n",
      "Atomic shift for contacts update (UPDATE_DYNAMIC) :    0.390\n",
      "LENNARD_JONES_SWITCH                              :    6.500   7.500\n",
      "COULOMB_JONES_SWITCH                              :    6.500   7.500\n",
      "RESIDUE_SPAN_RANGE                                :        0   99999\n",
      "NLOGN_USE                                         :       15\n",
      "CONTACT_SHELL                                     :    4.000\n",
      "DYNAMIC_PAIRS,_SPHERE,_COULOMB,_LENNARD,_MODELLER :        T       T       F       F       F\n",
      "SPHERE_STDV                                       :    0.050\n",
      "RADII_FACTOR                                      :    0.820\n",
      "Current energy                                    :         185.2789\n",
      "\n",
      "\n",
      "\n",
      "\n",
      "\n",
      "Summary of the restraint violations: \n",
      "\n",
      "   NUM     ... number of restraints.\n",
      "   NUMVI   ... number of restraints with RVIOL > VIOL_REPORT_CUT[i].\n",
      "   RVIOL   ... relative difference from the best value.\n",
      "   NUMVP   ... number of restraints with -Ln(pdf) > VIOL_REPORT_CUT2[i].\n",
      "   RMS_1   ... RMS(feature, minimally_violated_basis_restraint, NUMB).\n",
      "   RMS_2   ... RMS(feature, best_value, NUMB).\n",
      "   MOL.PDF ... scaled contribution to -Ln(Molecular pdf).\n",
      "\n",
      " #                     RESTRAINT_GROUP      NUM   NUMVI  NUMVP   RMS_1   RMS_2         MOL.PDF     S_i\n",
      "------------------------------------------------------------------------------------------------------\n",
      " 1 Bond length potential              :     488       0      0   0.004   0.004      2.1767       1.000\n",
      " 2 Bond angle potential               :     665       0      1   1.678   1.678      34.586       1.000\n",
      " 3 Stereochemical cosine torsion poten:     380       0      5  38.306  38.306      83.760       1.000\n",
      " 4 Stereochemical improper torsion pot:     215       0      0   0.995   0.995      4.2644       1.000\n",
      " 5 Soft-sphere overlap restraints     :    1029       0      0   0.002   0.002     0.57450       1.000\n",
      " 6 Lennard-Jones 6-12 potential       :       0       0      0   0.000   0.000      0.0000       1.000\n",
      " 7 Coulomb point-point electrostatic p:       0       0      0   0.000   0.000      0.0000       1.000\n",
      " 8 H-bonding potential                :       0       0      0   0.000   0.000      0.0000       1.000\n",
      " 9 Distance restraints 1 (CA-CA)      :     689       0      0   0.160   0.160      12.680       1.000\n",
      "10 Distance restraints 2 (N-O)        :     780       0      0   0.246   0.246      22.030       1.000\n",
      "11 Mainchain Phi dihedral restraints  :       0       0      0   0.000   0.000      0.0000       1.000\n",
      "12 Mainchain Psi dihedral restraints  :       0       0      0   0.000   0.000      0.0000       1.000\n",
      "13 Mainchain Omega dihedral restraints:      54       0      0   3.315   3.315      6.9979       1.000\n",
      "14 Sidechain Chi_1 dihedral restraints:      50       0      1  69.895  69.895      11.171       1.000\n",
      "15 Sidechain Chi_2 dihedral restraints:      38       0      0  96.750  96.750      18.178       1.000\n",
      "16 Sidechain Chi_3 dihedral restraints:      15       0      0  89.818  89.818      11.938       1.000\n",
      "17 Sidechain Chi_4 dihedral restraints:       5       0      0  97.477  97.477      2.4929       1.000\n",
      "18 Disulfide distance restraints      :       0       0      0   0.000   0.000      0.0000       1.000\n",
      "19 Disulfide angle restraints         :       0       0      0   0.000   0.000      0.0000       1.000\n",
      "20 Disulfide dihedral angle restraints:       0       0      0   0.000   0.000      0.0000       1.000\n",
      "21 Lower bound distance restraints    :       0       0      0   0.000   0.000      0.0000       1.000\n",
      "22 Upper bound distance restraints    :       0       0      0   0.000   0.000      0.0000       1.000\n",
      "23 Distance restraints 3 (SDCH-MNCH)  :     521       0      0   0.447   0.447      7.2226       1.000\n",
      "24 Sidechain Chi_5 dihedral restraints:       0       0      0   0.000   0.000      0.0000       1.000\n",
      "25 Phi/Psi pair of dihedral restraints:      53       3      4  14.128  43.512     -42.052       1.000\n",
      "26 Distance restraints 4 (SDCH-SDCH)  :      93       0      0   1.034   1.034      9.2591       1.000\n",
      "27 Distance restraints 5 (X-Y)        :       0       0      0   0.000   0.000      0.0000       1.000\n",
      "28 NMR distance restraints 6 (X-Y)    :       0       0      0   0.000   0.000      0.0000       1.000\n",
      "29 NMR distance restraints 7 (X-Y)    :       0       0      0   0.000   0.000      0.0000       1.000\n",
      "30 Minimal distance restraints        :       0       0      0   0.000   0.000      0.0000       1.000\n",
      "31 Non-bonded restraints              :       0       0      0   0.000   0.000      0.0000       1.000\n",
      "32 Atomic accessibility restraints    :       0       0      0   0.000   0.000      0.0000       1.000\n",
      "33 Atomic density restraints          :       0       0      0   0.000   0.000      0.0000       1.000\n",
      "34 Absolute position restraints       :       0       0      0   0.000   0.000      0.0000       1.000\n",
      "35 Dihedral angle difference restraint:       0       0      0   0.000   0.000      0.0000       1.000\n",
      "36 GBSA implicit solvent potential    :       0       0      0   0.000   0.000      0.0000       1.000\n",
      "37 EM density fitting potential       :       0       0      0   0.000   0.000      0.0000       1.000\n",
      "38 SAXS restraints                    :       0       0      0   0.000   0.000      0.0000       1.000\n",
      "39 Symmetry restraints                :       0       0      0   0.000   0.000      0.0000       1.000\n",
      "\n",
      "\n",
      "\n",
      "openf___224_> Open           DIS.V99990001\n",
      "# Heavy relative violation of each residue is written to: DIS.V99990001\n",
      "# The profile is NOT normalized by the number of restraints.\n",
      "# The profiles are smoothed over a window of residues:    1\n",
      "# The sum of all numbers in the file:    4690.5210\n",
      "\n",
      "\n",
      "\n",
      "List of the violated restraints:\n",
      "   A restraint is violated when the relative difference\n",
      "   from the best value (RVIOL) is larger than CUTOFF.\n",
      "\n",
      "   ICSR   ... index of a restraint in the current set.\n",
      "   RESNO  ... residue numbers of the first two atoms.\n",
      "   ATM    ... IUPAC atom names of the first two atoms.\n",
      "   FEAT   ... the value of the feature in the model.\n",
      "   restr  ... the mean of the basis restraint with the smallest\n",
      "              difference from the model (local minimum).\n",
      "   viol   ... difference from the local minimum.\n",
      "   rviol  ... relative difference from the local minimum.\n",
      "   RESTR  ... the best value (global minimum).\n",
      "   VIOL   ... difference from the best value.\n",
      "   RVIOL  ... relative difference from the best value.\n",
      "\n",
      "\n",
      "-------------------------------------------------------------------------------------------------\n",
      "\n",
      "Feature 25                           : Phi/Psi pair of dihedral restraints     \n",
      "List of the RVIOL violations larger than   :       6.5000\n",
      "\n",
      "    #   ICSR  RESNO1/2 ATM1/2   INDATM1/2    FEAT   restr    viol   rviol   RESTR    VIOL   RVIOL\n",
      "    1   1771  23W  24T C   N     217  219   76.83   55.90   37.52    1.87 -124.80 -151.81   12.59\n",
      "    1         24T  24T N   CA    219  220    8.36   39.50                  143.50\n",
      "    2   1788  40M  41V C   N     355  357   81.05   55.90   29.22    2.28 -125.40 -165.94   10.73\n",
      "    2         41V  41V N   CA    357  358   24.63   39.50                  143.30\n",
      "    3   1801  53F  54D C   N     456  458  -80.44  -96.50   44.48    1.87  -63.30  114.02   13.12\n",
      "    3         54D  54D N   CA    458  459   72.73  114.20                  -40.00\n",
      "\n",
      "\n",
      "report______> Distribution of short non-bonded contacts:\n",
      "\n",
      "\n",
      "DISTANCE1:  0.00 2.10 2.20 2.30 2.40 2.50 2.60 2.70 2.80 2.90 3.00 3.10 3.20 3.30 3.40\n",
      "DISTANCE2:  2.10 2.20 2.30 2.40 2.50 2.60 2.70 2.80 2.90 3.00 3.10 3.20 3.30 3.40 3.50\n",
      "FREQUENCY:     0    0    0    0    0    1    2   31   45   53   50   62   90   84   60\n",
      "\n",
      "\n",
      "<< end of ENERGY.\n",
      "openf___224_> Open           DIS.B99990001.pdb\n",
      "wrpdb___568_> Residues, atoms, selected atoms:       55      471      471\n",
      "\n",
      ">> Summary of successfully produced models:\n",
      "Filename                          molpdf     DOPE score    GA341 score\n",
      "----------------------------------------------------------------------\n",
      "DIS.B99990001.pdb              185.27885    -5572.54883        0.45726\n",
      "\n"
     ]
    }
   ],
   "source": [
    "# Comparative modeling by the automodel class\n",
    "from modeller import *              # Load standard Modeller classes\n",
    "from modeller.automodel import *    # Load the automodel class\n",
    "from modeller import soap_protein_od\n",
    "\n",
    "\n",
    "log.verbose()    # request verbose output\n",
    "env = environ()  # create a new MODELLER environment to build this model in\n",
    "\n",
    "# directories for input atom files\n",
    "env.io.atom_files_directory = ['.']\n",
    "\n",
    "a = automodel(env,\n",
    "              alnfile  = 'alignment.ali',     # alignment filename\n",
    "              knowns   = '1vq8P03A',              # codes of the templates\n",
    "              sequence = seq_name, # code of the target\n",
    "              assess_methods=(assess.DOPE,\n",
    "                              #soap_protein_od.Scorer(),\n",
    "                              assess.GA341))\n",
    "a.starting_model= 1                 # index of the first model\n",
    "a.ending_model  = 1                 # index of the last model\n",
    "                                    # (determines how many models to calculate)\n",
    "a.make()                            # do the actual comparative modeling"
   ]
  },
  {
   "cell_type": "code",
   "execution_count": null,
   "metadata": {},
   "outputs": [],
   "source": []
  }
 ],
 "metadata": {
  "kernelspec": {
   "display_name": "Python [conda env:chollet]",
   "language": "python",
   "name": "conda-env-chollet-py"
  },
  "language_info": {
   "codemirror_mode": {
    "name": "ipython",
    "version": 3
   },
   "file_extension": ".py",
   "mimetype": "text/x-python",
   "name": "python",
   "nbconvert_exporter": "python",
   "pygments_lexer": "ipython3",
   "version": "3.6.8"
  },
  "toc": {
   "base_numbering": 1,
   "nav_menu": {},
   "number_sections": true,
   "sideBar": true,
   "skip_h1_title": false,
   "title_cell": "Table of Contents",
   "title_sidebar": "Contents",
   "toc_cell": false,
   "toc_position": {},
   "toc_section_display": true,
   "toc_window_display": false
  },
  "varInspector": {
   "cols": {
    "lenName": 16,
    "lenType": 16,
    "lenVar": 40
   },
   "kernels_config": {
    "python": {
     "delete_cmd_postfix": "",
     "delete_cmd_prefix": "del ",
     "library": "var_list.py",
     "varRefreshCmd": "print(var_dic_list())"
    },
    "r": {
     "delete_cmd_postfix": ") ",
     "delete_cmd_prefix": "rm(",
     "library": "var_list.r",
     "varRefreshCmd": "cat(var_dic_list()) "
    }
   },
   "types_to_exclude": [
    "module",
    "function",
    "builtin_function_or_method",
    "instance",
    "_Feature"
   ],
   "window_display": false
  }
 },
 "nbformat": 4,
 "nbformat_minor": 2
}
