{
 "cells": [
  {
   "cell_type": "markdown",
   "metadata": {
    "ExecuteTime": {
     "end_time": "2019-01-11T23:52:11.803102Z",
     "start_time": "2019-01-11T23:52:11.789681Z"
    }
   },
   "source": [
    "# IMDB Movie reviews sentiment classification"
   ]
  },
  {
   "cell_type": "markdown",
   "metadata": {},
   "source": [
    "## 0. Settings"
   ]
  },
  {
   "cell_type": "code",
   "execution_count": 1,
   "metadata": {
    "ExecuteTime": {
     "end_time": "2019-01-21T10:27:07.232916Z",
     "start_time": "2019-01-21T10:27:07.182693Z"
    },
    "run_control": {
     "marked": true
    }
   },
   "outputs": [
    {
     "data": {
      "text/html": [
       "<style>.container { width:80% !important; }</style>"
      ],
      "text/plain": [
       "<IPython.core.display.HTML object>"
      ]
     },
     "metadata": {},
     "output_type": "display_data"
    }
   ],
   "source": [
    "from IPython.core.display import display, HTML\n",
    "display(HTML(\"<style>.container { width:80% !important; }</style>\"))"
   ]
  },
  {
   "cell_type": "code",
   "execution_count": 2,
   "metadata": {
    "ExecuteTime": {
     "end_time": "2019-01-21T10:27:08.916960Z",
     "start_time": "2019-01-21T10:27:07.631314Z"
    }
   },
   "outputs": [],
   "source": [
    "%matplotlib inline\n",
    "\n",
    "import numpy as np\n",
    "import pandas as pd\n",
    "import matplotlib.pyplot as plt"
   ]
  },
  {
   "cell_type": "markdown",
   "metadata": {},
   "source": [
    "## 1. Load dataset"
   ]
  },
  {
   "cell_type": "code",
   "execution_count": 3,
   "metadata": {
    "ExecuteTime": {
     "end_time": "2019-01-21T10:27:09.457217Z",
     "start_time": "2019-01-21T10:27:09.315507Z"
    }
   },
   "outputs": [
    {
     "name": "stdout",
     "output_type": "stream",
     "text": [
      "9413016_HW5.pdf                         Telco Customer Churn.csv\r\n",
      "Genetic Algorithm.ipynb                 imdb_labelled.csv\r\n",
      "HW5.pages                               raymer2000.pdf\r\n",
      "HW5.pdf                                 roc.png\r\n",
      "NaïveBayes & LogisticRegression.ipynb\r\n"
     ]
    }
   ],
   "source": [
    "!ls"
   ]
  },
  {
   "cell_type": "code",
   "execution_count": 4,
   "metadata": {
    "ExecuteTime": {
     "end_time": "2019-01-21T10:27:09.789431Z",
     "start_time": "2019-01-21T10:27:09.786515Z"
    },
    "run_control": {
     "marked": true
    }
   },
   "outputs": [],
   "source": [
    "PATH = './'\n",
    "DATA_FILE = 'imdb_labelled.csv'"
   ]
  },
  {
   "cell_type": "code",
   "execution_count": 5,
   "metadata": {
    "ExecuteTime": {
     "end_time": "2019-01-21T10:27:10.547926Z",
     "start_time": "2019-01-21T10:27:10.508670Z"
    }
   },
   "outputs": [
    {
     "data": {
      "text/html": [
       "<div>\n",
       "<style scoped>\n",
       "    .dataframe tbody tr th:only-of-type {\n",
       "        vertical-align: middle;\n",
       "    }\n",
       "\n",
       "    .dataframe tbody tr th {\n",
       "        vertical-align: top;\n",
       "    }\n",
       "\n",
       "    .dataframe thead th {\n",
       "        text-align: right;\n",
       "    }\n",
       "</style>\n",
       "<table border=\"1\" class=\"dataframe\">\n",
       "  <thead>\n",
       "    <tr style=\"text-align: right;\">\n",
       "      <th></th>\n",
       "      <th>Text</th>\n",
       "      <th>Sentiment</th>\n",
       "    </tr>\n",
       "  </thead>\n",
       "  <tbody>\n",
       "    <tr>\n",
       "      <th>0</th>\n",
       "      <td>A very, very, very slow-moving, aimless movie ...</td>\n",
       "      <td>0</td>\n",
       "    </tr>\n",
       "    <tr>\n",
       "      <th>1</th>\n",
       "      <td>Not sure who was more lost - the flat characte...</td>\n",
       "      <td>0</td>\n",
       "    </tr>\n",
       "    <tr>\n",
       "      <th>2</th>\n",
       "      <td>Attempting artiness with black &amp; white and cle...</td>\n",
       "      <td>0</td>\n",
       "    </tr>\n",
       "    <tr>\n",
       "      <th>3</th>\n",
       "      <td>Very little music or anything to speak of.</td>\n",
       "      <td>0</td>\n",
       "    </tr>\n",
       "    <tr>\n",
       "      <th>4</th>\n",
       "      <td>The best scene in the movie was when Gerardo i...</td>\n",
       "      <td>1</td>\n",
       "    </tr>\n",
       "  </tbody>\n",
       "</table>\n",
       "</div>"
      ],
      "text/plain": [
       "                                                Text  Sentiment\n",
       "0  A very, very, very slow-moving, aimless movie ...          0\n",
       "1  Not sure who was more lost - the flat characte...          0\n",
       "2  Attempting artiness with black & white and cle...          0\n",
       "3       Very little music or anything to speak of.            0\n",
       "4  The best scene in the movie was when Gerardo i...          1"
      ]
     },
     "execution_count": 5,
     "metadata": {},
     "output_type": "execute_result"
    }
   ],
   "source": [
    "data = pd.read_csv(PATH + DATA_FILE, delimiter='\\t', header=None,\n",
    "                   names=['Text', 'Sentiment'])\n",
    "data.head()"
   ]
  },
  {
   "cell_type": "markdown",
   "metadata": {},
   "source": [
    "### 1.2 Clean text"
   ]
  },
  {
   "cell_type": "code",
   "execution_count": 6,
   "metadata": {
    "ExecuteTime": {
     "end_time": "2019-01-21T10:27:12.687727Z",
     "start_time": "2019-01-21T10:27:11.635797Z"
    }
   },
   "outputs": [
    {
     "name": "stderr",
     "output_type": "stream",
     "text": [
      "[nltk_data] Error loading stopwords: <urlopen error [Errno 8] nodename\n",
      "[nltk_data]     nor servname provided, or not known>\n",
      "[nltk_data] Error loading punkt: <urlopen error [Errno 8] nodename nor\n",
      "[nltk_data]     servname provided, or not known>\n"
     ]
    }
   ],
   "source": [
    "import nltk\n",
    "nltk.download('stopwords');\n",
    "nltk.download('punkt');"
   ]
  },
  {
   "cell_type": "code",
   "execution_count": 7,
   "metadata": {
    "ExecuteTime": {
     "end_time": "2019-01-21T10:27:18.005559Z",
     "start_time": "2019-01-21T10:27:17.876376Z"
    }
   },
   "outputs": [],
   "source": [
    "from nltk.corpus import stopwords\n",
    "from nltk.tokenize import word_tokenize\n",
    "from nltk.stem.porter import PorterStemmer\n",
    "from bs4 import BeautifulSoup\n",
    "import string\n",
    "\n",
    "def Text_Preprocess(df, col):\n",
    "    # remove html tags (safe)\n",
    "    df[col] = df[col].apply(lambda text: BeautifulSoup(text).get_text())\n",
    "    \n",
    "    # remove punctuation and numbers\n",
    "    df[col] = df[col].str.translate(str.maketrans('', '', string.punctuation + string.digits))\n",
    "    \n",
    "    stop = set(stopwords.words('english')) # stopwords \n",
    "    st = PorterStemmer() # Porter Stemming Algorithm\n",
    "    \n",
    "    # Tokenize - Stem - Remove stop words and whitespace\n",
    "    df[col] = df[col].apply(lambda text: \n",
    "                            [st.stem(w.strip()) for w in word_tokenize(text.lower()) if w not in stop])\n",
    "    \n",
    "    # Common word removal\n",
    "    freq = pd.Series([w for rw in df[col] for w in rw]).value_counts()[:2]\n",
    "    # df[col] = df[col].apply(lambda text: [w for w in text if w not in freq.index])\n",
    "    "
   ]
  },
  {
   "cell_type": "code",
   "execution_count": 8,
   "metadata": {
    "ExecuteTime": {
     "end_time": "2019-01-21T10:27:19.544436Z",
     "start_time": "2019-01-21T10:27:19.011632Z"
    }
   },
   "outputs": [
    {
     "data": {
      "text/html": [
       "<div>\n",
       "<style scoped>\n",
       "    .dataframe tbody tr th:only-of-type {\n",
       "        vertical-align: middle;\n",
       "    }\n",
       "\n",
       "    .dataframe tbody tr th {\n",
       "        vertical-align: top;\n",
       "    }\n",
       "\n",
       "    .dataframe thead th {\n",
       "        text-align: right;\n",
       "    }\n",
       "</style>\n",
       "<table border=\"1\" class=\"dataframe\">\n",
       "  <thead>\n",
       "    <tr style=\"text-align: right;\">\n",
       "      <th></th>\n",
       "      <th>Text</th>\n",
       "      <th>Sentiment</th>\n",
       "    </tr>\n",
       "  </thead>\n",
       "  <tbody>\n",
       "    <tr>\n",
       "      <th>0</th>\n",
       "      <td>[slowmov, aimless, movi, distress, drift, youn...</td>\n",
       "      <td>0</td>\n",
       "    </tr>\n",
       "    <tr>\n",
       "      <th>1</th>\n",
       "      <td>[sure, lost, flat, charact, audienc, nearli, h...</td>\n",
       "      <td>0</td>\n",
       "    </tr>\n",
       "    <tr>\n",
       "      <th>2</th>\n",
       "      <td>[attempt, arti, black, white, clever, camera, ...</td>\n",
       "      <td>0</td>\n",
       "    </tr>\n",
       "    <tr>\n",
       "      <th>3</th>\n",
       "      <td>[littl, music, anyth, speak]</td>\n",
       "      <td>0</td>\n",
       "    </tr>\n",
       "    <tr>\n",
       "      <th>4</th>\n",
       "      <td>[best, scene, movi, gerardo, tri, find, song, ...</td>\n",
       "      <td>1</td>\n",
       "    </tr>\n",
       "  </tbody>\n",
       "</table>\n",
       "</div>"
      ],
      "text/plain": [
       "                                                Text  Sentiment\n",
       "0  [slowmov, aimless, movi, distress, drift, youn...          0\n",
       "1  [sure, lost, flat, charact, audienc, nearli, h...          0\n",
       "2  [attempt, arti, black, white, clever, camera, ...          0\n",
       "3                       [littl, music, anyth, speak]          0\n",
       "4  [best, scene, movi, gerardo, tri, find, song, ...          1"
      ]
     },
     "execution_count": 8,
     "metadata": {},
     "output_type": "execute_result"
    }
   ],
   "source": [
    "Text_Preprocess(data, 'Text')\n",
    "data.head()"
   ]
  },
  {
   "cell_type": "markdown",
   "metadata": {},
   "source": [
    "## 2. Train models"
   ]
  },
  {
   "cell_type": "markdown",
   "metadata": {},
   "source": [
    "### 2.1 Naive Bayes classifier"
   ]
  },
  {
   "cell_type": "code",
   "execution_count": 9,
   "metadata": {
    "ExecuteTime": {
     "end_time": "2019-01-21T10:29:39.007857Z",
     "start_time": "2019-01-21T10:29:38.970008Z"
    },
    "run_control": {
     "marked": true
    }
   },
   "outputs": [
    {
     "name": "stdout",
     "output_type": "stream",
     "text": [
      "Training accuracy: 0.9786096256684492\n",
      "Test accuracy: 0.7754010695187166\n"
     ]
    }
   ],
   "source": [
    "from sklearn.model_selection import train_test_split\n",
    "from sklearn.feature_extraction.text import TfidfVectorizer\n",
    "from sklearn.metrics import accuracy_score, confusion_matrix\n",
    "from sklearn.naive_bayes import MultinomialNB\n",
    "\n",
    "\n",
    "# Split data to train/test sets\n",
    "X_train, X_test, y_train, y_test = train_test_split(data['Text'], data['Sentiment'])\n",
    "\n",
    "\n",
    "# Calculate TF-IDF matrix\n",
    "dummy = lambda doc: doc\n",
    "tfidf = TfidfVectorizer(\n",
    "    tokenizer=dummy,\n",
    "    preprocessor=dummy,\n",
    "    token_pattern=None)\n",
    "train_tf_idf = tfidf.fit_transform(X_train) \n",
    "test_tf_idf = tfidf.transform(X_test)\n",
    "\n",
    "\n",
    "# Naive Bayes classifier for multinomial models\n",
    "clf_nb = MultinomialNB()    \n",
    "clf_nb.fit(train_tf_idf, y_train)\n",
    "\n",
    "\n",
    "# Predict results\n",
    "train_result = clf_nb.predict(train_tf_idf)\n",
    "test_result = clf_nb.predict(test_tf_idf)\n",
    "\n",
    "\n",
    "# Calcualte accuracy scores\n",
    "train_score = accuracy_score(y_train, train_result) \n",
    "test_score = accuracy_score(y_test, test_result)    \n",
    "totalNB = confusion_matrix(y_train, train_result)\n",
    "\n",
    "print(f'Training accuracy: {train_score}\\nTest accuracy: {test_score}')"
   ]
  },
  {
   "cell_type": "markdown",
   "metadata": {
    "ExecuteTime": {
     "end_time": "2019-01-11T20:55:06.278648Z",
     "start_time": "2019-01-11T20:55:06.276355Z"
    }
   },
   "source": [
    "### 2.2 Logisitc Regression"
   ]
  },
  {
   "cell_type": "code",
   "execution_count": 10,
   "metadata": {
    "ExecuteTime": {
     "end_time": "2019-01-21T10:29:46.239306Z",
     "start_time": "2019-01-21T10:29:46.186101Z"
    },
    "run_control": {
     "marked": true
    }
   },
   "outputs": [
    {
     "name": "stdout",
     "output_type": "stream",
     "text": [
      "Training accuracy: 0.9786096256684492\n",
      "Test accuracy: 0.7807486631016043\n"
     ]
    }
   ],
   "source": [
    "from sklearn.linear_model import LogisticRegression\n",
    "\n",
    "# Logistic regression model\n",
    "clf_lg = LogisticRegression(solver='lbfgs').fit(train_tf_idf, y_train)\n",
    "\n",
    "\n",
    "# Predict results\n",
    "train_result = clf_lg.predict(train_tf_idf)\n",
    "test_result = clf_lg.predict(test_tf_idf)\n",
    "\n",
    "\n",
    "# Calcualte accuracy scores\n",
    "train_score = accuracy_score(y_train, train_result) \n",
    "test_score = accuracy_score(y_test, test_result)    \n",
    "\n",
    "\n",
    "print(f'Training accuracy: {train_score}\\nTest accuracy: {test_score}')"
   ]
  },
  {
   "cell_type": "markdown",
   "metadata": {},
   "source": [
    "## 3. Plot and Analysis "
   ]
  },
  {
   "cell_type": "markdown",
   "metadata": {
    "ExecuteTime": {
     "end_time": "2019-01-11T21:15:37.871244Z",
     "start_time": "2019-01-11T21:15:37.868369Z"
    }
   },
   "source": [
    "### 3.1 Roc curve"
   ]
  },
  {
   "cell_type": "code",
   "execution_count": 11,
   "metadata": {
    "ExecuteTime": {
     "end_time": "2019-01-21T10:29:55.043278Z",
     "start_time": "2019-01-21T10:29:54.418021Z"
    },
    "run_control": {
     "marked": false
    }
   },
   "outputs": [
    {
     "data": {
      "image/png": "[encoded data removed]",
      "text/plain": [
       "<Figure size 576x576 with 1 Axes>"
      ]
     },
     "metadata": {},
     "output_type": "display_data"
    }
   ],
   "source": [
    "from sklearn.metrics import roc_curve, auc\n",
    "from sklearn.preprocessing import label_binarize\n",
    "import seaborn as sns\n",
    "\n",
    "sns.set('talk', 'whitegrid', 'dark', font_scale=0.85,\n",
    "        rc={\"lines.linewidth\": 2, 'grid.linestyle': '--'})\n",
    "\n",
    "\n",
    "''' plotting multi-class roc curve'''\n",
    "# predict probabilities\n",
    "y_pred_nb = clf_nb.predict_proba(test_tf_idf)\n",
    "y_pred_lg = clf_lg.predict_proba(test_tf_idf)\n",
    "\n",
    "\n",
    "# plot\n",
    "fig = plt.figure(figsize=(8,8))\n",
    "\n",
    "for y_pred, name, cl in ((y_pred_nb, 'Naive Bayes model', 'royalblue'), \n",
    "                         (y_pred_lg, 'Logisic Regression model', 'orangered')):\n",
    "    fpr, tpr, _ = roc_curve(y_test, y_pred[:, 1])\n",
    "    roc_auc = auc(fpr, tpr)\n",
    "    plt.plot(fpr, tpr, color=cl, \n",
    "             lw=2, label=f'{name} (area = %0.2f)' % roc_auc)\n",
    "\n",
    "plt.plot([0, 1], [0, 1], color='gold', lw=2, linestyle='--')\n",
    "plt.xlim([0.0, 1.0])\n",
    "plt.ylim([0.0, 1.05])\n",
    "plt.xlabel('False Positive Rate')\n",
    "plt.ylabel('True Positive Rate')\n",
    "plt.title('Receiver operating characteristic (ROC)')\n",
    "plt.legend(loc=\"lower right\")\n",
    "plt.savefig(PATH + 'roc.png')\n",
    "plt.show()"
   ]
  },
  {
   "cell_type": "markdown",
   "metadata": {
    "ExecuteTime": {
     "end_time": "2019-01-11T23:43:01.225903Z",
     "start_time": "2019-01-11T23:43:01.211819Z"
    }
   },
   "source": [
    "### 3.2 Analysis"
   ]
  },
  {
   "cell_type": "markdown",
   "metadata": {},
   "source": [
    "<div style=\"text-align: right\">\n",
    "همانطور که در نمودار مشاهده می‌شود، مدل بیز بهتر است.\n",
    "\n",
    "\n",
    "\n",
    "\n",
    "\n",
    "</div>"
   ]
  },
  {
   "cell_type": "code",
   "execution_count": null,
   "metadata": {},
   "outputs": [],
   "source": []
  }
 ],
 "metadata": {
  "kernelspec": {
   "display_name": "Python [conda root]",
   "language": "python",
   "name": "conda-root-py"
  },
  "language_info": {
   "codemirror_mode": {
    "name": "ipython",
    "version": 3
   },
   "file_extension": ".py",
   "mimetype": "text/x-python",
   "name": "python",
   "nbconvert_exporter": "python",
   "pygments_lexer": "ipython3",
   "version": "3.6.8"
  },
  "latex_envs": {
   "LaTeX_envs_menu_present": true,
   "autoclose": false,
   "autocomplete": true,
   "bibliofile": "biblio.bib",
   "cite_by": "apalike",
   "current_citInitial": 1,
   "eqLabelWithNumbers": true,
   "eqNumInitial": 1,
   "hotkeys": {
    "equation": "Ctrl-E",
    "itemize": "Ctrl-I"
   },
   "labels_anchors": false,
   "latex_user_defs": false,
   "report_style_numbering": false,
   "user_envs_cfg": false
  },
  "varInspector": {
   "cols": {
    "lenName": 16,
    "lenType": 16,
    "lenVar": 40
   },
   "kernels_config": {
    "python": {
     "delete_cmd_postfix": "",
     "delete_cmd_prefix": "del ",
     "library": "var_list.py",
     "varRefreshCmd": "print(var_dic_list())"
    },
    "r": {
     "delete_cmd_postfix": ") ",
     "delete_cmd_prefix": "rm(",
     "library": "var_list.r",
     "varRefreshCmd": "cat(var_dic_list()) "
    }
   },
   "types_to_exclude": [
    "module",
    "function",
    "builtin_function_or_method",
    "instance",
    "_Feature"
   ],
   "window_display": false
  }
 },
 "nbformat": 4,
 "nbformat_minor": 2
}
